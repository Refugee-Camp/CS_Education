{
  "cells": [
    {
      "metadata": {
        "collapsed": true
      },
      "cell_type": "markdown",
      "source": "# CONDITIONS AND BRANCHING "
    },
    {
      "metadata": {
        "trusted": true
      },
      "cell_type": "code",
      "source": "# Comparison operators\n\na = 6\na == 7",
      "execution_count": 2,
      "outputs": [
        {
          "output_type": "execute_result",
          "execution_count": 2,
          "data": {
            "text/plain": "True"
          },
          "metadata": {}
        }
      ]
    },
    {
      "metadata": {
        "trusted": true
      },
      "cell_type": "code",
      "source": "i = 7\ni > 5",
      "execution_count": 4,
      "outputs": [
        {
          "output_type": "execute_result",
          "execution_count": 4,
          "data": {
            "text/plain": "True"
          },
          "metadata": {}
        }
      ]
    },
    {
      "metadata": {
        "trusted": true
      },
      "cell_type": "code",
      "source": "b = 5\nb != 5",
      "execution_count": 6,
      "outputs": [
        {
          "output_type": "execute_result",
          "execution_count": 6,
          "data": {
            "text/plain": "False"
          },
          "metadata": {}
        }
      ]
    },
    {
      "metadata": {
        "trusted": true
      },
      "cell_type": "code",
      "source": "\"AC/DC\" == \"Michael Jacson\"",
      "execution_count": 7,
      "outputs": [
        {
          "output_type": "execute_result",
          "execution_count": 7,
          "data": {
            "text/plain": "False"
          },
          "metadata": {}
        }
      ]
    },
    {
      "metadata": {
        "trusted": true
      },
      "cell_type": "code",
      "source": "\"AC/DC\" != \"Michael Jacson\"",
      "execution_count": 8,
      "outputs": [
        {
          "output_type": "execute_result",
          "execution_count": 8,
          "data": {
            "text/plain": "True"
          },
          "metadata": {}
        }
      ]
    },
    {
      "metadata": {
        "trusted": true
      },
      "cell_type": "code",
      "source": "# Branching\n\nage = input(\"Enter your age \")\n\nif int(age) == 18:\n    print(\"Access granted to AC/DC\")\nelif int(age) >=19:\n    print(\"Access granted to Pink Floyd\")\nelse:\n    print(\"Access denied\")",
      "execution_count": 32,
      "outputs": [
        {
          "output_type": "stream",
          "name": "stdout",
          "text": "Enter your age 11\nAccess denied\n"
        }
      ]
    },
    {
      "metadata": {
        "trusted": true
      },
      "cell_type": "code",
      "source": "# Logic operators\n\nnot(False)",
      "execution_count": 36,
      "outputs": [
        {
          "output_type": "execute_result",
          "execution_count": 36,
          "data": {
            "text/plain": "True"
          },
          "metadata": {}
        }
      ]
    },
    {
      "metadata": {
        "trusted": true
      },
      "cell_type": "code",
      "source": "# or\n\nalbum_year = 1980\n\nif (album_year > 1990) or (album_year > 2000):\n    print(\"New Music\")\nelse:\n    print('Old music')",
      "execution_count": 38,
      "outputs": [
        {
          "output_type": "stream",
          "text": "Old music\n",
          "name": "stdout"
        }
      ]
    },
    {
      "metadata": {
        "trusted": true
      },
      "cell_type": "code",
      "source": "# and\n\nalbum_year = 1980\n\nif (album_year > 1990) and (album_year > 2000):\n    print(\"New Music\")\nelse:\n    print('Old music')",
      "execution_count": 39,
      "outputs": [
        {
          "output_type": "stream",
          "text": "Old music\n",
          "name": "stdout"
        }
      ]
    },
    {
      "metadata": {},
      "cell_type": "markdown",
      "source": "# LOOPS "
    },
    {
      "metadata": {
        "trusted": true
      },
      "cell_type": "code",
      "source": "# range function\n\nrange(3)",
      "execution_count": 3,
      "outputs": [
        {
          "output_type": "execute_result",
          "execution_count": 3,
          "data": {
            "text/plain": "range(0, 3)"
          },
          "metadata": {}
        }
      ]
    },
    {
      "metadata": {
        "trusted": true
      },
      "cell_type": "code",
      "source": "# for loops\n\nsquares = ['red', 'yellow', 'green', 'black', 'gray']\n\nfor a in range(0,5):\n    squares[a] = 'white'\n    print(squares)",
      "execution_count": 4,
      "outputs": [
        {
          "output_type": "stream",
          "text": "['white', 'yellow', 'green', 'black', 'gray']\n['white', 'white', 'green', 'black', 'gray']\n['white', 'white', 'white', 'black', 'gray']\n['white', 'white', 'white', 'white', 'gray']\n['white', 'white', 'white', 'white', 'white']\n",
          "name": "stdout"
        }
      ]
    },
    {
      "metadata": {
        "trusted": true
      },
      "cell_type": "code",
      "source": "squares = ['red', 'yellow', 'green', 'black', 'gray']\n\nfor square in squares:\n    print(square)",
      "execution_count": 5,
      "outputs": [
        {
          "output_type": "stream",
          "text": "red\nyellow\ngreen\nblack\ngray\n",
          "name": "stdout"
        }
      ]
    },
    {
      "metadata": {
        "trusted": true
      },
      "cell_type": "code",
      "source": "# enumerate\n\nsquares = ['red', 'yellow', 'green', 'black', 'gray']\n\nfor i,square in enumerate(squares):\n    print(square)\n    print(i)",
      "execution_count": 2,
      "outputs": [
        {
          "output_type": "stream",
          "text": "red\n0\nyellow\n1\ngreen\n2\nblack\n3\ngray\n4\n",
          "name": "stdout"
        }
      ]
    },
    {
      "metadata": {
        "trusted": true
      },
      "cell_type": "code",
      "source": "# while loop\n\nsquares = ['red', 'yellow', 'green', 'black', 'gray', 'orange']\n\nnew_squares = []\ni = 0\n\nwhile (squares[i] != 'orange'):\n    new_squares.append(squares[i])\n    i = i + 1\n    print(i,new_squares)",
      "execution_count": 1,
      "outputs": [
        {
          "output_type": "stream",
          "text": "1 ['red']\n2 ['red', 'yellow']\n3 ['red', 'yellow', 'green']\n4 ['red', 'yellow', 'green', 'black']\n5 ['red', 'yellow', 'green', 'black', 'gray']\n",
          "name": "stdout"
        }
      ]
    },
    {
      "metadata": {
        "trusted": true
      },
      "cell_type": "markdown",
      "source": "# Functions"
    },
    {
      "metadata": {
        "trusted": true
      },
      "cell_type": "code",
      "source": "# len\nraiting = [1,4,3,4,5,6,7,8,9]\n\nlen(raiting)",
      "execution_count": 8,
      "outputs": [
        {
          "output_type": "execute_result",
          "execution_count": 8,
          "data": {
            "text/plain": "9"
          },
          "metadata": {}
        }
      ]
    },
    {
      "metadata": {
        "trusted": true
      },
      "cell_type": "code",
      "source": "# Sum\n\nsum(raiting)",
      "execution_count": 3,
      "outputs": [
        {
          "output_type": "execute_result",
          "execution_count": 3,
          "data": {
            "text/plain": "45"
          },
          "metadata": {}
        }
      ]
    },
    {
      "metadata": {
        "trusted": true
      },
      "cell_type": "code",
      "source": "# Sort vs Sorted\n\nsorted(raiting)",
      "execution_count": 9,
      "outputs": [
        {
          "output_type": "execute_result",
          "execution_count": 9,
          "data": {
            "text/plain": "[1, 3, 4, 4, 5, 6, 7, 8, 9]"
          },
          "metadata": {}
        }
      ]
    },
    {
      "metadata": {
        "trusted": true
      },
      "cell_type": "code",
      "source": "raiting.sort()",
      "execution_count": 14,
      "outputs": []
    },
    {
      "metadata": {
        "trusted": true
      },
      "cell_type": "code",
      "source": "# Making a Functions\n\ndef add1(a):\n\n    \"\"\"\"\"\"\n    b = a+1\n    return b\nadd1(int(input()))",
      "execution_count": 23,
      "outputs": [
        {
          "output_type": "stream",
          "name": "stdout",
          "text": "12\n"
        },
        {
          "output_type": "execute_result",
          "execution_count": 23,
          "data": {
            "text/plain": "13"
          },
          "metadata": {}
        }
      ]
    },
    {
      "metadata": {
        "trusted": true
      },
      "cell_type": "code",
      "source": "help(add1)",
      "execution_count": 25,
      "outputs": [
        {
          "output_type": "stream",
          "text": "Help on function add1 in module __main__:\n\nadd1(a)\n\n",
          "name": "stdout"
        }
      ]
    },
    {
      "metadata": {
        "trusted": true
      },
      "cell_type": "code",
      "source": "def mult(a,b):\n    c = a*b\n    return c\n\nmult(2,'Metallica ')",
      "execution_count": 28,
      "outputs": [
        {
          "output_type": "execute_result",
          "execution_count": 28,
          "data": {
            "text/plain": "'Metallica Metallica '"
          },
          "metadata": {}
        }
      ]
    },
    {
      "metadata": {
        "trusted": true
      },
      "cell_type": "code",
      "source": "# No return value\ndef mj():\n    print(\"Word1\")\nmj()",
      "execution_count": 29,
      "outputs": [
        {
          "output_type": "stream",
          "text": "Word1\n",
          "name": "stdout"
        }
      ]
    },
    {
      "metadata": {
        "trusted": true
      },
      "cell_type": "code",
      "source": "# Empty function (non empty body)\n\ndef nowork():\n    pass\nprint(nowork())\n\ndef nonwork():\n    pass\n    return None\nprint(nonwork())",
      "execution_count": 36,
      "outputs": [
        {
          "output_type": "stream",
          "text": "None\nNone\n",
          "name": "stdout"
        }
      ]
    },
    {
      "metadata": {
        "trusted": true
      },
      "cell_type": "code",
      "source": "def add1(a):\n    b = a+1;\n    print(a, 'plus 1 equals', b)\n    return b\nadd1(2)",
      "execution_count": 39,
      "outputs": [
        {
          "output_type": "stream",
          "text": "2 plus 1 equals 3\n",
          "name": "stdout"
        },
        {
          "output_type": "execute_result",
          "execution_count": 39,
          "data": {
            "text/plain": "3"
          },
          "metadata": {}
        }
      ]
    },
    {
      "metadata": {
        "trusted": true
      },
      "cell_type": "code",
      "source": "# loops in functions\nalbum_raiting = [1,2,3,4,5,6,7,8,9]\n\ndef print_stuff(stuff):\n    for i,s in enumerate(stuff):\n        print(\"album\", i, 'rating',s)\n\nprint_stuff(album_raiting)",
      "execution_count": 44,
      "outputs": [
        {
          "output_type": "stream",
          "text": "album 0 rating 1\nalbum 1 rating 2\nalbum 2 rating 3\nalbum 3 rating 4\nalbum 4 rating 5\nalbum 5 rating 6\nalbum 6 rating 7\nalbum 7 rating 8\nalbum 8 rating 9\n",
          "name": "stdout"
        }
      ]
    },
    {
      "metadata": {
        "trusted": true
      },
      "cell_type": "code",
      "source": "# Collecting argument\n\ndef aname(*names):\n    for name in names:\n        print(name)\n        \naname('Metallica', 'AC/DC', 'Linking Park', 'Santana')",
      "execution_count": 53,
      "outputs": [
        {
          "output_type": "stream",
          "text": "Metallica\nAC/DC\nLinking Park\nSantana\n",
          "name": "stdout"
        }
      ]
    },
    {
      "metadata": {
        "trusted": true
      },
      "cell_type": "code",
      "source": "x = 'AC'\n\ndef addDC(y):\n    y = x + '/DC'\n    print(y)\n    return y\n\nz = addDC(x)",
      "execution_count": 66,
      "outputs": [
        {
          "output_type": "stream",
          "text": "AC/DC\n",
          "name": "stdout"
        }
      ]
    },
    {
      "metadata": {
        "trusted": true
      },
      "cell_type": "code",
      "source": "# Local variables\n\ndef thriller():\n    data = 1982\n    return data\nthriller()",
      "execution_count": 67,
      "outputs": [
        {
          "output_type": "execute_result",
          "execution_count": 67,
          "data": {
            "text/plain": "1982"
          },
          "metadata": {}
        }
      ]
    },
    {
      "metadata": {
        "trusted": true
      },
      "cell_type": "code",
      "source": "# Global Scope\n\ndef ACDC(y):\n    print(raiting)\n    return (raiting+y)\n\nraiting = 9\n\nz = ACDC(1)\nprint(z)",
      "execution_count": 73,
      "outputs": [
        {
          "output_type": "stream",
          "text": "9\n10\n",
          "name": "stdout"
        }
      ]
    },
    {
      "metadata": {
        "trusted": true
      },
      "cell_type": "code",
      "source": "def pinkfloyd():\n    global claimedsales\n    claimedsales = '45 millions'\n    return claimedsales\n\npinkfloyd()",
      "execution_count": 77,
      "outputs": [
        {
          "output_type": "execute_result",
          "execution_count": 77,
          "data": {
            "text/plain": "'45 millions'"
          },
          "metadata": {}
        }
      ]
    },
    {
      "metadata": {
        "trusted": true
      },
      "cell_type": "code",
      "source": "print(claimedsales)",
      "execution_count": 78,
      "outputs": [
        {
          "output_type": "stream",
          "text": "45 millions\n",
          "name": "stdout"
        }
      ]
    },
    {
      "metadata": {},
      "cell_type": "markdown",
      "source": "# Objects and Classes"
    },
    {
      "metadata": {
        "trusted": true
      },
      "cell_type": "code",
      "source": "# Data types:\n# Ints\n# Floats\n# Strings\n# Lists\n# Dictionary\n# Bool\n\n## Each is an object",
      "execution_count": 79,
      "outputs": []
    },
    {
      "metadata": {
        "trusted": true
      },
      "cell_type": "code",
      "source": "# Class\n\nclass circle(object):\n    def __init__ (self, radius, color):\n        self.radius = radius;\n        self.color = color;\n        \nC1 = circle(10,'red')\n\nC1.color = 'blue'\nC1.color",
      "execution_count": 88,
      "outputs": [
        {
          "output_type": "execute_result",
          "execution_count": 88,
          "data": {
            "text/plain": "'blue'"
          },
          "metadata": {}
        }
      ]
    },
    {
      "metadata": {
        "trusted": true
      },
      "cell_type": "code",
      "source": "class rectangle(object):\n     def __init__ (self, color, hight, width):\n        self.radius = hight;\n        self.radius = width;\n        self.color = color;",
      "execution_count": 89,
      "outputs": []
    },
    {
      "metadata": {
        "trusted": true
      },
      "cell_type": "code",
      "source": "# Lab\n\nclass Car(object):\n    def __init__(self,make,model,color):\n        self.make=make;\n        self.model=model;\n        self.color=color;\n        self.owner_number=0 \n    def car_info(self):\n        print(\"make: \",self.make)\n        print(\"model:\", self.model)\n        print(\"color:\",self.color)\n        print(\"number of owners:\",self.owner_number)\n    def sell(self):\n        self.owner_number=self.owner_number+1",
      "execution_count": 92,
      "outputs": []
    },
    {
      "metadata": {
        "trusted": true
      },
      "cell_type": "code",
      "source": "#Create a Car object \n#Create a Car object my_car with the given data attributes:\n\nmake=\"BMW\"\nmodel=\"M3\"\ncolor=\"red\"\n\nmy_car = Car(make, model, color)",
      "execution_count": 94,
      "outputs": []
    },
    {
      "metadata": {
        "trusted": true
      },
      "cell_type": "code",
      "source": "#Data Attributes \n#Use the method car_info() to print out the data attributes\n\nmy_car.car_info()",
      "execution_count": 95,
      "outputs": [
        {
          "output_type": "stream",
          "text": "make:  BMW\nmodel: M3\ncolor: red\nnumber of owners: 0\n",
          "name": "stdout"
        }
      ]
    },
    {
      "metadata": {
        "trusted": true
      },
      "cell_type": "code",
      "source": "#Methods \n#Call the method sell() in the loop, then call the method car_info() again\n\nfor i in range(5):\n    my_car.sell()\nmy_car.car_info()",
      "execution_count": 96,
      "outputs": [
        {
          "output_type": "stream",
          "text": "make:  BMW\nmodel: M3\ncolor: red\nnumber of owners: 5\n",
          "name": "stdout"
        }
      ]
    }
  ],
  "metadata": {
    "kernelspec": {
      "name": "python36",
      "display_name": "Python 3.6",
      "language": "python"
    },
    "language_info": {
      "mimetype": "text/x-python",
      "nbconvert_exporter": "python",
      "name": "python",
      "pygments_lexer": "ipython3",
      "version": "3.6.6",
      "file_extension": ".py",
      "codemirror_mode": {
        "version": 3,
        "name": "ipython"
      }
    }
  },
  "nbformat": 4,
  "nbformat_minor": 2
}