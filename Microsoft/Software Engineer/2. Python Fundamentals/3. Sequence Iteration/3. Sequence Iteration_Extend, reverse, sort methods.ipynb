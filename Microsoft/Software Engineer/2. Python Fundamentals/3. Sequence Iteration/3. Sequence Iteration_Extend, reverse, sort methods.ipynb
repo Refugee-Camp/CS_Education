{
  "cells": [
    {
      "metadata": {
        "trusted": true
      },
      "cell_type": "code",
      "source": "# [ ] review and run example\nvisited_cities = [\"New York\", \"Shanghai\", \"Munich\", \"Toyko\", \"Dubai\", \"Mexico City\", \"São Paulo\", \"Hyderabad\"]\nwish_cities = [\"Reykjavík\", \"Moscow\", \"Beijing\", \"Lamu\"]\n\n# .extend() \n# extending visited_cities list (IN PLACE) by concatenating wish_cities\nvisited_cities.extend(wish_cities)\nprint(\"ALL CITIES\",visited_cities)",
      "execution_count": 1,
      "outputs": [
        {
          "output_type": "stream",
          "text": "ALL CITIES ['New York', 'Shanghai', 'Munich', 'Toyko', 'Dubai', 'Mexico City', 'São Paulo', 'Hyderabad', 'Reykjavík', 'Moscow', 'Beijing', 'Lamu']\n",
          "name": "stdout"
        }
      ]
    },
    {
      "metadata": {
        "trusted": true
      },
      "cell_type": "code",
      "source": "# [ ] review and run example\nvisited_cities = [\"New York\", \"Shanghai\", \"Munich\", \"Toyko\", \"Dubai\", \"Mexico City\", \"São Paulo\", \"Hyderabad\"]\nwish_cities = [\"Reykjavík\", \"Moscow\", \"Beijing\", \"Lamu\"]\n\n# (+) Addition operator for lists creates a (NEW) combined List\nall_cities = visited_cities + wish_cities\n\nprint(\"ALL CITIES\")\nfor city in all_cities:\n    print(city)",
      "execution_count": 2,
      "outputs": [
        {
          "output_type": "stream",
          "text": "ALL CITIES\nNew York\nShanghai\nMunich\nToyko\nDubai\nMexico City\nSão Paulo\nHyderabad\nReykjavík\nMoscow\nBeijing\nLamu\n",
          "name": "stdout"
        }
      ]
    },
    {
      "metadata": {
        "trusted": true
      },
      "cell_type": "code",
      "source": "# [ ] review and run example\nteam_a = [0,2,2,2,4,4,4,5,6,6,6]\nteam_b = [0,0,0,1,1,2,3,3,3,6,8]\nprint(\"Team A:\", team_a, \"\\nTeam B:\",team_b)\n\n# (+) Addition operator \nteam_totals = team_a + team_b\nprint(\"Team Totals\", team_totals)\n# [ ] review and run example after running cell above\n# .extend() \nteam_a.extend(team_b)\nprint(\"Team_a extended\", team_a)\n\n# what happens if you keep running this cell?",
      "execution_count": 3,
      "outputs": [
        {
          "output_type": "stream",
          "text": "Team A: [0, 2, 2, 2, 4, 4, 4, 5, 6, 6, 6] \nTeam B: [0, 0, 0, 1, 1, 2, 3, 3, 3, 6, 8]\nTeam Totals [0, 2, 2, 2, 4, 4, 4, 5, 6, 6, 6, 0, 0, 0, 1, 1, 2, 3, 3, 3, 6, 8]\nTeam_a extended [0, 2, 2, 2, 4, 4, 4, 5, 6, 6, 6, 0, 0, 0, 1, 1, 2, 3, 3, 3, 6, 8]\n",
          "name": "stdout"
        }
      ]
    },
    {
      "metadata": {
        "trusted": true
      },
      "cell_type": "code",
      "source": "# Task 1\n# [ ] extend the list common_birds with list birds_seen which you must create\ncommon_birds = [\"chicken\", \"blue jay\", \"crow\", \"pigeon\"]\nbirds_seen = [\"word1\", \"word2\", \"word3\"]\n\ncommon_birds.extend(birds_seen)\n\nprint(common_birds)\n\nfor birds in common_birds:\n    print(birds)",
      "execution_count": 6,
      "outputs": [
        {
          "output_type": "stream",
          "text": "['chicken', 'blue jay', 'crow', 'pigeon', 'word1', 'word2', 'word3']\nchicken\nblue jay\ncrow\npigeon\nword1\nword2\nword3\n",
          "name": "stdout"
        }
      ]
    },
    {
      "metadata": {
        "trusted": true
      },
      "cell_type": "code",
      "source": "# [ ] Create 2 lists zero_nine and ten_onehundred that contain 1-9, and 10 - 100 by 10's.\n# [ ] use list addition to concatenate the lists into all_num and print\n\nzero_nine = [1,2,3,4,5,6,7,8,9]\nten_onehundred = [10,20,30,40,50,60,70,80,90,100]\n\nall_num = zero_nine + ten_onehundred\n\nprint(all_num)",
      "execution_count": 7,
      "outputs": [
        {
          "output_type": "stream",
          "text": "[1, 2, 3, 4, 5, 6, 7, 8, 9, 10, 20, 30, 40, 50, 60, 70, 80, 90, 100]\n",
          "name": "stdout"
        }
      ]
    },
    {
      "metadata": {
        "trusted": true
      },
      "cell_type": "code",
      "source": "# [ ] review and run example\ncities_1 = [\"Dubai\", \"Mexico City\", \"São Paulo\", \"Hyderabad\"]\n\nprint(\"regular\", cities_1)\ncities_1.reverse()\nprint(\"reversed\", cities_1)",
      "execution_count": 8,
      "outputs": [
        {
          "output_type": "stream",
          "text": "regular ['Dubai', 'Mexico City', 'São Paulo', 'Hyderabad']\nreversed ['Hyderabad', 'São Paulo', 'Mexico City', 'Dubai']\n",
          "name": "stdout"
        }
      ]
    },
    {
      "metadata": {
        "trusted": true
      },
      "cell_type": "code",
      "source": "# [ ] review and run example\nall_num = [0, 1, 2, 3, 4, 5, 6, 7, 8, 9, 10, 20, 30, 40, 50, 60, 70, 80, 90, 100]\nprint(\"regular list\",all_num, \"\\n\")\nall_num.reverse()\nprint(\"reverse list\",all_num, \"\\n\")\nnum_len = len(all_num)\n\nprint(\"Three Multiple\")\nfor num in all_num:\n    if num/3 == int(num/3):\n        print(num)\n    else:\n        pass",
      "execution_count": 9,
      "outputs": [
        {
          "output_type": "stream",
          "text": "regular list [0, 1, 2, 3, 4, 5, 6, 7, 8, 9, 10, 20, 30, 40, 50, 60, 70, 80, 90, 100] \n\nreverse list [100, 90, 80, 70, 60, 50, 40, 30, 20, 10, 9, 8, 7, 6, 5, 4, 3, 2, 1, 0] \n\nThree Multiple\n90\n60\n30\n9\n6\n3\n0\n",
          "name": "stdout"
        }
      ]
    },
    {
      "metadata": {
        "trusted": true
      },
      "cell_type": "code",
      "source": "# [ ] review and run example\n# create a list of  numbers by casting a range \ncount_list = list(range(21))\nprint(\"before list\", count_list)\n\n# and reverse\ncount_list.reverse()\nprint(\"after list\", count_list)",
      "execution_count": 10,
      "outputs": [
        {
          "output_type": "stream",
          "text": "before list [0, 1, 2, 3, 4, 5, 6, 7, 8, 9, 10, 11, 12, 13, 14, 15, 16, 17, 18, 19, 20]\nafter list [20, 19, 18, 17, 16, 15, 14, 13, 12, 11, 10, 9, 8, 7, 6, 5, 4, 3, 2, 1, 0]\n",
          "name": "stdout"
        }
      ]
    },
    {
      "metadata": {
        "trusted": true
      },
      "cell_type": "code",
      "source": "# Task 2\n# [ ] create and  print a list of multiples of 5 from 5 to 100\n# { ] reverse the list and print\n\nlist_1 = [5,10,15,20,25,30,35,40,45,50,55,60,65,70,75,80,85,90,95,100]\n\nlist_1.reverse()\nprint(list_1)",
      "execution_count": 1,
      "outputs": [
        {
          "output_type": "stream",
          "text": "[100, 95, 90, 85, 80, 75, 70, 65, 60, 55, 50, 45, 40, 35, 30, 25, 20, 15, 10, 5]\n",
          "name": "stdout"
        }
      ]
    },
    {
      "metadata": {
        "trusted": true
      },
      "cell_type": "code",
      "source": "# [ ] Create two lists: fours & more_fours containing multiples of four from 4 to 44\n# [ ] combine and print so that the output is mirrored [44, 40,...8, 4, 4, 8, ...40, 44]\n\nfours = [4,8,12,16,20,24,28,32,36,40,44]\nmore_fours = [4,8,12,16,20,24,28,32,36,40,44]\n\nfours.reverse()\n\nfours.extend(more_fours)\n\nprint(fours)",
      "execution_count": 9,
      "outputs": [
        {
          "output_type": "stream",
          "text": "[44, 40, 36, 32, 28, 24, 20, 16, 12, 8, 4, 4, 8, 12, 16, 20, 24, 28, 32, 36, 40, 44]\n",
          "name": "stdout"
        }
      ]
    },
    {
      "metadata": {
        "trusted": true
      },
      "cell_type": "code",
      "source": "# [ ] review and run example\nquiz_scores = [20, 19, 20, 15, 20, 20, 20, 18, 18, 18, 19]\n\n# use .sort()\nquiz_scores.sort()\n\nprint(\"quiz_scores:\", quiz_scores)",
      "execution_count": 10,
      "outputs": [
        {
          "output_type": "stream",
          "text": "quiz_scores: [15, 18, 18, 18, 19, 19, 20, 20, 20, 20, 20]\n",
          "name": "stdout"
        }
      ]
    },
    {
      "metadata": {
        "trusted": true
      },
      "cell_type": "code",
      "source": "# [ ] review and run example\ngame_points = [3, 14, 0, 8, 21, 1, 3, 8]\n\n# use sorted()\nsorted_points = sorted(game_points)\n\nprint(\"game_points:\", game_points)\nprint(\"sorted_points:\", sorted_points)",
      "execution_count": 11,
      "outputs": [
        {
          "output_type": "stream",
          "text": "game_points: [3, 14, 0, 8, 21, 1, 3, 8]\nsorted_points: [0, 1, 3, 3, 8, 8, 14, 21]\n",
          "name": "stdout"
        }
      ]
    },
    {
      "metadata": {
        "trusted": true
      },
      "cell_type": "code",
      "source": "# [ ] review and run example\ncities_1 = [\"Dubai\", \"Mexico City\", \"São Paulo\", \"Hyderabad\"]\n\nprint(\"Unsorted\", cities_1)\ncities_1.sort()\nprint(\"Sorted\", cities_1)",
      "execution_count": 12,
      "outputs": [
        {
          "output_type": "stream",
          "text": "Unsorted ['Dubai', 'Mexico City', 'São Paulo', 'Hyderabad']\nSorted ['Dubai', 'Hyderabad', 'Mexico City', 'São Paulo']\n",
          "name": "stdout"
        }
      ]
    },
    {
      "metadata": {
        "trusted": true
      },
      "cell_type": "code",
      "source": "# Task 3\n# [ ] print cites from visited_cities list in alphbetical order using .sort()\n# [ ] only print cities that names start \"Q\" or earlier\nvisited_cities = [\"New York\", \"Shanghai\", \"Munich\", \"Toyko\", \"Dubai\", \"Mexico City\", \"São Paulo\", \"Hyderabad\"]\nvisited_cities.sort()\nprint(visited_cities)",
      "execution_count": 16,
      "outputs": [
        {
          "output_type": "stream",
          "text": "['Dubai', 'Hyderabad', 'Mexico City', 'Munich', 'New York', 'Shanghai', 'São Paulo', 'Toyko']\n",
          "name": "stdout"
        }
      ]
    },
    {
      "metadata": {
        "trusted": true
      },
      "cell_type": "code",
      "source": "# [ ] build a list (add_animals) using a while loop, stop adding when an empty string is entered\nadd_animals = []\nanimals = [\"Chimpanzee\", \"Panther\", \"Wolf\", \"Armadillo\"]\n\nwhile True:\n    user_input = input ('Please enter a name: ')\n    add_animals.append(user_input)\n    if user_input == \"\":\n        break\n\nprint(add_animals)\n\nadd_animals.extend(animals)\nprint(add_animals)\n\n\nadd_animals.sort()\nadd_animals.reverse()\nprint(add_animals)",
      "execution_count": null,
      "outputs": []
    },
    {
      "metadata": {
        "trusted": true
      },
      "cell_type": "code",
      "source": "",
      "execution_count": null,
      "outputs": []
    }
  ],
  "metadata": {
    "kernelspec": {
      "name": "python36",
      "display_name": "Python 3.6",
      "language": "python"
    },
    "language_info": {
      "mimetype": "text/x-python",
      "nbconvert_exporter": "python",
      "name": "python",
      "pygments_lexer": "ipython3",
      "version": "3.6.3",
      "file_extension": ".py",
      "codemirror_mode": {
        "version": 3,
        "name": "ipython"
      }
    }
  },
  "nbformat": 4,
  "nbformat_minor": 2
}