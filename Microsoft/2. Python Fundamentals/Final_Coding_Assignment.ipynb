{
  "cells": [
    {
      "metadata": {
        "trusted": true
      },
      "cell_type": "code",
      "source": "periodic_table_20 = [\"Hydrogen\", \"Helium\", \"Lithium\", \"Beryllium\", \"Boron\", \"Carbon\", \"Nitrogen\", \"Oxygen\", \"Fluorine\",\n                     \"Neon\", \"Sodium\", \"Magnesium\", \"Aluminium\", \"Silicon\", \"Phosphorous\", \"Sulfur\", \"Chlorine\",\n                     \"Argon\", \"Potassium\", \"Calcium\"]\ncorrect = 0\nincorrect = 0\nguessed_elements = []\nwrong_guesses = []\nnumber_guesses = 0\n\n    \nwhile number_guesses < 5:\n    guess = input(\"List any 5 of the first 20 elements in the Periodic Table: \")\n    guess = guess.lower().title()\n    if guess in guessed_elements or guess in wrong_guesses:\n        print(guess, \"has already been entered.\")\n        number_guesses += 0\n\n    elif guess in periodic_table_20:\n        guessed_elements.append(guess)\n        correct += 1\n        number_guesses += 1\n\n    else:\n        wrong_guesses.append(guess)\n        incorrect += 1\n        number_guesses += 1\nprint(\"You have guessed 5 elements.\")\nprint(((correct / 5) * 100), \"% correct.\")\nprint(\"Correct:\", guessed_elements)\nprint(\"Wrong:\", wrong_guesses)",
      "execution_count": null,
      "outputs": []
    },
    {
      "metadata": {
        "trusted": true
      },
      "cell_type": "code",
      "source": "",
      "execution_count": null,
      "outputs": []
    }
  ],
  "metadata": {
    "kernelspec": {
      "name": "python36",
      "display_name": "Python 3.6",
      "language": "python"
    },
    "language_info": {
      "mimetype": "text/x-python",
      "nbconvert_exporter": "python",
      "name": "python",
      "pygments_lexer": "ipython3",
      "version": "3.6.6",
      "file_extension": ".py",
      "codemirror_mode": {
        "version": 3,
        "name": "ipython"
      }
    }
  },
  "nbformat": 4,
  "nbformat_minor": 2
}