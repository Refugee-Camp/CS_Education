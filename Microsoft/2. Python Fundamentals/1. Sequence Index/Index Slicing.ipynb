{
 "cells": [
  {
   "cell_type": "code",
   "execution_count": 2,
   "metadata": {},
   "outputs": [
    {
     "data": {
      "text/plain": [
       "'let'"
      ]
     },
     "execution_count": 2,
     "metadata": {},
     "output_type": "execute_result"
    }
   ],
   "source": [
    "# assign string to student_name\n",
    "student_name = \"Colette\"\n",
    "# addressing the 3rd, 4th and 5th characters\n",
    "student_name[2:5]"
   ]
  },
  {
   "cell_type": "code",
   "execution_count": 4,
   "metadata": {},
   "outputs": [
    {
     "name": "stdout",
     "output_type": "stream",
     "text": [
      "slice student_name[2:5]: let\n",
      "index 2, 3 & 4 of student_name: let\n",
      "knowledge\n",
      "knowledge is the 3rd char through the 11th char\n",
      "knowledge is the index 2, \"k\", through index 10, \"e\"\n"
     ]
    }
   ],
   "source": [
    "# [ ] review and run example\n",
    "# assign string to student_name\n",
    "student_name = \"Colette\"\n",
    "\n",
    "# addressing the 3rd, 4th and 5th characters using a slice\n",
    "print(\"slice student_name[2:5]:\",student_name[2:5])\n",
    "# [ ] review and run example\n",
    "# assign string to student_name\n",
    "student_name = \"Colette\"\n",
    "\n",
    "# addressing the 3rd, 4th and 5th characters individually\n",
    "print(\"index 2, 3 & 4 of student_name:\", student_name[2] + student_name[3] + student_name[4])\n",
    "\n",
    "# [ ] review and run example\n",
    "long_word = 'Acknowledgement'\n",
    "print(long_word[2:11])\n",
    "print(long_word[2:11], \"is the 3rd char through the 11th char\")\n",
    "print(long_word[2:11], \"is the index 2, \\\"\" + long_word[2] + \"\\\",\", \"through index 10, \\\"\" + long_word[10] + \"\\\"\")"
   ]
  },
  {
   "cell_type": "code",
   "execution_count": 7,
   "metadata": {
    "scrolled": true
   },
   "outputs": [
    {
     "name": "stdout",
     "output_type": "stream",
     "text": [
      "tic\n",
      "sequence\n"
     ]
    }
   ],
   "source": [
    "# [ ] slice long_word to print \"act\" and to print \"tic\"\n",
    "long_word = \"characteristics\"\n",
    "print(long_word[-4:-1])\n",
    "# [ ] slice long_word to print \"sequence\"\n",
    "long_word = \"Consequences\"\n",
    "print(long_word[3:11])"
   ]
  },
  {
   "cell_type": "code",
   "execution_count": 10,
   "metadata": {},
   "outputs": [
    {
     "name": "stdout",
     "output_type": "stream",
     "text": [
      "Col\n"
     ]
    }
   ],
   "source": [
    "student_name = \"Colette\"\n",
    "# addressing the 1st, 2nd & 3rd characters\n",
    "print(student_name[:3])"
   ]
  },
  {
   "cell_type": "code",
   "execution_count": 12,
   "metadata": {},
   "outputs": [
    {
     "name": "stdout",
     "output_type": "stream",
     "text": [
      "Conseq\n"
     ]
    }
   ],
   "source": [
    "long_word = \"Consequences\"\n",
    "print(long_word[:6])"
   ]
  },
  {
   "cell_type": "code",
   "execution_count": 14,
   "metadata": {},
   "outputs": [
    {
     "name": "stdout",
     "output_type": "stream",
     "text": [
      "uences\n"
     ]
    }
   ],
   "source": [
    "# [ ] print the second half of the long_word\n",
    "long_word = \"Consequences\"\n",
    "print(long_word[6:])"
   ]
  },
  {
   "cell_type": "code",
   "execution_count": 15,
   "metadata": {},
   "outputs": [
    {
     "name": "stdout",
     "output_type": "stream",
     "text": [
      "Colette\n",
      "Clte\n",
      "oet\n",
      "osqe\n"
     ]
    }
   ],
   "source": [
    "# [ ] review and run example\n",
    "student_name = \"Colette\"\n",
    "# return all\n",
    "print(student_name[:])\n",
    "# [ ] review and run example\n",
    "student_name = \"Colette\"\n",
    "# return every other\n",
    "print(student_name[::2])\n",
    "# [ ] review and run example\n",
    "student_name = \"Colette\"\n",
    "# return every third, starting at 2nd character\n",
    "print(student_name[1::2])\n",
    "# [ ] review and run example\n",
    "long_word = \"Consequences\"\n",
    "# starting at 2nd char (index 1) to 9th character, return every other character\n",
    "print(long_word[1:9:2])\n"
   ]
  },
  {
   "cell_type": "code",
   "execution_count": 24,
   "metadata": {},
   "outputs": [
    {
     "name": "stdout",
     "output_type": "stream",
     "text": [
      "Anlge\n",
      "nowledgement\n"
     ]
    }
   ],
   "source": [
    "# [ ] print the 1st and every 3rd letter of long_word\n",
    "long_word = \"Acknowledgement\"\n",
    "print(long_word[0::3])\n",
    "# [ ] print every other character of long_word starting at the 3rd character\n",
    "long_word = \"Acknowledgement\"\n",
    "print(long_word[3::])"
   ]
  },
  {
   "cell_type": "code",
   "execution_count": 25,
   "metadata": {},
   "outputs": [
    {
     "name": "stdout",
     "output_type": "stream",
     "text": [
      "scitsiretcarahc\n",
      "tcarahc\n"
     ]
    }
   ],
   "source": [
    "# [ ] review and run example of stepping backwards using [::-1]\n",
    "long_word = \"characteristics\"\n",
    "# make the step increment -1 to step backwards\n",
    "print(long_word[::-1])\n",
    "# [ ] review and run example of stepping backwards using [6::-1]\n",
    "long_word = \"characteristics\"\n",
    "# start at the 7th letter backwards to start\n",
    "print(long_word[6::-1])"
   ]
  },
  {
   "cell_type": "code",
   "execution_count": 1,
   "metadata": {
    "scrolled": true
   },
   "outputs": [
    {
     "name": "stdout",
     "output_type": "stream",
     "text": [
      "desserts\n",
      "carahc\n",
      "time\n",
      "emit\n",
      "enil\n",
      "ilem\n"
     ]
    }
   ],
   "source": [
    "#Task 5\n",
    "#use slicing\n",
    "\n",
    "# [ ] reverse long_word\n",
    "long_word = \"stressed\"\n",
    "print(long_word[::-1])\n",
    "\n",
    "# [ ] print the first 5 letters of long_word in reverse\n",
    "long_word = \"characteristics\"\n",
    "print(long_word[5::-1])"
   ]
  },
  {
   "cell_type": "code",
   "execution_count": 2,
   "metadata": {},
   "outputs": [
    {
     "name": "stdout",
     "output_type": "stream",
     "text": [
      "time\n",
      "emit\n",
      "enil\n",
      "ilem\n"
     ]
    }
   ],
   "source": [
    "#Task 6\n",
    "#use slicing\n",
    "\n",
    "# [ ] print the first 4 letters of long_word\n",
    "# [ ] print the first 4 letters of long_word in reverse\n",
    "# [ ] print the last 4 letters of long_word in reverse\n",
    "# [ ] print the letters spanning indexes 3 to 6 of long_word in Reverse\n",
    "long_word = \"timeline\"\n",
    "print(long_word[:4])\n",
    "print(long_word[3::-1])\n",
    "print(long_word[:3:-1])\n",
    "print(long_word[-3:-7:-1])"
   ]
  }
 ],
 "metadata": {
  "kernelspec": {
   "display_name": "Python 3.6",
   "language": "python",
   "name": "python36"
  },
  "language_info": {
   "codemirror_mode": {
    "name": "ipython",
    "version": 3
   },
   "file_extension": ".py",
   "mimetype": "text/x-python",
   "name": "python",
   "nbconvert_exporter": "python",
   "pygments_lexer": "ipython3",
   "version": "3.6.3"
  }
 },
 "nbformat": 4,
 "nbformat_minor": 2
}
