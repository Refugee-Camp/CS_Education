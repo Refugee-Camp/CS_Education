{
 "cells": [
  {
   "cell_type": "code",
   "execution_count": 1,
   "metadata": {},
   "outputs": [
    {
     "name": "stdout",
     "output_type": "stream",
     "text": [
      "c\n",
      "e\n",
      "l\n",
      "l\n",
      "o\n"
     ]
    }
   ],
   "source": [
    "word = \"cello\"\n",
    "\n",
    "for letter in word:\n",
    "    print(letter)"
   ]
  },
  {
   "cell_type": "code",
   "execution_count": 3,
   "metadata": {},
   "outputs": [
    {
     "name": "stdout",
     "output_type": "stream",
     "text": [
      "c\n",
      "e\n",
      "l\n",
      "l\n",
      "o\n",
      "t\n",
      "r\n",
      "u\n",
      "m\n",
      "p\n",
      "e\n",
      "t\n",
      "p\n",
      "i\n",
      "a\n",
      "n\n",
      "o\n",
      "Skye to SkYe\n"
     ]
    }
   ],
   "source": [
    "# [ ] review and run example\n",
    "word = \"cello\"\n",
    "\n",
    "for letter in word:\n",
    "    print(letter)\n",
    "# [ ] review and run example\n",
    "# note: the variable 'letter' changed to 'item'\n",
    "word = \"trumpet\"\n",
    "\n",
    "for item in word:\n",
    "    print(item)\n",
    "# [ ] review and run example\n",
    "# note: variable is now 'xyz' \n",
    "# using 'xyz', 'item' or 'letter' are all the same result\n",
    "word = \"piano\"\n",
    "\n",
    "for xyz in word:\n",
    "    print(xyz)\n",
    "# [ ] review and run example\n",
    "# creates a new string (new_name) adding a letter (ltr) each loop\n",
    "# Q?: how many times will the loop run?\n",
    "\n",
    "\n",
    "student_name = \"Skye\"\n",
    "new_name = \"\"\n",
    "\n",
    "for ltr in student_name:\n",
    "    if ltr.lower() == \"y\":\n",
    "        new_name += ltr.upper()\n",
    "    else:\n",
    "        new_name += ltr\n",
    "print(student_name,\"to\",new_name)"
   ]
  },
  {
   "cell_type": "code",
   "execution_count": 4,
   "metadata": {},
   "outputs": [
    {
     "name": "stdout",
     "output_type": "stream",
     "text": [
      "qf\n",
      "q\n",
      "f\n"
     ]
    }
   ],
   "source": [
    "#Task 1\n",
    "\n",
    "first_name = input()\n",
    "\n",
    "for letter in first_name:\n",
    "    print(letter)\n"
   ]
  },
  {
   "cell_type": "code",
   "execution_count": 4,
   "metadata": {},
   "outputs": [
    {
     "name": "stdout",
     "output_type": "stream",
     "text": [
      "Hi\n",
      "Hi\n"
     ]
    }
   ],
   "source": [
    "#Task 2\n",
    "\n",
    "first_name = input()\n",
    "new_name = \"\"\n",
    "\n",
    "for letter in first_name:\n",
    "    if letter.lower() == \"i\":\n",
    "        new_name += letter\n",
    "    elif letter.lower() == \"o\":\n",
    "        new_name += letter\n",
    "    else:\n",
    "        new_name += letter\n",
    "        \n",
    "print(new_name)"
   ]
  },
  {
   "cell_type": "code",
   "execution_count": null,
   "metadata": {},
   "outputs": [],
   "source": [
    "# [ ] review and run example\n",
    "student_name = \"Skye\"\n",
    "\n",
    "for letter in student_name[:3]:\n",
    "    print(letter)"
   ]
  },
  {
   "cell_type": "code",
   "execution_count": null,
   "metadata": {},
   "outputs": [],
   "source": [
    "# Iterate BACKWARDS\n",
    "# [ ] review and run example\n",
    "student_name = \"Skye\"\n",
    "\n",
    "# start at \"y\" (student_name[2]), iterate backwards\n",
    "for letter in student_name[2::-1]:\n",
    "    print(letter)"
   ]
  },
  {
   "cell_type": "code",
   "execution_count": 1,
   "metadata": {},
   "outputs": [
    {
     "name": "stdout",
     "output_type": "stream",
     "text": [
      "n\n",
      "o\n",
      "i\n",
      "t\n",
      "i\n",
      "s\n",
      "o\n",
      "p\n",
      "a\n",
      "t\n",
      "x\n",
      "u\n",
      "J\n"
     ]
    }
   ],
   "source": [
    "#Task 3\n",
    "\n",
    "long_word = \"juxtaposition\"\n",
    "other_word = \"\"\n",
    "\n",
    "for letter in long_word:\n",
    "    if letter.lower() == \"j\":\n",
    "        other_word += letter.upper()\n",
    "    else:\n",
    "        other_word += letter\n",
    "        \n",
    "\n",
    "for letter1 in other_word[::-1]:\n",
    "    print(letter1)"
   ]
  },
  {
   "cell_type": "code",
   "execution_count": 2,
   "metadata": {},
   "outputs": [
    {
     "name": "stdout",
     "output_type": "stream",
     "text": [
      "Pavel\n",
      "levaPPavel\n"
     ]
    }
   ],
   "source": [
    "#Task 3\n",
    "\n",
    "fav_color = input()\n",
    "\n",
    "print(fav_color[::-1] + fav_color)"
   ]
  }
 ],
 "metadata": {
  "kernelspec": {
   "display_name": "Python 3.6",
   "language": "python",
   "name": "python36"
  },
  "language_info": {
   "codemirror_mode": {
    "name": "ipython",
    "version": 3
   },
   "file_extension": ".py",
   "mimetype": "text/x-python",
   "name": "python",
   "nbconvert_exporter": "python",
   "pygments_lexer": "ipython3",
   "version": "3.6.3"
  }
 },
 "nbformat": 4,
 "nbformat_minor": 2
}
