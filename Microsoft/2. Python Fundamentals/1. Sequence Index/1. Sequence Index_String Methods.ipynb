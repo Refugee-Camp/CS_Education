{
 "cells": [
  {
   "cell_type": "code",
   "execution_count": 1,
   "metadata": {},
   "outputs": [
    {
     "data": {
      "text/plain": [
       "-1"
      ]
     },
     "execution_count": 1,
     "metadata": {},
     "output_type": "execute_result"
    }
   ],
   "source": [
    "work_tip = \"save your code\"\n",
    "\n",
    "# number of characters\n",
    "len(work_tip)\n",
    "\n",
    "# letter \"e\" occurrences\n",
    "work_tip.count(\"e\")\n",
    "\n",
    "# find the index of the first space\n",
    "work_tip.find(\" \")\n",
    "\n",
    "# find the index of \"u\" searching a slice work_tip[3:6]\n",
    "work_tip.find(\"u\",3,6)"
   ]
  },
  {
   "cell_type": "code",
   "execution_count": 2,
   "metadata": {},
   "outputs": [
    {
     "name": "stdout",
     "output_type": "stream",
     "text": [
      "number of characters in string\n"
     ]
    },
    {
     "data": {
      "text/plain": [
       "14"
      ]
     },
     "execution_count": 2,
     "metadata": {},
     "output_type": "execute_result"
    }
   ],
   "source": [
    "work_tip = \"save your code\"\n",
    "print(\"number of characters in string:\")\n",
    "len(work_tip)"
   ]
  },
  {
   "cell_type": "code",
   "execution_count": 5,
   "metadata": {},
   "outputs": [
    {
     "name": "stdout",
     "output_type": "stream",
     "text": [
      "The sencence: \"good code is commented code\" has character length = 27\n"
     ]
    }
   ],
   "source": [
    "work_tip = \"good code is commented code\"\n",
    "print(\"The sencence: \\\"\" + work_tip + \"\\\" has character length =\", len(work_tip))"
   ]
  },
  {
   "cell_type": "code",
   "execution_count": 12,
   "metadata": {},
   "outputs": [
    {
     "name": "stdout",
     "output_type": "stream",
     "text": [
      "good code is \n",
      "commented code\n"
     ]
    }
   ],
   "source": [
    "work_tip = \"good code is commented code\"\n",
    "len_tip = len(work_tip)\n",
    "mid_pt = int(len_tip/2)\n",
    "\n",
    "print(work_tip[:mid_pt])\n",
    "print(work_tip[mid_pt:])"
   ]
  },
  {
   "cell_type": "code",
   "execution_count": 22,
   "metadata": {},
   "outputs": [
    {
     "name": "stdout",
     "output_type": "stream",
     "text": [
      "letter \"e\" occurrences\n",
      "\n",
      "How many e's? 2 \n",
      "\n",
      "1\n"
     ]
    }
   ],
   "source": [
    "work_tip = \"save your code\"\n",
    "\n",
    "print('letter \"e\" occurrences\\n')\n",
    "\n",
    "print(\"How many e's?\", work_tip.count(\"e\"),\"\\n\")\n",
    "\n",
    "print(work_tip.count(\"code\"))"
   ]
  },
  {
   "cell_type": "code",
   "execution_count": 24,
   "metadata": {},
   "outputs": [
    {
     "name": "stdout",
     "output_type": "stream",
     "text": [
      "save yo\n",
      "1 \n",
      "\n",
      "ur code\n",
      "1\n"
     ]
    }
   ],
   "source": [
    "work_tip = \"save your code\"\n",
    "\n",
    "print(work_tip[:7])\n",
    "print(work_tip[:7].count(\"o\"), \"\\n\")\n",
    "\n",
    "print(work_tip[7:])\n",
    "print(work_tip[7:].count(\"o\"))"
   ]
  },
  {
   "cell_type": "code",
   "execution_count": 26,
   "metadata": {},
   "outputs": [
    {
     "name": "stdout",
     "output_type": "stream",
     "text": [
      "4 \n",
      "\n"
     ]
    }
   ],
   "source": [
    "work_tip = \"save your code\"\n",
    "print(work_tip.find(\" \"), \"\\n\")"
   ]
  },
  {
   "cell_type": "code",
   "execution_count": 28,
   "metadata": {},
   "outputs": [
    {
     "name": "stdout",
     "output_type": "stream",
     "text": [
      "good code has meangful variable names\n",
      "5 = starting index fore \"code\"\n"
     ]
    }
   ],
   "source": [
    "work_tip = \"good code has meangful variable names\"\n",
    "print(work_tip)\n",
    "\n",
    "code_here = work_tip.find(\"code\")\n",
    "print(code_here, '= starting index fore \"code\"')"
   ]
  },
  {
   "cell_type": "code",
   "execution_count": 33,
   "metadata": {},
   "outputs": [
    {
     "name": "stdout",
     "output_type": "stream",
     "text": [
      "work_tip: good code has meangful variable names \n",
      "\n",
      "'o' at index = 1\n",
      "'o' at index = 2\n",
      "'o' at index = 6\n",
      "\n",
      "no more o's, -1 was returned\n"
     ]
    }
   ],
   "source": [
    "work_tip = \"good code has meangful variable names\"\n",
    "print(\"work_tip:\", work_tip, \"\\n\")\n",
    "location = work_tip.find(\"o\")\n",
    "\n",
    "while location >= 0:\n",
    "    print(\"'o' at index =\", location)\n",
    "    \n",
    "    location = work_tip.find(\"o\", location +1)\n",
    "    \n",
    "print(\"\\nno more o's, -1 was returned\")"
   ]
  },
  {
   "cell_type": "code",
   "execution_count": 43,
   "metadata": {},
   "outputs": [
    {
     "name": "stdout",
     "output_type": "stream",
     "text": [
      "14\n"
     ]
    }
   ],
   "source": [
    "work_tip = \"good code has meaningful variable names\"\n",
    "meaning_here = work_tip.find(\"meaning\",13,33)\n",
    "print(meaning_here)"
   ]
  },
  {
   "cell_type": "code",
   "execution_count": 45,
   "metadata": {},
   "outputs": [
    {
     "name": "stdout",
     "output_type": "stream",
     "text": [
      "12\n"
     ]
    }
   ],
   "source": [
    "#Task 1\n",
    "random_tip = \"wear a hat when it rains\"\n",
    "len_tip = len(random_tip)\n",
    "mid_tip = int(len_tip/2)\n",
    "print(mid_tip)"
   ]
  },
  {
   "cell_type": "code",
   "execution_count": 52,
   "metadata": {},
   "outputs": [
    {
     "name": "stdout",
     "output_type": "stream",
     "text": [
      "Nnmber of 'e': 2\n",
      "Nnmber of 'a': 4\n"
     ]
    }
   ],
   "source": [
    "#Task 2\n",
    "random_tip = \"wear a hat when it rains\"\n",
    "print(\"Nnmber of 'e':\", random_tip.count(\"e\"))\n",
    "print(\"Nnmber of 'a':\", random_tip.count(\"a\"))"
   ]
  },
  {
   "cell_type": "code",
   "execution_count": 55,
   "metadata": {},
   "outputs": [
    {
     "name": "stdout",
     "output_type": "stream",
     "text": [
      "taposition\n",
      "tion\n"
     ]
    }
   ],
   "source": [
    "#Task 3\n",
    "long_word = \"juxtaposition\"\n",
    "\n",
    "print(long_word[3:])\n",
    "print(long_word[9:])"
   ]
  }
 ],
 "metadata": {
  "kernelspec": {
   "display_name": "Python 3.6",
   "language": "python",
   "name": "python36"
  },
  "language_info": {
   "codemirror_mode": {
    "name": "ipython",
    "version": 3
   },
   "file_extension": ".py",
   "mimetype": "text/x-python",
   "name": "python",
   "nbconvert_exporter": "python",
   "pygments_lexer": "ipython3",
   "version": "3.6.3"
  }
 },
 "nbformat": 4,
 "nbformat_minor": 2
}
