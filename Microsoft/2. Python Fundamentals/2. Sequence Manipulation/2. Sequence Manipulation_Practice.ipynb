{
 "cells": [
  {
   "cell_type": "code",
   "execution_count": 6,
   "metadata": {},
   "outputs": [
    {
     "name": "stdout",
     "output_type": "stream",
     "text": [
      "tusday thorsday saturday\n"
     ]
    }
   ],
   "source": [
    "days_of_week = [\"monday\", \"tusday\", \"wednesdey\", \"thursday\", \"friday\", \"saturday\", \"sunday\"]\n",
    "print (days_of_week[1], days_of_week[3], days_of_week[5])"
   ]
  },
  {
   "cell_type": "code",
   "execution_count": 8,
   "metadata": {},
   "outputs": [
    {
     "name": "stdout",
     "output_type": "stream",
     "text": [
      "[' ', '', 'ABC', 'DEF', 'GHI', 'JKL', 'MNO', 'PQRS', 'TUV', 'WXYZ', '*', '#']\n"
     ]
    }
   ],
   "source": [
    "phone_letters = [\" \", \"\", \"ABC\", \"DEF\", \"GHI\", \"JKL\", \"MNO\", \"PQRS\", \"TUV\", \"WXYZ\", \"*\", \"#\"]\n",
    "print(phone_letters)"
   ]
  },
  {
   "cell_type": "code",
   "execution_count": 11,
   "metadata": {},
   "outputs": [
    {
     "name": "stdout",
     "output_type": "stream",
     "text": [
      "saturday\n"
     ]
    }
   ],
   "source": [
    "day = days_of_week[5]\n",
    "print(day)"
   ]
  },
  {
   "cell_type": "code",
   "execution_count": null,
   "metadata": {},
   "outputs": [],
   "source": [
    "days_of_week.append (\"prentesday\")\n",
    "print(days_of_week)"
   ]
  },
  {
   "cell_type": "code",
   "execution_count": 21,
   "metadata": {},
   "outputs": [
    {
     "name": "stdout",
     "output_type": "stream",
     "text": [
      "['monday', 'prentesday', 'tusday', 'prentesday', 'prentesday', 'prentesday', 'prentesday', 'prentesday', 'wednesdey', 'thorsday', 'friday', 'saturday', 'sunday', 'prentesday', 'prentesday']\n"
     ]
    }
   ],
   "source": [
    "days_of_week.insert(3, \"prentesday\")\n",
    "print(days_of_week)"
   ]
  },
  {
   "cell_type": "code",
   "execution_count": 22,
   "metadata": {},
   "outputs": [
    {
     "name": "stdout",
     "output_type": "stream",
     "text": [
      "['monday', 'tusday', 'wednesdey', 'thorsday', 'friday', 'saturday', 'another dayoff', 'sunday']\n"
     ]
    }
   ],
   "source": [
    "days_of_week = [\"monday\", \"tusday\", \"wednesdey\", \"thursday\", \"friday\", \"saturday\", \"sunday\"]\n",
    "days_of_week.insert(6, \"another dayoff\")\n",
    "print(days_of_week)"
   ]
  },
  {
   "cell_type": "code",
   "execution_count": 23,
   "metadata": {},
   "outputs": [
    {
     "name": "stdout",
     "output_type": "stream",
     "text": [
      "['monday', 'tusday', 'wednesdey', 'thorsday', 'friday', 'saturday', 'sunday']\n",
      "['monday', 'tusday', 'wednesdey', 'thorsday', 'friday', 'saturday']\n"
     ]
    }
   ],
   "source": [
    "days_of_week = [\"monday\", \"tusday\", \"wednesdey\", \"thursday\", \"friday\", \"saturday\", \"sunday\"]\n",
    "print(days_of_week)\n",
    "\n",
    "days_of_week.pop(-1)\n",
    "print(days_of_week)"
   ]
  },
  {
   "cell_type": "code",
   "execution_count": 24,
   "metadata": {},
   "outputs": [
    {
     "name": "stdout",
     "output_type": "stream",
     "text": [
      "['monday', 'tusday', 'wednesdey', 'thursday', 'friday', 'saturday', 'sunday']\n",
      "['monday', 'tusday', 'wednesdey', 'prentesday', 'thursday', 'friday', 'saturday', 'sunday']\n",
      "['monday', 'tusday', 'wednesdey', 'thursday', 'friday', 'saturday', 'sunday']\n"
     ]
    }
   ],
   "source": [
    "days_of_week = [\"monday\", \"tusday\", \"wednesdey\", \"thursday\", \"friday\", \"saturday\", \"sunday\"]\n",
    "print(days_of_week)\n",
    "\n",
    "days_of_week.insert(3, \"prentesday\")\n",
    "print(days_of_week)\n",
    "\n",
    "del days_of_week [3]\n",
    "print(days_of_week)"
   ]
  },
  {
   "cell_type": "code",
   "execution_count": 25,
   "metadata": {},
   "outputs": [
    {
     "name": "stdout",
     "output_type": "stream",
     "text": [
      "['monday', 'tusday', 'wednesdey', 'thursday', 'friday', 'saturday', 'sunday']\n",
      "['monday', 'tusday', 'thursday', 'friday', 'saturday', 'sunday']\n"
     ]
    }
   ],
   "source": [
    "days_of_week = [\"monday\", \"tusday\", \"wednesdey\", \"thursday\", \"friday\", \"saturday\", \"sunday\"]\n",
    "print(days_of_week)\n",
    "\n",
    "days_of_week.pop(2)\n",
    "print(days_of_week)"
   ]
  },
  {
   "cell_type": "code",
   "execution_count": 26,
   "metadata": {},
   "outputs": [
    {
     "name": "stdout",
     "output_type": "stream",
     "text": [
      "e found\n"
     ]
    }
   ],
   "source": [
    "phone_letters = [\" \", \"\", \"ABC\", \"DEF\", \"GHI\", \"JKL\", \"MNO\", \"PQRS\", \"TUV\", \"WXYZ\", \"*\", \"#\"]\n",
    "\n",
    "if \"E\" in phone_letters[3]:\n",
    "    print(\"e found\")\n",
    "else:\n",
    "   print(\"e not found\")"
   ]
  },
  {
   "cell_type": "code",
   "execution_count": 27,
   "metadata": {},
   "outputs": [
    {
     "name": "stdout",
     "output_type": "stream",
     "text": [
      "Enter single letter, space or empty: f\n",
      "3\n"
     ]
    }
   ],
   "source": [
    "phone_letters = [' ', '', 'ABC', 'DEF', 'GHI', 'JKL', 'MNO', 'PQRS', 'TUV', 'WXYZ']\n",
    "\n",
    "\n",
    "def let_to_num():  #letter argument removed, input() will do the job\n",
    "    letter=input(\"Enter single letter, space or empty: \")\n",
    "    key = 0\n",
    "    while key < 10: # 'for letter in phone_letters' loop not needed, this line will loop along phone_letters anyway\n",
    "        if letter.upper() in phone_letters[key]:\n",
    "                return key  #key is the index itself\n",
    "        else:\n",
    "            key = key + 1\n",
    "    return (\"Not found\") #should return 'not found' instead, it will be printed in line 11\n",
    "print(let_to_num())"
   ]
  },
  {
   "cell_type": "code",
   "execution_count": 28,
   "metadata": {},
   "outputs": [
    {
     "name": "stdout",
     "output_type": "stream",
     "text": [
      "[77, 66, 55, 44, 33, 22, 11, 9, 8, 7, 6, 5, 4, 3, 2, 1]\n"
     ]
    }
   ],
   "source": [
    "some_numbers =[1,2,3,4,5,6,7,8,9,11,22,33,44,55,66,77]\n",
    "\n",
    "reversed_numbers = []\n",
    "\n",
    "while some_numbers: \n",
    "  popped_number = some_numbers.pop(0)\n",
    "  reversed_numbers.insert(0, popped_number)\n",
    "print(reversed_numbers)"
   ]
  },
  {
   "cell_type": "code",
   "execution_count": null,
   "metadata": {},
   "outputs": [],
   "source": []
  }
 ],
 "metadata": {
  "kernelspec": {
   "display_name": "Python 3.6",
   "language": "python",
   "name": "python36"
  },
  "language_info": {
   "codemirror_mode": {
    "name": "ipython",
    "version": 3
   },
   "file_extension": ".py",
   "mimetype": "text/x-python",
   "name": "python",
   "nbconvert_exporter": "python",
   "pygments_lexer": "ipython3",
   "version": "3.6.3"
  }
 },
 "nbformat": 4,
 "nbformat_minor": 2
}
