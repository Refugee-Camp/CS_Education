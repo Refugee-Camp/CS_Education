{
 "cells": [
  {
   "cell_type": "code",
   "execution_count": null,
   "metadata": {
    "collapsed": true
   },
   "outputs": [],
   "source": [
    "print(\"Here are some list of animals, you can add any of your choice,but wont be able to add twice, i know its a meaniless and dunp code, but just play around with it lol\")\n",
    "\n",
    "def list_O_matic(ani,animal):\n",
    "    if ani == \"\":\n",
    "       animal.pop()\n",
    "       return ani,\"has been poped\"\n",
    "    if ani in animal:\n",
    "        animal.remove(ani)\n",
    "        return (ani, \"has been removed\")\n",
    "    else:\n",
    "          animal.append(ani)\n",
    "          return (ani, \"has been added to your list\")\n",
    "\n",
    "animals = [\"Cat\",\"Goat\",\"Cat\",\"Donkey\",\"Monkey\"]\n",
    "animals1 = []\n",
    "while animals:\n",
    "    print(\"Look at all of these\",animals)\n",
    "    ani1 = input(\"Enter a name of an animal:\").capitalize()\n",
    "    if ani1 == \"Quit\".lower():\n",
    "        break\n",
    "    else:\n",
    "        list_O_matic(ani1,animals1)\n",
    "    print (list_O_matic(ani1,animals))"
   ]
  }
 ],
 "metadata": {
  "kernelspec": {
   "display_name": "Python 3.6",
   "language": "python",
   "name": "python36"
  },
  "language_info": {
   "codemirror_mode": {
    "name": "ipython",
    "version": 3
   },
   "file_extension": ".py",
   "mimetype": "text/x-python",
   "name": "python",
   "nbconvert_exporter": "python",
   "pygments_lexer": "ipython3",
   "version": "3.6.3"
  }
 },
 "nbformat": 4,
 "nbformat_minor": 2
}
