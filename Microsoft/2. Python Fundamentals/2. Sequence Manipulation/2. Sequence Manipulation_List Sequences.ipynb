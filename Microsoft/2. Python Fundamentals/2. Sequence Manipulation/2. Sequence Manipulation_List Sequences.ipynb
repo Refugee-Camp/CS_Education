{
 "cells": [
  {
   "cell_type": "code",
   "execution_count": 1,
   "metadata": {},
   "outputs": [
    {
     "name": "stdout",
     "output_type": "stream",
     "text": [
      "<class 'list'>\n",
      "['Barselona', 'Spartak', 'Metz']\n"
     ]
    }
   ],
   "source": [
    "# Task 1\n",
    "team_names = [\"Barselona\", \"Spartak\", \"Metz\"]\n",
    "\n",
    "print (type(team_names))\n",
    "\n",
    "print(team_names)"
   ]
  },
  {
   "cell_type": "code",
   "execution_count": 2,
   "metadata": {},
   "outputs": [
    {
     "name": "stdout",
     "output_type": "stream",
     "text": [
      "<class 'list'>\n",
      "['Barselona', 'Spartak', 'Metz', 6, 13, 7, ['some', 'words', 'хуйня']]\n"
     ]
    }
   ],
   "source": [
    "# Task 1\n",
    "variable = [\"some\", \"words\", \"хуйня\"]\n",
    "team_names = [\"Barselona\", \"Spartak\", \"Metz\", 6, 13, 7, variable]\n",
    "\n",
    "print (type(team_names))\n",
    "\n",
    "print(team_names)"
   ]
  },
  {
   "cell_type": "code",
   "execution_count": 3,
   "metadata": {},
   "outputs": [
    {
     "name": "stdout",
     "output_type": "stream",
     "text": [
      "calcaneus is the 1st bone on the list\n",
      "cuboid is the 3rd bone on the list\n",
      "medial cuneiform is the last bone on the list\n"
     ]
    }
   ],
   "source": [
    "ft_bones = [\"calcaneus\", \"talus\", \"cuboid\", \"navicular\", \"lateral cuneiform\", \"intermediate cuneiform\", \"medial cuneiform\"]\n",
    "age_survey = [12, 14, 12, 29, 12, 14, 12, 12, 13, 12, 14, 13, 13, 46, 13, 12, 12, 13, 13, 12, 12]\n",
    "\n",
    "\n",
    "print(ft_bones[0], \"is the 1st bone on the list\")\n",
    "print(ft_bones[2], \"is the 3rd bone on the list\")\n",
    "\n",
    "print(ft_bones[-1], \"is the last bone on the list\")"
   ]
  },
  {
   "cell_type": "code",
   "execution_count": 5,
   "metadata": {},
   "outputs": [
    {
     "name": "stdout",
     "output_type": "stream",
     "text": [
      "talus is connected to the navicular\n"
     ]
    }
   ],
   "source": [
    "print(ft_bones[1], \"is connected to the\",ft_bones[3])"
   ]
  },
  {
   "cell_type": "code",
   "execution_count": 7,
   "metadata": {},
   "outputs": [
    {
     "name": "stdout",
     "output_type": "stream",
     "text": [
      "The first three ages total 38\n"
     ]
    }
   ],
   "source": [
    "three_ages_sum = age_survey[0] + age_survey[1] + age_survey[2]\n",
    "print(\"The first three ages total\", three_ages_sum)"
   ]
  },
  {
   "cell_type": "code",
   "execution_count": 11,
   "metadata": {},
   "outputs": [
    {
     "name": "stdout",
     "output_type": "stream",
     "text": [
      "Knickerbocker No Parking\n"
     ]
    }
   ],
   "source": [
    "# Task 2\n",
    "\n",
    "streets = [\"gogolia\", \"17 west street\", \"wilson av\", \"irvin\", \"Knickerbocker\"]\n",
    "\n",
    "print(streets[4], \"No Parking\")"
   ]
  },
  {
   "cell_type": "code",
   "execution_count": 13,
   "metadata": {},
   "outputs": [
    {
     "name": "stdout",
     "output_type": "stream",
     "text": [
      "25\n"
     ]
    }
   ],
   "source": [
    "# Task 2\n",
    "\n",
    "num_2_add = [24,25,934,1,4,6]\n",
    "\n",
    "print(num_2_add[0] + num_2_add[3])"
   ]
  },
  {
   "cell_type": "code",
   "execution_count": 18,
   "metadata": {},
   "outputs": [
    {
     "name": "stdout",
     "output_type": "stream",
     "text": [
      "Total of checks 3 & 4 = $ 605\n"
     ]
    }
   ],
   "source": [
    "# Task 3\n",
    "pay_checks = [317,367,189,416]\n",
    "print(\"Total of checks 3 & 4 = $\", pay_checks[2] + pay_checks[3])"
   ]
  },
  {
   "cell_type": "code",
   "execution_count": null,
   "metadata": {},
   "outputs": [],
   "source": []
  }
 ],
 "metadata": {
  "kernelspec": {
   "display_name": "Python 3.6",
   "language": "python",
   "name": "python36"
  },
  "language_info": {
   "codemirror_mode": {
    "name": "ipython",
    "version": 3
   },
   "file_extension": ".py",
   "mimetype": "text/x-python",
   "name": "python",
   "nbconvert_exporter": "python",
   "pygments_lexer": "ipython3",
   "version": "3.6.3"
  }
 },
 "nbformat": 4,
 "nbformat_minor": 2
}
