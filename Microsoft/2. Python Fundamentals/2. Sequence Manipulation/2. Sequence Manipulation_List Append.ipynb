{
 "cells": [
  {
   "cell_type": "code",
   "execution_count": 1,
   "metadata": {},
   "outputs": [
    {
     "name": "stdout",
     "output_type": "stream",
     "text": [
      "sample_list before:  [1, 1, 2]\n",
      "sample_list after:   [1, 1, 2, 3]\n"
     ]
    }
   ],
   "source": [
    "sample_list = [1, 1, 2]\n",
    "print(\"sample_list before: \", sample_list)\n",
    "\n",
    "sample_list.append(3)\n",
    "# the list after append\n",
    "print(\"sample_list after:  \", sample_list)"
   ]
  },
  {
   "cell_type": "code",
   "execution_count": 5,
   "metadata": {},
   "outputs": [
    {
     "name": "stdout",
     "output_type": "stream",
     "text": [
      "sample_list start:   [1, 1, 2, 3, 3, 8, 5, 3, 8, 5, 3, 8, 5]\n",
      "sample_list added:   [1, 1, 2, 3, 3, 8, 5, 3, 8, 5, 3, 8, 5, 3]\n",
      "sample_list added:   [1, 1, 2, 3, 3, 8, 5, 3, 8, 5, 3, 8, 5, 3, 8]\n",
      "sample_list added:   [1, 1, 2, 3, 3, 8, 5, 3, 8, 5, 3, 8, 5, 3, 8, 5]\n"
     ]
    }
   ],
   "source": [
    "print(\"sample_list start:  \", sample_list)\n",
    "sample_list.append(3)\n",
    "print(\"sample_list added:  \", sample_list)\n",
    "\n",
    "# append again\n",
    "sample_list.append(8)\n",
    "print(\"sample_list added:  \", sample_list)\n",
    "\n",
    "# append again\n",
    "sample_list.append(5)\n",
    "print(\"sample_list added:  \", sample_list)"
   ]
  },
  {
   "cell_type": "code",
   "execution_count": 6,
   "metadata": {},
   "outputs": [
    {
     "name": "stdout",
     "output_type": "stream",
     "text": [
      "mixed_types list:  [1, 'cat', 3]\n",
      "mixed_types list:  [1, 'cat', 3, 'turtle']\n"
     ]
    }
   ],
   "source": [
    "mixed_types = [1, \"cat\"]\n",
    "# append number\n",
    "mixed_types.append(3)\n",
    "print(\"mixed_types list: \", mixed_types)\n",
    "\n",
    "# append string\n",
    "mixed_types.append(\"turtle\")\n",
    "print(\"mixed_types list: \", mixed_types)"
   ]
  },
  {
   "cell_type": "code",
   "execution_count": 20,
   "metadata": {},
   "outputs": [
    {
     "name": "stdout",
     "output_type": "stream",
     "text": [
      "seven\n",
      "[1, 0.25, 0.5, 5, 10] ['penny', 'quater', 'five', 'seven', 'ten']\n"
     ]
    }
   ],
   "source": [
    "# Task 1 + 2\n",
    "\n",
    "cur_values = [1,0.25,0.5,5]\n",
    "cur_names = [\"penny\", \"quater\", \"five\", input()]\n",
    "\n",
    "cur_values.append(10)\n",
    "cur_names.append(\"ten\")\n",
    "\n",
    "print(cur_values, cur_names)"
   ]
  },
  {
   "cell_type": "code",
   "execution_count": null,
   "metadata": {},
   "outputs": [],
   "source": [
    "# Task 3\n",
    "\n",
    "bday_survey = []\n",
    "\n",
    "while True:\n",
    "    bday = input(\"Day of the month you were born (1-31) or \\\"q\\\" to finish \")\n",
    "    \n",
    "    if bday.lower().starts\n",
    "    with(\"q\"):\n",
    "        break\n",
    "    else:\n",
    "        bday_survey.append(bday)\n",
    "        print(bday_survey)"
   ]
  },
  {
   "cell_type": "code",
   "execution_count": null,
   "metadata": {},
   "outputs": [],
   "source": [
    "# Task 4\n",
    "\n",
    "# [ ] Fix the Error\n",
    "# three_numbers = [1, 1, 2]\n",
    "# print(\"an item in the list is: \", three_numbers[3])\n",
    "\n",
    "three_numbers = [1, 1, 2]\n",
    "\n",
    "three_numbers.append(3)\n",
    "\n",
    "print(\"an item in the list is: \", three_numbers)"
   ]
  }
 ],
 "metadata": {
  "kernelspec": {
   "display_name": "Python 3.6",
   "language": "python",
   "name": "python36"
  },
  "language_info": {
   "codemirror_mode": {
    "name": "ipython",
    "version": 3
   },
   "file_extension": ".py",
   "mimetype": "text/x-python",
   "name": "python",
   "nbconvert_exporter": "python",
   "pygments_lexer": "ipython3",
   "version": "3.6.3"
  }
 },
 "nbformat": 4,
 "nbformat_minor": 2
}
