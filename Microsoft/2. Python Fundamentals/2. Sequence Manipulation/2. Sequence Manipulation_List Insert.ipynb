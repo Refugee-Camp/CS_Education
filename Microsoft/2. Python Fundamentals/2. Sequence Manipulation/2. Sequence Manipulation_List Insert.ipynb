{
 "cells": [
  {
   "cell_type": "code",
   "execution_count": 4,
   "metadata": {},
   "outputs": [
    {
     "name": "stdout",
     "output_type": "stream",
     "text": [
      "party_list after:   ['Joana', 'Colette', 'Tobias']\n"
     ]
    }
   ],
   "source": [
    "party_list = [\"Joana\", \"Alton\", \"Tobias\"]\n",
    "party_list[1] = \"Colette\"\n",
    "\n",
    "print(\"party_list after:  \", party_list)"
   ]
  },
  {
   "cell_type": "code",
   "execution_count": 5,
   "metadata": {},
   "outputs": [
    {
     "name": "stdout",
     "output_type": "stream",
     "text": [
      "before: ['Joana', 'Alton', 'Tobias']\n",
      "\n",
      "after: ['Joana', 'Alton Derosa', 'Tobias']\n"
     ]
    }
   ],
   "source": [
    "party_list = [\"Joana\", \"Alton\", \"Tobias\"]\n",
    "print(\"before:\",party_list)\n",
    "\n",
    "# modify index value\n",
    "party_list[1] = party_list[1] + \" Derosa\"\n",
    "print(\"\\nafter:\", party_list)"
   ]
  },
  {
   "cell_type": "code",
   "execution_count": 9,
   "metadata": {},
   "outputs": [
    {
     "name": "stdout",
     "output_type": "stream",
     "text": [
      "single_digits:  ['zero', 'one', 'two', 'three', 'four', 'five', 'six', 'seven', 'eight', 'nine']\n",
      "single_digits[3]:  three <class 'str'> \n",
      "\n",
      "single_digits:  ['zero', 'one', 'two', 3, 'four', 'five', 'six', 'seven', 'eight', 'nine']\n",
      "single_digits[3]:  3 <class 'int'>\n"
     ]
    }
   ],
   "source": [
    "\n",
    "# [ ] review and run example which results in an IndexError\n",
    "# if result is NameError run cell above before running this cell\n",
    "\n",
    "# IndexError trying to append to end of list\n",
    "\n",
    "# [ ] review and run example changes the data type of an element\n",
    "# replace a string with a number (int)\n",
    "single_digits = [\"zero\", \"one\", \"two\", \"three\", \"four\", \"five\", \"six\", \"seven\", \"eight\", \"nine\"] \n",
    "print(\"single_digits: \", single_digits)\n",
    "print(\"single_digits[3]: \", single_digits[3], type(single_digits[3]),\"\\n\")\n",
    "\n",
    "# replace string with an int\n",
    "single_digits[3] = 3\n",
    "print(\"single_digits: \", single_digits)\n",
    "print(\"single_digits[3]: \", single_digits[3], type(single_digits[3]))"
   ]
  },
  {
   "cell_type": "code",
   "execution_count": 13,
   "metadata": {},
   "outputs": [
    {
     "name": "stdout",
     "output_type": "stream",
     "text": [
      "[1, 2, 3]\n",
      "['small', 2, 3]\n"
     ]
    }
   ],
   "source": [
    "# Task 1\n",
    "\n",
    "three_num = [1,2,3]\n",
    "\n",
    "print(three_num)\n",
    "\n",
    "if three_num[0] < 5:\n",
    "    three_num[0] = \"small\"\n",
    "else:\n",
    "    three_num[0] = \"large\"\n",
    "    \n",
    "print(three_num)"
   ]
  },
  {
   "cell_type": "code",
   "execution_count": 2,
   "metadata": {},
   "outputs": [
    {
     "data": {
      "text/plain": [
       "[3, 'large', 'large']"
      ]
     },
     "execution_count": 2,
     "metadata": {},
     "output_type": "execute_result"
    }
   ],
   "source": [
    "int_list = [3, 6, 9]\n",
    "\n",
    "def str_replace(int_list, index):\n",
    "    if int_list[index] < 5:\n",
    "        int_list[index] = 'small'\n",
    "    else:\n",
    "        int_list[index] = 'large'\n",
    "    return int_list\n",
    "\n",
    "str_replace(int_list, 0)\n",
    "\n",
    "int_list = [3, 6, 9]\n",
    " \n",
    "str_replace(int_list, 1)\n",
    "\n",
    "str_replace(int_list, 2)"
   ]
  },
  {
   "cell_type": "code",
   "execution_count": 18,
   "metadata": {},
   "outputs": [
    {
     "name": "stdout",
     "output_type": "stream",
     "text": [
      "['Zero', 'One', 'tWO']\n"
     ]
    }
   ],
   "source": [
    "# Task 2\n",
    "\n",
    "three_words = [\"Zero\", \"One\", \"Two\"]\n",
    "\n",
    "three_words[2] = \"Two\".swapcase()\n",
    "print(three_words)"
   ]
  },
  {
   "cell_type": "code",
   "execution_count": 21,
   "metadata": {},
   "outputs": [
    {
     "name": "stdout",
     "output_type": "stream",
     "text": [
      "['Joana', 'Colette', 'Alton', 'Tobias']\n"
     ]
    }
   ],
   "source": [
    "party_list = [\"Joana\", \"Alton\", \"Tobias\"]\n",
    "party_list.insert(1,\"Colette\")\n",
    "print(party_list)"
   ]
  },
  {
   "cell_type": "code",
   "execution_count": null,
   "metadata": {},
   "outputs": [],
   "source": [
    "# Task 3\n",
    "\n",
    "party_list = [\"Joana\", \"Alton\", \"Tobias\"]\n",
    "user_input = input()\n",
    "party_list.insert(1, user_input)\n",
    "print(party_list)"
   ]
  },
  {
   "cell_type": "code",
   "execution_count": null,
   "metadata": {},
   "outputs": [],
   "source": [
    "# Task 4\n",
    "#tree_list = \"oak\"\n",
    "#print(\"tree_list before =\", tree_list)\n",
    "#tree_list.insert(1,\"pine\")\n",
    "#print(\"tree_list after  =\", tree_list)\n",
    "\n",
    "tree_list = [\"oak\"]\n",
    "print(\"tree_list before =\", tree_list)\n",
    "tree_list.insert(1,\"pine\")\n",
    "print(\"tree_list after  =\", tree_list)"
   ]
  },
  {
   "cell_type": "code",
   "execution_count": null,
   "metadata": {},
   "outputs": [],
   "source": []
  }
 ],
 "metadata": {
  "kernelspec": {
   "display_name": "Python 3.6",
   "language": "python",
   "name": "python36"
  },
  "language_info": {
   "codemirror_mode": {
    "name": "ipython",
    "version": 3
   },
   "file_extension": ".py",
   "mimetype": "text/x-python",
   "name": "python",
   "nbconvert_exporter": "python",
   "pygments_lexer": "ipython3",
   "version": "3.6.3"
  }
 },
 "nbformat": 4,
 "nbformat_minor": 2
}
