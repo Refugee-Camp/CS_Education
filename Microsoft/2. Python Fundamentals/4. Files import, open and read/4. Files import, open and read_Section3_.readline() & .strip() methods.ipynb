{
  "cells": [
    {
      "metadata": {
        "trusted": true
      },
      "cell_type": "code",
      "source": "#Task 1\n#use readline to get rainbow colors\n# [ ] import https://raw.githubusercontent.com/MicrosoftLearning/intropython/master/rainbow as rainbow.txt\n!curl https://raw.githubusercontent.com/MicrosoftLearning/intropython/master/rainbow -o rainbow.txt",
      "execution_count": 1,
      "outputs": [
        {
          "output_type": "stream",
          "text": "  % Total    % Received % Xferd  Average Speed   Time    Time     Time  Current\n                                 Dload  Upload   Total   Spent    Left  Speed\n100    43  100    43    0     0    191      0 --:--:-- --:--:-- --:--:--   191\n",
          "name": "stdout"
        }
      ]
    },
    {
      "metadata": {
        "trusted": true
      },
      "cell_type": "code",
      "source": "# [ ] open rainbow.txt as rainbow_text\nrainbow_text = open('rainbow.txt', 'r')",
      "execution_count": 2,
      "outputs": []
    },
    {
      "metadata": {
        "trusted": true
      },
      "cell_type": "code",
      "source": "# [ ] read the first 3 lines into variables: color1, color2, color3\ncolor1=rainbow_text.readline()\ncolor2=rainbow_text.readline()\ncolor3=rainbow_text.readline()",
      "execution_count": 3,
      "outputs": []
    },
    {
      "metadata": {
        "trusted": true
      },
      "cell_type": "code",
      "source": "# [ ] close rainbow.txt\nrainbow_text.close()",
      "execution_count": 5,
      "outputs": []
    },
    {
      "metadata": {
        "trusted": true
      },
      "cell_type": "code",
      "source": "# [ ] print the first 3 colors\nprint(color1, color2, color3)",
      "execution_count": 6,
      "outputs": [
        {
          "output_type": "stream",
          "text": "red\n orange\n yellow\n\n",
          "name": "stdout"
        }
      ]
    },
    {
      "metadata": {
        "trusted": true
      },
      "cell_type": "code",
      "source": "#Task 2\n#while .readline() rainbow colors\n# [ ] open rainbow.txt as rainbow_text\nrainbow_text = open('rainbow.txt', 'r')",
      "execution_count": 7,
      "outputs": []
    },
    {
      "metadata": {
        "trusted": true
      },
      "cell_type": "code",
      "source": "# [ ] read the color from lines of rainbow_text in a while loop\n# [ ] print each color capitalized as the loop runs\nrainbow = rainbow_text.readline()\n\nwhile rainbow:\n    print(rainbow[:-1].upper())\n    rainbow = rainbow_text.readline()",
      "execution_count": 9,
      "outputs": [
        {
          "output_type": "stream",
          "text": "RED\nORANGE\nYELLOW\nGREEN\nBLUE\nINDIGO\nVIOLET\n",
          "name": "stdout"
        }
      ]
    },
    {
      "metadata": {
        "trusted": true
      },
      "cell_type": "code",
      "source": "# [ ] close rainbow_text\nrainbow_text.close()",
      "execution_count": 10,
      "outputs": []
    },
    {
      "metadata": {
        "trusted": true
      },
      "cell_type": "code",
      "source": "#Task 3\n#.readline() with .strip() rainbow colors\n# [ ] open rainbow.txt as rainbow_text as read-only\n\nrainbow_file = open('rainbow.txt', 'r')",
      "execution_count": 14,
      "outputs": []
    },
    {
      "metadata": {
        "trusted": true
      },
      "cell_type": "code",
      "source": "# [ ] read a color from each line of rainbow_text in a while loop  \n# use .strip to remove the whitespace '\\n' character \n# print each color upper case\nrainbow_line = rainbow_file.readline().strip()\n\nwhile rainbow_line:\n    print(rainbow_line)\n    rainbow_line = rainbow_file.readline().strip()\n    \nrainbow_file.close()",
      "execution_count": 15,
      "outputs": [
        {
          "output_type": "stream",
          "text": "red\norange\nyellow\ngreen\nblue\nindigo\nviolet\n",
          "name": "stdout"
        }
      ]
    },
    {
      "metadata": {
        "trusted": true
      },
      "cell_type": "code",
      "source": "#Task 5\n#.strip() parentheses from poem2_messy\n# [ ] import https://raw.githubusercontent.com/MicrosoftLearning/intropython/master/poem2_messy as poem2_messy.txt\n!curl https://raw.githubusercontent.com/MicrosoftLearning/intropython/master/poem2_messy -o poem2_messy.txt",
      "execution_count": 20,
      "outputs": [
        {
          "output_type": "stream",
          "text": "  % Total    % Received % Xferd  Average Speed   Time    Time     Time  Current\n                                 Dload  Upload   Total   Spent    Left  Speed\n100    75  100    75    0     0    688      0 --:--:-- --:--:-- --:--:--   694\n",
          "name": "stdout"
        }
      ]
    },
    {
      "metadata": {
        "trusted": true
      },
      "cell_type": "code",
      "source": "# [ ] open poem2_messy.txt as poem2_messy in read mode\npoem2_messy=open('poem2_messy.txt','r')",
      "execution_count": 21,
      "outputs": []
    },
    {
      "metadata": {
        "trusted": true
      },
      "cell_type": "code",
      "source": "# [ ] edit while loop to strip the leading and trailing parentheses, and newlines\n# [ ] print the poem \nline = poem2_messy.readline().strip(')(\\n')\n\nwhile line:\n    print(line)\n    line = poem2_messy.readline().strip(')(\\n')",
      "execution_count": 22,
      "outputs": [
        {
          "output_type": "stream",
          "text": "while True\nI loop\nTrue\nloop\nTrue\nloop\nnot True\nFalse\nend\n",
          "name": "stdout"
        }
      ]
    }
  ],
  "metadata": {
    "kernelspec": {
      "name": "python36",
      "display_name": "Python 3.6",
      "language": "python"
    },
    "language_info": {
      "mimetype": "text/x-python",
      "nbconvert_exporter": "python",
      "name": "python",
      "pygments_lexer": "ipython3",
      "version": "3.6.6",
      "file_extension": ".py",
      "codemirror_mode": {
        "version": 3,
        "name": "ipython"
      }
    }
  },
  "nbformat": 4,
  "nbformat_minor": 2
}