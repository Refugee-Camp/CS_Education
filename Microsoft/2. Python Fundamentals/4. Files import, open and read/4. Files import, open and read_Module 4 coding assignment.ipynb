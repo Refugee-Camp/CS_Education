{
  "cells": [
    {
      "metadata": {
        "trusted": true
      },
      "cell_type": "code",
      "source": "!curl https://raw.githubusercontent.com/MicrosoftLearning/intropython/master/world_temp_mean.csv -o mean_temp.txt",
      "execution_count": 20,
      "outputs": [
        {
          "output_type": "stream",
          "text": "  % Total    % Received % Xferd  Average Speed   Time    Time     Time  Current\n                                 Dload  Upload   Total   Spent    Left  Speed\n100   222  100   222    0     0   2242      0 --:--:-- --:--:-- --:--:--  2265\n",
          "name": "stdout"
        }
      ]
    },
    {
      "metadata": {
        "trusted": true
      },
      "cell_type": "code",
      "source": "mean_temp=open('mean_temp.txt','a+')\nmean_temp.write('Rio de Janeiro,Brazil,30.0,18.0')\nmean_temp.close()",
      "execution_count": 23,
      "outputs": []
    },
    {
      "metadata": {
        "trusted": true
      },
      "cell_type": "code",
      "source": "mean_temp=open('mean_temp.txt','a+')\nmean_temp.write('Rio de Janeiro,Brazil,30.0,18.0')\nmean_temp.close()\nmean_temp=open('mean_temp.txt','r')\nmean_temp.seek(0)",
      "execution_count": 24,
      "outputs": [
        {
          "output_type": "execute_result",
          "execution_count": 24,
          "data": {
            "text/plain": "0"
          },
          "metadata": {}
        }
      ]
    },
    {
      "metadata": {
        "trusted": true
      },
      "cell_type": "code",
      "source": "# Headings\nheadings=mean_temp.readline()\ntitle=headings.split(',')",
      "execution_count": 25,
      "outputs": []
    },
    {
      "metadata": {
        "trusted": true
      },
      "cell_type": "code",
      "source": "#Temperature Data\ncity_temp=mean_temp.read()\ncity_temp_list=city_temp.split('\\n')\nnew_list=[]\nfor name in city_temp_list:\n    new_list += name.split(',')\ncity_temp_list=new_list[:-1]",
      "execution_count": 26,
      "outputs": []
    },
    {
      "metadata": {
        "trusted": true
      },
      "cell_type": "code",
      "source": "#Printing City temperature details\nmaximum=0\ncity=''\n\nfor i in range(0,len(city_temp_list),4):\n    print(title[0].capitalize(),\"of\",city_temp_list[i]+\"'s'\"+title[2].capitalize(),'is',city_temp_list[i+2],'Celsius')\nmean_temp.close()",
      "execution_count": 36,
      "outputs": [
        {
          "output_type": "stream",
          "text": "City of Beijing's'Month ave: highest high is 30.9 Celsius\nCity of Cairo's'Month ave: highest high is 34.7 Celsius\nCity of London's'Month ave: highest high is 23.5 Celsius\nCity of Nairobi's'Month ave: highest high is 26.3 Celsius\nCity of New York City's'Month ave: highest high is 28.9 Celsius\nCity of Sydney's'Month ave: highest high is 26.5 Celsius\nCity of Tokyo's'Month ave: highest high is 30.8 Celsius\nCity of Rio de Janeiro's'Month ave: highest high is 30.0 Celsius\nCity of Brazil's'Month ave: highest high is 18.0Rio de Janeiro Celsius\n",
          "name": "stdout"
        },
        {
          "output_type": "error",
          "ename": "IndexError",
          "evalue": "list index out of range",
          "traceback": [
            "\u001b[0;31m---------------------------------------------------------------------------\u001b[0m",
            "\u001b[0;31mIndexError\u001b[0m                                Traceback (most recent call last)",
            "\u001b[0;32m<ipython-input-36-779340edffda>\u001b[0m in \u001b[0;36m<module>\u001b[0;34m\u001b[0m\n\u001b[1;32m      4\u001b[0m \u001b[0;34m\u001b[0m\u001b[0m\n\u001b[1;32m      5\u001b[0m \u001b[0;32mfor\u001b[0m \u001b[0mi\u001b[0m \u001b[0;32min\u001b[0m \u001b[0mrange\u001b[0m\u001b[0;34m(\u001b[0m\u001b[0;36m0\u001b[0m\u001b[0;34m,\u001b[0m\u001b[0mlen\u001b[0m\u001b[0;34m(\u001b[0m\u001b[0mcity_temp_list\u001b[0m\u001b[0;34m)\u001b[0m\u001b[0;34m,\u001b[0m\u001b[0;36m4\u001b[0m\u001b[0;34m)\u001b[0m\u001b[0;34m:\u001b[0m\u001b[0;34m\u001b[0m\u001b[0m\n\u001b[0;32m----> 6\u001b[0;31m     \u001b[0mprint\u001b[0m\u001b[0;34m(\u001b[0m\u001b[0mtitle\u001b[0m\u001b[0;34m[\u001b[0m\u001b[0;36m0\u001b[0m\u001b[0;34m]\u001b[0m\u001b[0;34m.\u001b[0m\u001b[0mcapitalize\u001b[0m\u001b[0;34m(\u001b[0m\u001b[0;34m)\u001b[0m\u001b[0;34m,\u001b[0m\u001b[0;34m\"of\"\u001b[0m\u001b[0;34m,\u001b[0m\u001b[0mcity_temp_list\u001b[0m\u001b[0;34m[\u001b[0m\u001b[0mi\u001b[0m\u001b[0;34m]\u001b[0m\u001b[0;34m+\u001b[0m\u001b[0;34m\"'s'\"\u001b[0m\u001b[0;34m+\u001b[0m\u001b[0mtitle\u001b[0m\u001b[0;34m[\u001b[0m\u001b[0;36m2\u001b[0m\u001b[0;34m]\u001b[0m\u001b[0;34m.\u001b[0m\u001b[0mcapitalize\u001b[0m\u001b[0;34m(\u001b[0m\u001b[0;34m)\u001b[0m\u001b[0;34m,\u001b[0m\u001b[0;34m'is'\u001b[0m\u001b[0;34m,\u001b[0m\u001b[0mcity_temp_list\u001b[0m\u001b[0;34m[\u001b[0m\u001b[0mi\u001b[0m\u001b[0;34m+\u001b[0m\u001b[0;36m2\u001b[0m\u001b[0;34m]\u001b[0m\u001b[0;34m,\u001b[0m\u001b[0;34m'Celsius'\u001b[0m\u001b[0;34m)\u001b[0m\u001b[0;34m\u001b[0m\u001b[0m\n\u001b[0m\u001b[1;32m      7\u001b[0m \u001b[0mmean_temp\u001b[0m\u001b[0;34m.\u001b[0m\u001b[0mclose\u001b[0m\u001b[0;34m(\u001b[0m\u001b[0;34m)\u001b[0m\u001b[0;34m\u001b[0m\u001b[0m\n",
            "\u001b[0;31mIndexError\u001b[0m: list index out of range"
          ]
        }
      ]
    },
    {
      "metadata": {
        "trusted": true
      },
      "cell_type": "code",
      "source": "!curl https://raw.githubusercontent.com/MicrosoftLearning/intropython/master/world_temp_mean.csv -o mean_temp.txt\n\nmean_temp = open('mean_temp.txt', 'a+')\nheadings = mean_temp.write(\"Rio de Janeiro,Brazil,30.0,18.0\\n\")\nmean_temp.seek(0)\nheadings = mean_temp.readline()\nprint(headings)\n\nheadings_list = headings.split(',')\nprint(headings_list)\n\ncity_temp = mean_temp.readline()\nwhile city_temp:\n    city_temp = city_temp[:-1]\n    new_content = city_temp.split(',')\n    print(\"City:\", new_content[0] + \".\", \"Highest monthly average temperature in Celcius:\", new_content[2])\n    city_temp = mean_temp.readline()\nmean_temp.close()",
      "execution_count": 38,
      "outputs": [
        {
          "output_type": "stream",
          "text": "  % Total    % Received % Xferd  Average Speed   Time    Time     Time  Current\n                                 Dload  Upload   Total   Spent    Left  Speed\n100   222  100   222    0     0   1964      0 --:--:-- --:--:-- --:--:--  1982\ncity,country,month ave: highest high,month ave: lowest low\n\n['city', 'country', 'month ave: highest high', 'month ave: lowest low\\n']\nCity: Beijing. Highest monthly average temperature in Celcius: 30.9\nCity: Cairo. Highest monthly average temperature in Celcius: 34.7\nCity: London. Highest monthly average temperature in Celcius: 23.5\nCity: Nairobi. Highest monthly average temperature in Celcius: 26.3\nCity: New York City. Highest monthly average temperature in Celcius: 28.9\nCity: Sydney. Highest monthly average temperature in Celcius: 26.5\nCity: Tokyo. Highest monthly average temperature in Celcius: 30.8\nCity: Rio de Janeiro. Highest monthly average temperature in Celcius: 30.0\n",
          "name": "stdout"
        }
      ]
    },
    {
      "metadata": {
        "trusted": true
      },
      "cell_type": "code",
      "source": "",
      "execution_count": null,
      "outputs": []
    }
  ],
  "metadata": {
    "kernelspec": {
      "name": "python36",
      "display_name": "Python 3.6",
      "language": "python"
    },
    "language_info": {
      "mimetype": "text/x-python",
      "nbconvert_exporter": "python",
      "name": "python",
      "pygments_lexer": "ipython3",
      "version": "3.6.6",
      "file_extension": ".py",
      "codemirror_mode": {
        "version": 3,
        "name": "ipython"
      }
    }
  },
  "nbformat": 4,
  "nbformat_minor": 2
}