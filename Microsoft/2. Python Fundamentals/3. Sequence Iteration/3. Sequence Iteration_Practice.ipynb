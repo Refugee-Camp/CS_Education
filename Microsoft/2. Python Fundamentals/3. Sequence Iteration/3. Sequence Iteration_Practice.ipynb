{
  "cells": [
    {
      "metadata": {},
      "cell_type": "markdown",
      "source": "# Task 1"
    },
    {
      "metadata": {
        "trusted": true
      },
      "cell_type": "code",
      "source": "# [ ] print out the \"physical states of matter\" (matter_states) in 4 sentences using list iteration\n# each sentence should be of the format: \"Solid - is state of matter #1\" \nmatter_states = ['solid', 'liquid', 'gas', 'plasma']\n\nfor num, matter in enumerate(matter_states, start = 1):\n    print(matter.capitalize(), '- is state of matter #', num)",
      "execution_count": 33,
      "outputs": [
        {
          "output_type": "stream",
          "text": "Solid - is state of matter # 1\nLiquid - is state of matter # 2\nGas - is state of matter # 3\nPlasma - is state of matter # 4\n",
          "name": "stdout"
        }
      ]
    },
    {
      "metadata": {
        "trusted": true
      },
      "cell_type": "code",
      "source": "# [ ] iterate the list (birds) to see any bird names start with \"c\" and remove that item from the list\n# print the birds list before and after removals\nbirds = [\"turkey\", \"hawk\", \"chicken\", \"dove\", \"crow\"]\n\n\ndef bird():\n    for i in range(5):\n        guess = input(\"Enter a bone: \").lower()\n        if guess.startswith('c'):\n            if guess in birds:\n                print('Got one')\n                birds.remove(guess) \n            else:\n                pass\n        else:\n            print(\"not found\")\n\nprint(birds)\nbird()\nprint(birds)",
      "execution_count": 47,
      "outputs": [
        {
          "output_type": "stream",
          "text": "['turkey', 'hawk', 'chicken', 'dove', 'crow']\nEnter a bone: chiucken\nEnter a bone: chicken\nGot one\nEnter a bone: crow\nGot one\nEnter a bone: hawk\nnot found\nEnter a bone: a\nnot found\n['turkey', 'hawk', 'dove']\n",
          "name": "stdout"
        }
      ]
    },
    {
      "metadata": {
        "trusted": true
      },
      "cell_type": "code",
      "source": "# the team makes 1pt, 2pt or 3pt baskets\n# [ ] print the occurrence of each type of basket(1pt, 2pt, 3pt) & total points using the list baskets\nbaskets = [2,2,2,1,2,1,3,3,1,2,2,2,2,1,3]\nsearch_number_1 = 1\nsearch_number_2 = 2\nsearch_number_3 = 3\none = 0\ntwo = 0\nthree = 0\n\n\nfor points in baskets:\n    if points == search_number_1:\n        one += 1\n    elif points == search_number_2:\n        two += 1\n    elif points == search_number_3:\n        three += 1\n\nprint(\"The occurence of 1pt baskets is:\", one)\nprint(\"The occurence of 2pt baskets is:\", two)\nprint(\"The occurence of 3pt baskets is:\", three)",
      "execution_count": 66,
      "outputs": [
        {
          "output_type": "stream",
          "text": "The occurence of 1pt baskets is: 4\nThe occurence of 2pt baskets is: 8\nThe occurence of 3pt baskets is: 3\n",
          "name": "stdout"
        }
      ]
    },
    {
      "metadata": {
        "trusted": true
      },
      "cell_type": "code",
      "source": "baskets = [2,2,2,1,2,1,3,3,1,2,2,2,2,1,3]\nsearch_number_1 = 1\nsearch_number_2 = 2\nsearch_number_3 = 3\ntotal_1 = 0\ntotal_2 = 0\ntotal_3 = 0\n\nfor points in baskets:\n    if points == search_number_1:\n        total_1 += 1\n    elif points == search_number_2:\n        total_2 += 1\n    elif points == search_number_3:\n        total_3 += 1\nprint(\"The occurence of 1pt baskets is:\", total_1)\nprint(\"The occurence of 2pt baskets is:\", total_2)\nprint(\"The occurence of 3pt baskets is:\", total_3)",
      "execution_count": 61,
      "outputs": [
        {
          "output_type": "stream",
          "text": "The occurence of 1pt baskets is: 4\nThe occurence of 2pt baskets is: 8\nThe occurence of 3pt baskets is: 3\n",
          "name": "stdout"
        }
      ]
    },
    {
      "metadata": {},
      "cell_type": "markdown",
      "source": "# Task 2\niteration with range(start) & range(start,stop)"
    },
    {
      "metadata": {
        "trusted": true
      },
      "cell_type": "code",
      "source": "# [ ] using range() print \"hello\" 4 times\nfor i in range(4):\n    print('Hello')",
      "execution_count": 71,
      "outputs": [
        {
          "output_type": "stream",
          "text": "Hello\nHello\nHello\nHello\n",
          "name": "stdout"
        }
      ]
    },
    {
      "metadata": {
        "trusted": true
      },
      "cell_type": "code",
      "source": "# [ ] find spell_list length\n# [ ] use range() to iterate each half of spell_list  \n# [ ] label & print the first and second halves\nspell_list = [\"Tuesday\", \"Wednesday\", \"February\", \"November\", \"Annual\", \"Calendar\", \"Solstice\"]\n\nlength_list = len(spell_list)\nhalf_list = int(length_list/2)\nhalf_1 = \"\"\nhalf_2 = \"\"\n\nfor days in range(0,half_list):\n    half_1 += spell_list[days]\n    half_1 += \"\\n\"\nfor days in range(half_list, length_list):\n    half_2 += spell_list[days]\n    half_2 += \"\\n\"\n\nprint(\"First half:\\n\" + half_1)\nprint(\"Second half:\\n\" + half_2)",
      "execution_count": 72,
      "outputs": [
        {
          "output_type": "stream",
          "text": "First half:\nTuesday\nWednesday\nFebruary\n\nSecond half:\nNovember\nAnnual\nCalendar\nSolstice\n\n",
          "name": "stdout"
        }
      ]
    },
    {
      "metadata": {
        "trusted": true
      },
      "cell_type": "code",
      "source": "# [ ] build a list of numbers from 20 to 29: twenties \n# append each number to twenties list using range(start,stop) iteration\n# [ ] print twenties\ntwenties = []\n\nfor num in range (20,30):\n    twenties.append(num)\n    \nprint(twenties)",
      "execution_count": 15,
      "outputs": [
        {
          "output_type": "stream",
          "text": "[20, 21, 22, 23, 24, 25, 26, 27, 28, 29]\n",
          "name": "stdout"
        }
      ]
    },
    {
      "metadata": {
        "trusted": true
      },
      "cell_type": "code",
      "source": "# [ ] iterate through the numbers populated in the list twenties and add each number to a variable: total\n# [ ] print total\n\ntotal = 0\n\nfor num in range (20,30):\n    total += num\n    print(\"Local total\", total)\n\nprint(total)",
      "execution_count": 16,
      "outputs": [
        {
          "output_type": "stream",
          "text": "Local total 20\nLocal total 41\nLocal total 63\nLocal total 86\nLocal total 110\nLocal total 135\nLocal total 161\nLocal total 188\nLocal total 216\nLocal total 245\n245\n",
          "name": "stdout"
        }
      ]
    },
    {
      "metadata": {
        "trusted": true
      },
      "cell_type": "markdown",
      "source": "# Task 3\n"
    },
    {
      "metadata": {
        "trusted": true
      },
      "cell_type": "code",
      "source": "# [ ] create a list of odd numbers (odd_nums) from 1 to 25 using range(start,stop,skip)\n# [ ] print odd_nums\n# hint: odd numbers are 2 digits apart\n\ntwenties = []\n\nfor num in range (1,26,2):\n    twenties.append(num)\n    \nprint(twenties)",
      "execution_count": 23,
      "outputs": [
        {
          "output_type": "stream",
          "text": "[1, 3, 5, 7, 9, 11, 13, 15, 17, 19, 21, 23, 25]\n",
          "name": "stdout"
        }
      ]
    },
    {
      "metadata": {
        "trusted": true
      },
      "cell_type": "code",
      "source": "# [ ] create a Decending list of odd numbers (odd_nums) from 25 to 1 using range(start,stop,skip)\n# [ ] print odd_nums,  output should resemble [25, 23, ...]\n\ntwenties.reverse()\nprint(twenties)",
      "execution_count": 24,
      "outputs": [
        {
          "output_type": "stream",
          "text": "[25, 23, 21, 19, 17, 15, 13, 11, 9, 7, 5, 3, 1]\n",
          "name": "stdout"
        }
      ]
    },
    {
      "metadata": {
        "trusted": true
      },
      "cell_type": "code",
      "source": "# the list, elements, contains the names of the first 20 elements in atomic number order\n# [ ] print the even number elements \"2 - Helium, 4 - Beryllium,..\" in the list with the atomic number\nelements = ['Hydrogen', 'Helium', 'Lithium', 'Beryllium', 'Boron', 'Carbon', 'Nitrogen', 'Oxygen', 'Fluorine', \\\n 'Neon', 'Sodium', 'Magnesium', 'Aluminum', 'Silicon', 'Phosphorus', 'Sulfur', 'Chlorine', 'Argon', \\\n 'Potassium', 'Calcium']\n\nfor element in range(1,21,2):\n    print(element+1, \"-\", elements[element])",
      "execution_count": 32,
      "outputs": [
        {
          "output_type": "stream",
          "text": "2 - Helium\n4 - Beryllium\n6 - Carbon\n8 - Oxygen\n10 - Neon\n12 - Magnesium\n14 - Silicon\n16 - Sulfur\n18 - Argon\n20 - Calcium\n",
          "name": "stdout"
        }
      ]
    },
    {
      "metadata": {
        "trusted": true
      },
      "cell_type": "code",
      "source": "# [ ] the list, elements_40, contains the names of the first 40 elements in atomic number order\n# [ ] print the odd number elements \"1 - Hydrogen, 3 - Lithium,..\" in the list with the atomic number elements_40\nelements_40 = ['Hydrogen', \\\n 'Helium', 'Lithium', 'Beryllium', 'Boron', 'Carbon', 'Nitrogen', 'Oxygen', 'Fluorine', \\\n 'Neon', 'Sodium', 'Magnesium', 'Aluminum', 'Silicon', 'Phosphorus', 'Sulfur', 'Chlorine', \\\n 'Argon', 'Potassium', 'Calcium', 'Scandium', 'Titanium', 'Vanadium', 'Chromium', 'Manganese', \\\n 'Iron', 'Cobalt', 'Nickel', 'Copper', 'Zinc', 'Gallium', 'Germanium', 'Arsenic', 'Selenium', \\\n 'Bromine', 'Krypton', 'Rubidium', 'Strontium', 'Yttrium', 'Zirconium']\n\nfor element in range(0,40,2):\n    print(element+1, \"-\", elements_40[element])",
      "execution_count": 44,
      "outputs": [
        {
          "output_type": "stream",
          "text": "1 - Hydrogen\n3 - Lithium\n5 - Boron\n7 - Nitrogen\n9 - Fluorine\n11 - Sodium\n13 - Aluminum\n15 - Phosphorus\n17 - Chlorine\n19 - Potassium\n21 - Scandium\n23 - Vanadium\n25 - Manganese\n27 - Cobalt\n29 - Copper\n31 - Gallium\n33 - Arsenic\n35 - Bromine\n37 - Rubidium\n39 - Yttrium\n",
          "name": "stdout"
        }
      ]
    },
    {
      "metadata": {},
      "cell_type": "markdown",
      "source": "# Task 4\n\ncombine lists with + and .extend()"
    },
    {
      "metadata": {
        "trusted": true
      },
      "cell_type": "code",
      "source": "# [ ] print the combined lists (numbers_1 & numbers_2) using \"+\" operator\nnumbers_1 = [20, 21, 22, 23, 24, 25, 26, 27, 28, 29]\n\n# pythonic casting of a range into a list\nnumbers_2 = list(range(30,50,2))\n\nprint(numbers_1 + numbers_2)",
      "execution_count": 46,
      "outputs": [
        {
          "output_type": "stream",
          "text": "[20, 21, 22, 23, 24, 25, 26, 27, 28, 29, 30, 32, 34, 36, 38, 40, 42, 44, 46, 48]\n",
          "name": "stdout"
        }
      ]
    },
    {
      "metadata": {
        "trusted": true
      },
      "cell_type": "code",
      "source": "# [ ] print the combined element lists (first_row & second_row) using \".extend()\" method\nfirst_row = ['Hydrogen', 'Helium']\nsecond_row = ['Lithium', 'Beryllium', 'Boron', 'Carbon', 'Nitrogen', 'Oxygen', 'Fluorine', 'Neon']\n\nfirst_row.extend(second_row)\nprint(first_row)",
      "execution_count": 48,
      "outputs": [
        {
          "output_type": "stream",
          "text": "['Hydrogen', 'Helium', 'Lithium', 'Beryllium', 'Boron', 'Carbon', 'Nitrogen', 'Oxygen', 'Fluorine', 'Neon']\n",
          "name": "stdout"
        }
      ]
    },
    {
      "metadata": {
        "trusted": true
      },
      "cell_type": "code",
      "source": "#Project: Combine 3 element rows\n#Choose to use \"+\" or \".extend()\" to build output similar to\n\n#The 1st three rows of the Period Table of Elements contain:\n['Hydrogen', 'Helium', 'Lithium', 'Beryllium', 'Boron', 'Carbon', 'Nitrogen', 'Oxygen', 'Fluorine', 'Neon', 'Sodium', 'Magnesium', 'Aluminum', 'Silicon', 'Phosphorus', 'Sulfur', 'Chlorine', 'Argon']\n\n#The row breakdown is\n#Row 1: Hydrogen, Helium\n#Row 2: Lithium, Beryllium, Boron, Carbon, Nitrogen, Oxygen, Fluorine, Neon\n#Row 3: Sodium, Magnesium, Aluminum, Silicon, Phosphorus, Sulfur, Chlorine, Argon\n\nelem_1 = ['Hydrogen', 'Helium'] \nelem_2 = ['Lithium', 'Beryllium', 'Boron', 'Carbon', 'Nitrogen', 'Oxygen', 'Fluorine', 'Neon']\nelem_3 = ['Sodium', 'Magnesium', 'Aluminum', 'Silicon', 'Phosphorus', 'Sulfur', 'Chlorine', 'Argon']\n\nprint(\"The first row in the periodic table contain the elements:\", elem_1)\nprint(\"The second row in the periodic table contain the elements:\", elem_2)\nprint(\"The third row in the periodic table contain the elements:\", elem_3)\n\n\nelem_1.extend(elem_2+elem_3)\nprint(elem_1)",
      "execution_count": 56,
      "outputs": [
        {
          "output_type": "stream",
          "text": "The first row in the periodic table contain the elements: ['Hydrogen', 'Helium']\nThe second row in the periodic table contain the elements: ['Lithium', 'Beryllium', 'Boron', 'Carbon', 'Nitrogen', 'Oxygen', 'Fluorine', 'Neon']\nThe third row in the periodic table contain the elements: ['Sodium', 'Magnesium', 'Aluminum', 'Silicon', 'Phosphorus', 'Sulfur', 'Chlorine', 'Argon']\n['Hydrogen', 'Helium', 'Lithium', 'Beryllium', 'Boron', 'Carbon', 'Nitrogen', 'Oxygen', 'Fluorine', 'Neon', 'Sodium', 'Magnesium', 'Aluminum', 'Silicon', 'Phosphorus', 'Sulfur', 'Chlorine', 'Argon']\n",
          "name": "stdout"
        }
      ]
    },
    {
      "metadata": {
        "trusted": true
      },
      "cell_type": "code",
      "source": "# [ ] .extend() jack_jill with \"next_line\" string - print the result\njack_jill = ['Jack', 'and', 'Jill', 'went', 'up', 'the', 'hill']\nnext_line = ['To', 'fetch', 'a', 'pail', 'of', 'water']\njack_jill.extend(next_line)\nprint(jack_jill)",
      "execution_count": 50,
      "outputs": [
        {
          "output_type": "stream",
          "text": "['Jack', 'and', 'Jill', 'went', 'up', 'the', 'hill', 'To', 'fetch', 'a', 'pail', 'of', 'water']\n",
          "name": "stdout"
        }
      ]
    },
    {
      "metadata": {},
      "cell_type": "markdown",
      "source": "# Task 5"
    },
    {
      "metadata": {
        "trusted": true
      },
      "cell_type": "code",
      "source": "# .reverse() : reverse a list in place\n\n# [ ] use .reverse() to print elements starting with \"Calcium\", \"Chlorine\",... in reverse order\nelements = ['Hydrogen', 'Helium', 'Lithium', 'Beryllium', 'Boron', 'Carbon', 'Nitrogen', 'Oxygen', 'Fluorine', \\\n 'Neon', 'Sodium', 'Magnesium', 'Aluminum', 'Silicon', 'Phosphorus', 'Sulfur', 'Chlorine', 'Argon', \\\n 'Potassium', 'Calcium']\n\nif 'Chlorine' in elements:\n    elements.remove('Chlorine')\n    elements.append('Chlorine')\nelse:\n    pass\n\nif 'Calcium' in elements:\n    elements.remove('Calcium')\n    elements.append('Calcium')\nelse:\n    pass\n\nelements.reverse()\nprint(elements)",
      "execution_count": 57,
      "outputs": [
        {
          "output_type": "stream",
          "text": "['Calcium', 'Chlorine', 'Potassium', 'Argon', 'Sulfur', 'Phosphorus', 'Silicon', 'Aluminum', 'Magnesium', 'Sodium', 'Neon', 'Fluorine', 'Oxygen', 'Nitrogen', 'Carbon', 'Boron', 'Beryllium', 'Lithium', 'Helium', 'Hydrogen']\n",
          "name": "stdout"
        }
      ]
    },
    {
      "metadata": {
        "trusted": true
      },
      "cell_type": "code",
      "source": "# [ ] reverse order of the list... Then print only words that are 8 characters or longer from the now reversed order\nspell_list = [\"Tuesday\", \"Wednesday\", \"February\", \"November\", \"Annual\", \"Calendar\", \"Solstice\"]\n\nlengths = [len(i) for i in spell_list[1:-1]]\n\n\nspell_list.sort(key=str.lower, reverse=True)\nprint(spell_list)\n   \nprint(lengths)\n",
      "execution_count": 101,
      "outputs": [
        {
          "output_type": "stream",
          "text": "['Wednesday', 'Tuesday', 'Solstice', 'November', 'February', 'Calendar', 'Annual']\n[9, 8, 8, 6, 8]\n",
          "name": "stdout"
        }
      ]
    },
    {
      "metadata": {
        "trusted": true
      },
      "cell_type": "code",
      "source": "spell_list = [\"Tuesday\", \"Wednesday\", \"February\", \"November\", \"Annual\", \"Calendar\", \"Solstice\"]\n\nnewlist = []\n\nfor word in spell_list:\n    if len(word) >= 8:\n        newlist.append(word)\n\nnewlist.reverse()\n\nprint(newlist)",
      "execution_count": null,
      "outputs": []
    },
    {
      "metadata": {},
      "cell_type": "markdown",
      "source": "# Task 6 \n.sort() and sorted()"
    },
    {
      "metadata": {
        "trusted": true
      },
      "cell_type": "code",
      "source": "# [ ] sort the list element, so names are in alphabetical order and print elements\nelements = ['Hydrogen', 'Helium', 'Lithium', 'Beryllium', 'Boron', 'Carbon', 'Nitrogen', 'Oxygen', 'Fluorine', \\\n 'Neon', 'Sodium', 'Magnesium', 'Aluminum', 'Silicon', 'Phosphorus', 'Sulfur', 'Chlorine', 'Argon', \\\n 'Potassium', 'Calcium']\n\nelements.sort()\n\nprint(elements)",
      "execution_count": null,
      "outputs": []
    },
    {
      "metadata": {
        "trusted": true
      },
      "cell_type": "code",
      "source": "# [ ] print the list, numbers, sorted and then below print the original numbers list \nnumbers = [2,2,2,1,2,1,3,3,1,2,2,2,2,1,3]\n\nsorted_numbers = sorted(numbers)\n\nprint(\"Sorted List:\", sorted_numbers)\nprint(\"Original list:\", numbers)",
      "execution_count": null,
      "outputs": []
    },
    {
      "metadata": {},
      "cell_type": "markdown",
      "source": "# Task 7\nConverting a string to a list with .split()"
    },
    {
      "metadata": {
        "trusted": true
      },
      "cell_type": "code",
      "source": "# [ ] split the string, daily_fact, into a list of word strings: fact_words\n# [ ] print each string in fact_words in upper case on it's own line\n# [ ] convert the string, code_tip, into a list made from splitting on the letter \"o\"\n\ndaily_fact = \"Did you know that there are 1.4 billion students in the world?\"\n\nfact_words = daily_fact.split()\n\nfor word in fact_words:\n    print(word.upper())\n\ncode_tip = daily_fact.split(\"o\")\nprint(list(code_tip))",
      "execution_count": null,
      "outputs": []
    },
    {
      "metadata": {
        "trusted": true
      },
      "cell_type": "code",
      "source": "# [ ] split poem on \"b\" to create a list: poem_words\n# [ ] print poem_words by iterating the list\npoem = \"The bright brain, has bran!\"\n\npoem_words = poem.split('b')\n\nfor word in poem_words:\n    print(word)",
      "execution_count": null,
      "outputs": []
    },
    {
      "metadata": {},
      "cell_type": "markdown",
      "source": "# Task 8\n.join()\nbuild a string from a list"
    },
    {
      "metadata": {
        "trusted": true
      },
      "cell_type": "code",
      "source": "# [ ] print a comma separated string output from the list of Halogen elements using \".join()\"\nhalogens = ['Chlorine', 'Florine', 'Bromine', 'Iodine']\n\nprint(\", \".join(halogens))",
      "execution_count": null,
      "outputs": []
    },
    {
      "metadata": {
        "trusted": true
      },
      "cell_type": "code",
      "source": "# [ ] split the sentence, code_tip, into a words list\n# [ ] print the joined words in the list with no spaces in-between\n# [ ] Bonus: capitalize each word in the list before .join()\ncode_tip =\"Read code aloud or explain the code step by step to a peer\"\n\ncode_tip = code_tip.title()\nprint(code_tip)\n\ncode_list = code_tip.split()\nprint(\"\".join(code_list))",
      "execution_count": null,
      "outputs": []
    },
    {
      "metadata": {},
      "cell_type": "markdown",
      "source": "list(string) & print(\"hello\",end=' ')\n\nCast a string to a list\n\nprint to the same line"
    },
    {
      "metadata": {
        "trusted": true
      },
      "cell_type": "code",
      "source": "# [ ] cast the long_word into individual letters list \n# [ ] print each letter on a line\nlong_word = 'decelerating'\n\nletters = []\n\nfor i in long_word:\n    letters += i\n    \nprint(letters)",
      "execution_count": null,
      "outputs": []
    },
    {
      "metadata": {
        "trusted": true
      },
      "cell_type": "code",
      "source": "# [ ] use use end= in print to output each string in questions with a \"?\" and on new lines\nquestions = [\"What's the closest planet to the Sun\", \"How deep do Dolphins swim\", \"What time is it\"]\n\nfor i in questions:\n    print(i + \"?\")",
      "execution_count": null,
      "outputs": []
    },
    {
      "metadata": {
        "trusted": true
      },
      "cell_type": "code",
      "source": "# [ ] print each item in foot bones \n#    - capitalized, both words if two word name\n#    - separated by a comma and space\n#    - and keeping on a single print line\nfoot_bones = [\"calcaneus\", \"talus\", \"cuboid\", \"navicular\", \"lateral cuneiform\", \n            \"intermediate cuneiform\", \"medial cuneiform\"]\nnew = \"\"\n\nfor bones in foot_bones:\n    if bones == foot_bones[len(foot_bones) - 1]:\n        new += bones.title() + \".\"\n    else:\n        bones = bones.title()\n        new += bones + \", \"\n\nprint(new)",
      "execution_count": null,
      "outputs": []
    }
  ],
  "metadata": {
    "kernelspec": {
      "name": "python3",
      "display_name": "Python 3",
      "language": "python"
    },
    "language_info": {
      "mimetype": "text/x-python",
      "nbconvert_exporter": "python",
      "name": "python",
      "file_extension": ".py",
      "version": "3.5.4",
      "pygments_lexer": "ipython3",
      "codemirror_mode": {
        "version": 3,
        "name": "ipython"
      }
    }
  },
  "nbformat": 4,
  "nbformat_minor": 2
}