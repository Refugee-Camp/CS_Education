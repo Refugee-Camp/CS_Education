{
  "cells": [
    {
      "metadata": {
        "trusted": true
      },
      "cell_type": "code",
      "source": "# [ ] review and run example\nfor count in range(10):\n  print(count)",
      "execution_count": null,
      "outputs": []
    },
    {
      "metadata": {
        "trusted": true
      },
      "cell_type": "code",
      "source": "# review and run example\ndigits = range(10)\nprint(\"digits =\", list(digits), \"\\n\")\nsub_total = 0\n\nfor item in digits:\n    sub_total += item\n    print(\"sub_total:\", sub_total)\nprint(\"Total =\", sub_total)",
      "execution_count": 2,
      "outputs": [
        {
          "output_type": "stream",
          "text": "digits = [0, 1, 2, 3, 4, 5, 6, 7, 8, 9] \n\nsub_total: 0\nsub_total: 1\nsub_total: 3\nsub_total: 6\nsub_total: 10\nsub_total: 15\nsub_total: 21\nsub_total: 28\nsub_total: 36\nsub_total: 45\nTotal = 45\n",
          "name": "stdout"
        }
      ]
    },
    {
      "metadata": {
        "trusted": true
      },
      "cell_type": "code",
      "source": "# [ ] review and run example\n# print the first half of a spelling list\nspell_list = [\"Tuesday\", \"Wednesday\", \"February\", \"November\", \"Annual\", \"Calendar\", \"Solstice\"]\n\n# find length of 1st half of list (must be int)\nhalf_1 = int(len(spell_list)/2)\nprint(\"half way = \",half_1):\n\nfor word in range(half_1):\n    print(spell_list[word])",
      "execution_count": null,
      "outputs": []
    },
    {
      "metadata": {
        "trusted": true
      },
      "cell_type": "code",
      "source": "# Task 1\n# [ ] for x = 6, use range(x) to print the numbers 1 through 6\nx = 6\nfor count in range(x):\n    print(count)\n\n# [ ] using range(x) multiply the numbers 1 through 7\n\nx = range(1,8)\nprint(list(x))\ntotal = 1\n\nfor count in x:\n    total*= count\n    print(total)\n\nprint(total)\n\n# [ ] print the second half of a spelling list using a range(stop) loop to iterate the list\nspell_list = [\"Wednesday\", \"Tuesday\", \"February\", \"November\", \"Annual\", \"Calendar\", \"Solstice\"]",
      "execution_count": 3,
      "outputs": [
        {
          "output_type": "stream",
          "text": "0\n1\n2\n3\n4\n5\n[1, 2, 3, 4, 5, 6, 7]\n1\n2\n6\n24\n120\n720\n5040\n5040\n",
          "name": "stdout"
        }
      ]
    },
    {
      "metadata": {
        "trusted": true
      },
      "cell_type": "code",
      "source": "# [ ] review and run example\nfor count in range(5,10):\n  print(count)\n# [ ] review and run example\nsub_total = 0\ntemp = 0\nfor item in range(5, 11):\n    temp = sub_total\n    sub_total += item\n    print(\"sub_total:\", temp, \"+\", item, \"=\",sub_total)\nprint(\"Total =\", sub_total)\n# [ ] review and run example\n\nspell_list = [\"Tuesday\", \"Wednesday\", \"February\", \"November\", \"Annual\", \"Calendar\", \"Solstice\"]\n\n# find length list \nspell_len = len(spell_list)\n# find lenght of 1st half (aka - start of 2nd half)\nhalf_1 = int(spell_len/2)\n\n# print 2nd half list\nfor word in range(half_1,spell_len):\n    print(spell_list[word])",
      "execution_count": 4,
      "outputs": [
        {
          "output_type": "stream",
          "text": "5\n6\n7\n8\n9\nsub_total: 0 + 5 = 5\nsub_total: 5 + 6 = 11\nsub_total: 11 + 7 = 18\nsub_total: 18 + 8 = 26\nsub_total: 26 + 9 = 35\nsub_total: 35 + 10 = 45\nTotal = 45\nNovember\nAnnual\nCalendar\nSolstice\n",
          "name": "stdout"
        }
      ]
    },
    {
      "metadata": {
        "trusted": true
      },
      "cell_type": "code",
      "source": "# Task 2\n\n# [ ] using range(start,stop), .append() the numbers 5 to 15 to the list: five_fifteen\n# [ ] print list five_fifteen\nfive_fifteen = []\n\nfor list_1 in range(5,16):\n    five_fifteen.append(list_1)\n    print(list_1)\n\nprint(five_fifteen)\n\n# [ ] using range(start,stop) - print the 3rd, 4th and 5th words in spell_list\n# output should include \"February\", \"November\", \"Annual\"\nspell_list = [\"Tuesday\", \"Wednesday\", \"February\", \"November\", \"Annual\", \"Calendar\", \"Solstice\"]\n\nspell_len = len(spell_list)\n\nfor word in range(2,5):\n    print(spell_list[word])\n    \n# [ ] using code find the index of \"Annual\" in spell_list\n# [ ] using range, print the spell_list including \"Annual\" to end of list\nspell_list = [\"Tuesday\", \"Wednesday\", \"February\", \"November\", \"Annual\", \"Calendar\", \"Solstice\"]\nfor count in range(4,len(spell_list)):\n    print(spell_list[count])",
      "execution_count": null,
      "outputs": []
    },
    {
      "metadata": {
        "trusted": true
      },
      "cell_type": "code",
      "source": "# [ ] review and run example\nfor count in range(25,101,25):\n  print(count)\n# [ ] review and run example\nsub_total = 0\ntemp = 0\nfor item in range(25,46,5):\n    temp = sub_total\n    sub_total += item\n    print(\"sub_total:\", temp, \"+\", item, \"=\",sub_total)\nprint(\"Total =\", sub_total)",
      "execution_count": null,
      "outputs": []
    },
    {
      "metadata": {
        "trusted": true
      },
      "cell_type": "code",
      "source": "# [ ] review and run example printing the 1st and then every other word in spell_list\nspell_list = [\"Tuesday\", \"Wednesday\", \"February\", \"November\", \"Annual\", \"Calendar\", \"Solstice\"]\n\nfor index in range(0,len(spell_list),2):\n    print(spell_list[index])\n# [ ] review and run example casting range to list\nodd_list = list(range(1,20,2))\nprint(odd_list)",
      "execution_count": null,
      "outputs": []
    },
    {
      "metadata": {
        "trusted": true
      },
      "cell_type": "code",
      "source": "# Task 3\n\n# [ ] print numbers 10 to 20 by 2's using range\nfor count in range (10,22,2):\n    print(count)\n\n# [ ] print numbers 20 to 10 using range (need to countdown)\n# Hint: start at 20\n\nfor count in range (20,9,-1):\n    print(count)\n    \n# [ ] print first and every third word in spell_list\nspell_list = [\"Tuesday\", \"Wednesday\", \"February\", \"November\", \"Annual\", \"Calendar\", \"Solstice\"]\n\n\nfor count in range (0,len(spell_list),3):\n    print(spell_list[count])",
      "execution_count": null,
      "outputs": []
    },
    {
      "metadata": {
        "trusted": true
      },
      "cell_type": "code",
      "source": "# Task 4\nword = input(\"Type: \")\n\nword = list(word)\nprint(word)\n\nodd_letters = ''\neven_letters = ''\n\nlength = int(len(word))\n\nfor i in range(1,length+1):\n    if i%2 == 0:\n        even_letters = even_letters + word[i-1]\n    else:\n        odd_letters = odd_letters + word[i-1]\n\nprint(\"even_letters\",even_letters)\nprint(\"odd_letters\",odd_letters)",
      "execution_count": null,
      "outputs": []
    },
    {
      "metadata": {
        "trusted": true
      },
      "cell_type": "code",
      "source": "",
      "execution_count": null,
      "outputs": []
    }
  ],
  "metadata": {
    "kernelspec": {
      "name": "python36",
      "display_name": "Python 3.6",
      "language": "python"
    },
    "language_info": {
      "mimetype": "text/x-python",
      "nbconvert_exporter": "python",
      "name": "python",
      "pygments_lexer": "ipython3",
      "version": "3.6.3",
      "file_extension": ".py",
      "codemirror_mode": {
        "version": 3,
        "name": "ipython"
      }
    }
  },
  "nbformat": 4,
  "nbformat_minor": 2
}