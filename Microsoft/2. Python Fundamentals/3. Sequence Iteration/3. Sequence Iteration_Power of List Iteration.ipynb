{
  "cells": [
    {
      "metadata": {
        "trusted": true
      },
      "cell_type": "code",
      "source": "#More iteration of lists\n#- Counting\n#- Searching\n#use string methods while iterating lists\n\n#Examples\n# [ ] review and run example\n# iterates the \"cities\" list, count & sum letter \"a\" in each city name\n\ncities = [\"New York\", \"Shanghai\", \"Munich\", \"Tokyo\", \"Dubai\", \"Mexico City\", \"S�o Paulo\", \"Hyderabad\"]\nsearch_letter = \"a\"\ntotal = 0\n\nfor city_name in cities:\n    total += city_name.lower().count(search_letter)\n\nprint(\"The total # of \\\"\" + search_letter + \"\\\" found in the list is\", total)",
      "execution_count": 8,
      "outputs": [
        {
          "output_type": "stream",
          "text": "The total # of \"a\" found in the list is 6\n",
          "name": "stdout"
        }
      ]
    },
    {
      "metadata": {
        "trusted": true
      },
      "cell_type": "code",
      "source": "#search function\n\n# [ ] review and run example\n# city_search function has a default list of cities to search\ndef city_search(search_item, cities = [\"New York\", \"Shanghai\", \"Munich\", \"Tokyo\"] ):\n    for city in cities:\n        if city.lower() == search_item.lower():\n            return True\n        else:\n            # go to the next item\n            pass\n    # no more items in list\n    return False\n\n# a list of cities\nvisited_cities = [\"New York\", \"Shanghai\", \"Munich\", \"Tokyo\", \"Dubai\", \"Mexico City\", \"S�o Paulo\", \"Hyderabad\"]\n\nsearch = input(\"enter a city visited: \")\n\n# Search the default city list\nprint(search, \"in default cities is\", city_search(search))\n\n# search the list visited_cities using 2nd argument\nprint(search, \"in visited_cites list is\", city_search(search,visited_cities))",
      "execution_count": null,
      "outputs": []
    },
    {
      "metadata": {
        "trusted": true
      },
      "cell_type": "code",
      "source": "#Task 3\n#Program: Paint Stock\n# a list for a paint color request and print status of color \"found\"/\"not found\"\n\n#create list, paint_colors, with 5+ colors\n#get user input of string:color_request\n#iterate through each color in paint_colors to check for a match with color_request\n# [ ] complete paint stock\n\ndef paint_colors(color_request, colors = [\"White\", \"Yellow\", \"Green\", \"Black\", \"Red\", \"Blue\"] ):\n    for color in colors:\n        if color.lower() == color_request.lower():\n            return True\n        else:\n            pass\n    return False\n\n# a list of cities\n\ncolor_request = input(\"enter a color: \")\n\n\nprint(color_request, \"in color list is\", paint_colors(color_request))",
      "execution_count": null,
      "outputs": []
    },
    {
      "metadata": {
        "trusted": true
      },
      "cell_type": "code",
      "source": "#Task 4\n#Program: Foot Bones Quiz\n#Create a function that will iterate through foot_bones looking for a match of a string argument\n\n#Call the function 2 times with the name of a footbone\n#print immediate feedback for each answer (correct - incorrect)\n#print the total # of foot_bones identified\n#The program will use the foot_bones list:\n\nfoot_bones = [\"calcaneus\", \"talus\", \"cuboid\", \"navicular\", \"lateral cuneiform\",\n             \"intermediate cuneiform\", \"medial cuneiform\"]\n#Bonus: remove correct response item from list if correct so user cannot answer same item twice\n\n# [ ] Complete Foot Bones Quiz\n# foot_bones = [\"calcaneus\", \"talus\", \"cuboid\", \"navicular\", \"lateral cuneiform\",\n#             \"intermediate cuneiform\", \"medial cuneiform\"]\n\n\nfoot_bones = [\"calcaneus\", \"talus\", \"cuboid\", \"navicular\", \"lateral cuneiform\", \"intermediate cuneiform\", \"medial cuneiform\"]\n\ndef foot_bones_quiz(guess, answer):\n    total_bones = 0\n    for bones in answer:\n        total_bones += bones.count(bones)\n        if guess.lower() == bones.lower():\n            return True\n        else:\n            pass\n    return False\n    print(\"Total number of identified bones: \" + str(total_bones))\n\nuser_guess = input(\"Enter a bone: \")\nprint(\"Is \" + user_guess.lower() + \" a foot bone?\" + foot_bones_quiz(user_guess, foot_bones)\nuser_guess = input(\"Enter another bone: \")\nprint(\"Is \" + user_guess.lower() + \" a foot bone?\" + foot_bones_quiz(user_guess, foot_bones))",
      "execution_count": null,
      "outputs": []
    },
    {
      "metadata": {
        "trusted": true
      },
      "cell_type": "code",
      "source": "#Sort and Filter\n#use comparison operators while iterating lists\n#Examples\n# [ ] review and run example of sorting into strings to display\nfoot_bones = [\"calcaneus\", \"talus\", \"cuboid\", \"navicular\", \"lateral cuneiform\", \n            \"intermediate cuneiform\", \"medial cuneiform\"]\nlonger_names = \"\"\nshorter_names = \"\"\n\nfor bone_name in foot_bones:\n    if len(bone_name) < 10:\n        shorter_names += \"\\n\" + bone_name\n    else:\n        longer_names += \"\\n\" + bone_name\n\nprint(shorter_names)\nprint(longer_names)\n\n# [ ] review and run example of sorting into lists\nfoot_bones = [\"calcaneus\", \"talus\", \"cuboid\", \"navicular\", \"lateral cuneiform\", \n            \"intermediate cuneiform\", \"medial cuneiform\"]\nlonger_names = []\nshorter_names = []\n\nfor bone_name in foot_bones:\n    if len(bone_name) < 10:\n        shorter_names.append(bone_name)\n    else:\n        longer_names.append(bone_name)\n\nprint(shorter_names)\nprint(longer_names)",
      "execution_count": null,
      "outputs": []
    },
    {
      "metadata": {
        "trusted": true
      },
      "cell_type": "code",
      "source": "#Task 2\n#sort and filter\n# [ ] Using cities from the example above iterate throught the list using \"for\"/\"in\"\n# [ ] Print only cities starting with \"m\"\ncities = [\"New York\", \"Shanghai\", \"Munich\", \"Tokyo\", \"Dubai\", \"Mexico City\", \"Sao Paulo\", \"Hyderabad\"]\n\nfor city in cities:\n    if city[0] == \"M\":\n        print (city)\n    else:\n        pass\n\ncities = [\"New York\", \"Shanghai\", \"Munich\", \"Tokyo\", \"Dubai\", \"Mexico City\", \"Sao Paulo\", \"Hyderabad\"]\n\nfor city in cities:\n    if city.startswith('M'):\n        print (city)\n    else:\n        pass",
      "execution_count": null,
      "outputs": []
    },
    {
      "metadata": {
        "trusted": true
      },
      "cell_type": "code",
      "source": "# [ ] Using cities, from the example in previous page. iterate through the list using \"for\"/\"in\"\n# cities = [\"New York\", \"Shanghai\", \"Munich\", \"Tokyo\", \"Dubai\", \"Mexico City\", \"S�o Paulo\", \"Hyderabad\"]\n# [ ] sort into lists with \"A\" in the city name and without \"A\" in the name: a_city & no_a_city\n\ncities = [\"New York\", \"Shanghai\", \"Munich\", \"Tokyo\", \"Dubai\", \"Mexico City\", \"Sao Paulo\", \"Hyderabad\"]\na_city = \"\"\nno_a_city = \"\"\n\n\nfor city in cities:\n    if \"A\" in city.upper():\n        a_city += \"\\n\" + city\n    else:\n        no_a_city += \"\\n\" + city\n\nprint(\"A cities:\", a_city)\nprint(\"Not A cities:\", no_a_city)",
      "execution_count": null,
      "outputs": []
    },
    {
      "metadata": {
        "trusted": true
      },
      "cell_type": "code",
      "source": "#Concept\n#Iterate through Lists using\n#for in\ncities = [\"New York\", \"Shanghai\", \"Munich\", \"Tokyo\", \"Dubai\", \"Mexico City\", \"S�o Paulo\", \"Hyderabad\"]\n\nfor city in cities:\n    print(city)\n#Examples\n# [ ] review and run example\ncities = [\"New York\", \"Shanghai\", \"Munich\", \"Tokyo\", \"Dubai\", \"Mexico City\", \"S�o Paulo\", \"Hyderabad\"]\n\nfor city in cities:\n    print(city)\n# [ ] review and run example\nsales = [6, 8, 9, 11, 12, 17, 19, 20, 22]\ntotal = 0\n\nfor sale in sales:\n    total += sale\n    \nprint(\"total sales:\", total)\n    \n\n#change the iterator variable name from \"sale\" to \"dollars\" or to any valid name\n\n# [ ] review and run example \nsales = [6, 8, 9, 11, 12, 17, 19, 20, 22]\ntotal = 0\n\nfor dollars in sales:\n    total += dollars\n    \nprint(\"total sales:\", total)",
      "execution_count": null,
      "outputs": []
    },
    {
      "metadata": {
        "trusted": true
      },
      "cell_type": "code",
      "source": "# Task 1\n# [ ] create a list of 4 to 6 strings: birds\n# print each bird in the list\n\nbirds = [\"eagle\", \"raptor\", \"fly\", \"pelican\"]\n\nfor bird in birds:\n    print (bird)\n    \n# [ ]  create a list of 7 integers: player_points\n# [ ] print double the points for each point value\n\nlist_int = [3, 5, 7]\n\nfor x in list_int:\n        x *= 2\n        print (x)",
      "execution_count": null,
      "outputs": []
    },
    {
      "metadata": {
        "trusted": true
      },
      "cell_type": "code",
      "source": "# [ ] create long_string by concatenating the items in the \"birds\" list previously created\n# print long_string - make sure to put a space betweeen the bird names\n\nbirds = [\"eagle\", \"raptor\", \"fly\", \"pelican\"]\n\nlong_string = birds + [\"word1\", \"Word2\", \"word3\"]\n\nfor variable in long_string:\n    print (variable)",
      "execution_count": null,
      "outputs": []
    }
  ],
  "metadata": {
    "kernelspec": {
      "name": "python36",
      "display_name": "Python 3.6",
      "language": "python"
    },
    "language_info": {
      "mimetype": "text/x-python",
      "nbconvert_exporter": "python",
      "name": "python",
      "pygments_lexer": "ipython3",
      "version": "3.6.3",
      "file_extension": ".py",
      "codemirror_mode": {
        "version": 3,
        "name": "ipython"
      }
    }
  },
  "nbformat": 4,
  "nbformat_minor": 2
}