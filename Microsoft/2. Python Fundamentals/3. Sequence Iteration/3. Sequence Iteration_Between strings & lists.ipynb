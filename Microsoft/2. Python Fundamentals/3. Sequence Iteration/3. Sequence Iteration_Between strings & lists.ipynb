{
  "cells": [
    {
      "metadata": {
        "trusted": true
      },
      "cell_type": "code",
      "source": "# [ ] review and run example\ntip = \"Notebooks can be exported as .pdf\"\ntip_words = tip.split()\n\nprint(\"STRING:\", tip)\nprint(\"LIST:\", tip_words, \"\\n\")\n\nfor word in tip_words:\n    print(word)",
      "execution_count": 1,
      "outputs": [
        {
          "output_type": "stream",
          "text": "STRING: Notebooks can be exported as .pdf\nLIST: ['Notebooks', 'can', 'be', 'exported', 'as', '.pdf'] \n\nNotebooks\ncan\nbe\nexported\nas\n.pdf\n",
          "name": "stdout"
        }
      ]
    },
    {
      "metadata": {
        "trusted": true
      },
      "cell_type": "code",
      "source": "# [ ] review and run example\nrhyme = \"London bridge is falling down\"\n\nrhyme_words = rhyme.split()\n\nrhyme_words.reverse()\n\nfor word in rhyme_words:\n    print(word)",
      "execution_count": 2,
      "outputs": [
        {
          "output_type": "stream",
          "text": "down\nfalling\nis\nbridge\nLondon\n",
          "name": "stdout"
        }
      ]
    },
    {
      "metadata": {
        "trusted": true
      },
      "cell_type": "code",
      "source": "# Task 1\n# [ ] split the string(rhyme) into a list of words (rhyme_words)\n# [ ] print each word on it's own line\n\nrhyme = 'Jack and Jill went up the hill To fetch a pail of water' \nrhyme_words = rhyme.split()\n\nprint(rhyme_words)",
      "execution_count": 3,
      "outputs": [
        {
          "output_type": "stream",
          "text": "['Jack', 'and', 'Jill', 'went', 'up', 'the', 'hill', 'To', 'fetch', 'a', 'pail', 'of', 'water']\n",
          "name": "stdout"
        }
      ]
    },
    {
      "metadata": {
        "trusted": true
      },
      "cell_type": "code",
      "source": "code_tip = \"Python uses spaces for indentation\"\ncode_split = code_tip.split()\n\nfor word1 in code_split:\n    print(word1)",
      "execution_count": 4,
      "outputs": [
        {
          "output_type": "stream",
          "text": "Python\nuses\nspaces\nfor\nindentation\n",
          "name": "stdout"
        }
      ]
    },
    {
      "metadata": {
        "trusted": true
      },
      "cell_type": "code",
      "source": "# [ ] review and run example\ncode_tip = \"Python-uses-spaces-for-indentation\"\ntip_words = code_tip.split('-')\n\nprint(tip_words)",
      "execution_count": 5,
      "outputs": [
        {
          "output_type": "stream",
          "text": "['Python', 'uses', 'spaces', 'for', 'indentation']\n",
          "name": "stdout"
        }
      ]
    },
    {
      "metadata": {
        "trusted": true
      },
      "cell_type": "code",
      "source": "# [ ] review and run example - study the list print output\ncode_tip = \"Python uses spaces for indentation\"\n\n# split on \"a\"\ntip_words = code_tip.split('a')\nprint(code_tip)\nprint(tip_words)",
      "execution_count": 6,
      "outputs": [
        {
          "output_type": "stream",
          "text": "Python uses spaces for indentation\n['Python uses sp', 'ces for indent', 'tion']\n",
          "name": "stdout"
        }
      ]
    },
    {
      "metadata": {
        "trusted": true
      },
      "cell_type": "code",
      "source": "# [ ] review and run example\n# triple quotes ''' ''' preserve formatting such as spaces and line breaks\nbig_quote = \"\"\"Jack and Jill went up the hill\nTo fetch a pail of water\nJack fell down and broke his crown\nAnd Jill came tumbling after\"\"\"\n\n# split on line breaks (\\n)\nquote_lines = big_quote.split('\\n')\nprint(quote_lines, '\\n')\n\n# print the list in reverse with index slicing\nfor line in quote_lines[::-1]:\n    print(line)",
      "execution_count": 11,
      "outputs": [
        {
          "output_type": "stream",
          "text": "['Jack and Jill went up the hill', 'To fetch a pail of water', 'Jack fell down and broke his crown', 'And Jill came tumbling after'] \n\nAnd Jill came tumbling after\nJack fell down and broke his crown\nTo fetch a pail of water\nJack and Jill went up the hill\n",
          "name": "stdout"
        }
      ]
    },
    {
      "metadata": {
        "trusted": true
      },
      "cell_type": "code",
      "source": "# Task 2\n# [ ] split poem into a list of phrases by splitting on \"*\" a\n# [ ] print each phrase on a new line in title case\n\npoem = \"Write code frequently*Save code frequently*Comment code frequently*Study code frequently*\"\npoem_split = poem.split(\"*\")\n\nfor line in poem_split:\n    print(line)",
      "execution_count": 15,
      "outputs": [
        {
          "output_type": "stream",
          "text": "Write code frequently\nSave code frequently\nComment code frequently\nStudy code frequently\n\n",
          "name": "stdout"
        }
      ]
    },
    {
      "metadata": {
        "trusted": true
      },
      "cell_type": "code",
      "source": "# [ ] review and run example\ntip_words = ['Notebooks', 'can', 'be', 'exported', 'as', '.pdf'] \n\n# join tip_words objects with spaces\nprint(\" \".join(tip_words))",
      "execution_count": 16,
      "outputs": [
        {
          "output_type": "stream",
          "text": "Notebooks can be exported as .pdf\n",
          "name": "stdout"
        }
      ]
    },
    {
      "metadata": {
        "trusted": true
      },
      "cell_type": "code",
      "source": "# [ ] review and run example\nno_space = \"\"\nletters = [\"P\", \"y\", \"t\", \"h\", \"o\", \"n\"]\nprint(no_space.join(letters))",
      "execution_count": 17,
      "outputs": [
        {
          "output_type": "stream",
          "text": "Python\n",
          "name": "stdout"
        }
      ]
    },
    {
      "metadata": {
        "trusted": true
      },
      "cell_type": "code",
      "source": "# [ ] review and run example - .join() iterates through sequences\ndash = \"-\"\nspace = \" \"\nword = \"Iteration\"\nellipises = \"...\"\n\ndash_join = dash.join(word)\nprint(dash_join)\nprint(space.join(word))\nprint(ellipises.join(word))",
      "execution_count": 18,
      "outputs": [
        {
          "output_type": "stream",
          "text": "I-t-e-r-a-t-i-o-n\nI t e r a t i o n\nI...t...e...r...a...t...i...o...n\n",
          "name": "stdout"
        }
      ]
    },
    {
      "metadata": {
        "trusted": true
      },
      "cell_type": "code",
      "source": "# Task 3\n# [ ] .join() letters list objects with an Asterisk: \"*\"\nletters = [\"A\", \"s\", \"t\", \"e\", \"r\", \"i\", \"s\", \"k\"]\nstar = \"*\"\n\nprint(star.join(letters))",
      "execution_count": 21,
      "outputs": [
        {
          "output_type": "stream",
          "text": "A*s*t*e*r*i*s*k\n",
          "name": "stdout"
        }
      ]
    },
    {
      "metadata": {
        "trusted": true
      },
      "cell_type": "code",
      "source": "# Task 4\n# [ ] complete Choose the separator\n\nphrase_words = ['Jack', 'and', 'Jill', 'went', 'up', 'the', 'hill', 'To', 'fetch', 'a', 'pail', 'of', 'water']\nseparator = input()\n\nprint(separator.join(phrase_words))",
      "execution_count": 22,
      "outputs": [
        {
          "output_type": "stream",
          "name": "stdout",
          "text": " \nJack and Jill went up the hill To fetch a pail of water\n"
        }
      ]
    },
    {
      "metadata": {
        "trusted": true
      },
      "cell_type": "code",
      "source": "# [ ] review and run example\nhello_letters = list(\"Hello\")\nprint(hello_letters)",
      "execution_count": 23,
      "outputs": [
        {
          "output_type": "stream",
          "text": "['H', 'e', 'l', 'l', 'o']\n",
          "name": "stdout"
        }
      ]
    },
    {
      "metadata": {
        "trusted": true
      },
      "cell_type": "code",
      "source": "# [ ] review and run example\n# cast sting to list\nword_letters = list(\"concatenates\")\n\n# .join() concatenates the list\n# print on same line setting the end character\nprint('~'.join(word_letters))",
      "execution_count": 24,
      "outputs": [
        {
          "output_type": "stream",
          "text": "c~o~n~c~a~t~e~n~a~t~e~s\n",
          "name": "stdout"
        }
      ]
    },
    {
      "metadata": {
        "trusted": true
      },
      "cell_type": "code",
      "source": "# [ ] review and run example\nprint(\"Hello \", end = '')\nprint(\"world\")",
      "execution_count": 25,
      "outputs": [
        {
          "output_type": "stream",
          "text": "Hello world\n",
          "name": "stdout"
        }
      ]
    },
    {
      "metadata": {
        "trusted": true
      },
      "cell_type": "code",
      "source": "# [ ] review and run example\n# This  is the default print end\nprint(\"Hello World!\", end=\"\\n\")\nprint('still something to learn about print()')",
      "execution_count": 26,
      "outputs": [
        {
          "output_type": "stream",
          "text": "Hello World!\nstill something to learn about print()\n",
          "name": "stdout"
        }
      ]
    },
    {
      "metadata": {
        "trusted": true
      },
      "cell_type": "code",
      "source": "# [ ] review and run example\n# end inserts any valid str character: A-z, 0-9,!,@,*,\\n,\\t or ''(empty string)...\nfor letter in \"Concatenation\":\n    print(letter, end='*')",
      "execution_count": 27,
      "outputs": [
        {
          "output_type": "stream",
          "text": "C*o*n*c*a*t*e*n*a*t*i*o*n*",
          "name": "stdout"
        }
      ]
    },
    {
      "metadata": {
        "trusted": true
      },
      "cell_type": "code",
      "source": "# Task 5\n# [ ] use 3 print() statements to output text to one line \n# [ ] separate the lines by using \"- \" (dash space)\nprint(\"Hello\", end = \"- \")\nprint(\"old\", end = \"- \")\nprint(\"friend\", end = \"- \")",
      "execution_count": 31,
      "outputs": [
        {
          "output_type": "stream",
          "text": "Hello- old- friend- ",
          "name": "stdout"
        }
      ]
    },
    {
      "metadata": {
        "trusted": true
      },
      "cell_type": "code",
      "source": "# Task 6\n# [ ] create a string (fact) of 20 or more characters and cast to a list (fact_letters)\n# [ ] iterate fact, printing each char on one line, except for spaces print a new line\n\nfact = \"Always test your code\"\nfact_letters = list(fact)\n\nfor letter in fact_letters:\n    print(letter, end = \"\")",
      "execution_count": 42,
      "outputs": [
        {
          "output_type": "stream",
          "text": "Always test your code",
          "name": "stdout"
        }
      ]
    },
    {
      "metadata": {
        "trusted": true
      },
      "cell_type": "code",
      "source": "# Task 7\n# [ ] create add the digits\n\ndigits = (1,2,3,4,5,6,7,8,9,10,11,12,13,14,15,16,17,18,19,20)\nlist_digits = list(digits)\nplus = \"+\"\nprint (list_digits)\n\nprint (plus.join(list_digits))\n\n# All WRONG!!!",
      "execution_count": 60,
      "outputs": [
        {
          "output_type": "stream",
          "text": "[1, 2, 3, 4, 5, 6, 7, 8, 9, 10, 11, 12, 13, 14, 15, 16, 17, 18, 19, 20]\n",
          "name": "stdout"
        },
        {
          "output_type": "error",
          "ename": "TypeError",
          "evalue": "sequence item 0: expected str instance, int found",
          "traceback": [
            "\u001b[0;31m---------------------------------------------------------------------------\u001b[0m",
            "\u001b[0;31mTypeError\u001b[0m                                 Traceback (most recent call last)",
            "\u001b[0;32m<ipython-input-60-1c7811134f09>\u001b[0m in \u001b[0;36m<module>\u001b[0;34m()\u001b[0m\n\u001b[1;32m      7\u001b[0m \u001b[0mprint\u001b[0m \u001b[0;34m(\u001b[0m\u001b[0mlist_digits\u001b[0m\u001b[0;34m)\u001b[0m\u001b[0;34m\u001b[0m\u001b[0m\n\u001b[1;32m      8\u001b[0m \u001b[0;34m\u001b[0m\u001b[0m\n\u001b[0;32m----> 9\u001b[0;31m \u001b[0mprint\u001b[0m \u001b[0;34m(\u001b[0m\u001b[0mplus\u001b[0m\u001b[0;34m.\u001b[0m\u001b[0mjoin\u001b[0m\u001b[0;34m(\u001b[0m\u001b[0mlist_digits\u001b[0m\u001b[0;34m)\u001b[0m\u001b[0;34m)\u001b[0m\u001b[0;34m\u001b[0m\u001b[0m\n\u001b[0m\u001b[1;32m     10\u001b[0m \u001b[0;34m\u001b[0m\u001b[0m\n\u001b[1;32m     11\u001b[0m \u001b[0;31m# All WRONG!!!\u001b[0m\u001b[0;34m\u001b[0m\u001b[0;34m\u001b[0m\u001b[0m\n",
            "\u001b[0;31mTypeError\u001b[0m: sequence item 0: expected str instance, int found"
          ]
        }
      ]
    },
    {
      "metadata": {
        "trusted": true
      },
      "cell_type": "code",
      "source": "",
      "execution_count": null,
      "outputs": []
    }
  ],
  "metadata": {
    "kernelspec": {
      "name": "python36",
      "display_name": "Python 3.6",
      "language": "python"
    },
    "language_info": {
      "mimetype": "text/x-python",
      "nbconvert_exporter": "python",
      "name": "python",
      "pygments_lexer": "ipython3",
      "version": "3.6.3",
      "file_extension": ".py",
      "codemirror_mode": {
        "version": 3,
        "name": "ipython"
      }
    }
  },
  "nbformat": 4,
  "nbformat_minor": 2
}