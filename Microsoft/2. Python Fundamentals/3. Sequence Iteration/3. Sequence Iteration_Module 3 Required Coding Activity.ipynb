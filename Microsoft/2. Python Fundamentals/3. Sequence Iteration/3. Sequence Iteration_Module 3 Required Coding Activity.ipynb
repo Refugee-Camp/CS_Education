{
  "cells": [
    {
      "metadata": {
        "collapsed": true,
        "trusted": false
      },
      "cell_type": "markdown",
      "source": "# Module 3 Required Coding Activity\nIntroduction to Python (Unit 2) Fundamentals\n\nThis Activity is intended to be completed in the jupyter notebook, Required_Code_MOD3_IntroPy.ipynb, and then pasted into the assessment page that follows.\n\nAll course .ipynb Jupyter Notebooks are available from the project files download topic in Module 1, Section 1.\n\nThis is an activity from the Jupyter Notebook Practice_MOD03_IntroPy.ipynb which you may have already completed.\n\nAssignment Requirements\nNOTE: This program requires print output and using code syntax used in module 3: if, input, def, return, for/in keywords, .lower() and .upper() method, .append, .pop, .split methods, range and len functions\nProgram: poem mixer\nThis program takes string input and then prints out a mixed order version of the string\n\nProgram Parts\n\nprogram flow gathers the word list, modifies the case and order, and prints\n\nget string input, input like a poem, verse or saying\nsplit the string into a list of individual words\ndetermine the length of the list\nLoop the length of the list by index number and for each list index:\nif a word is short (3 letters or less) make the word in the list lowercase\nif a word is long (7 letters or more) make the word in the list uppercase\ncall the word_mixer function with the modified list\nprint the return value from the word_mixer function\nword_mixer Function has 1 argument: an original list of string words, containing greater than 5 words and the function returns a new list.\n\nsort the original list\ncreate a new list\nLoop while the list is longer than 5 words:\nin each loop pop a word from the sorted original list and append to the new list\npop the word 5th from the end of the list and append to the new list\npop the first word in the list and append to the new list\npop the last word in the list and append to the new list\nreturn the new list on exiting the loop\nTODO: upload image to blob\n\ninput example (beginning of William Blake poem, \"The Fly\")\n\nenter a saying or poem: Little fly, Thy summer’s play My thoughtless hand Has brushed away. Am not I A fly like thee? Or art not thou A man like me?\n\noutput example\n\nor BRUSHED thy not Little thou me? SUMMER’S thee? like THOUGHTLESS play i a not hand a my fly am man\n\nalternative output in each loop in the function that creates the new list add a \"\\n\" to the list\n\n or BRUSHED thy \n not Little thou \n me? SUMMER’S thee? \n like THOUGHTLESS play \n i a not \n hand a my \n fly am man"
    },
    {
      "metadata": {
        "trusted": true
      },
      "cell_type": "code",
      "source": "def word_mixer(words_list):\n    words_list.sort()\n    new_words=[]\n    while len(words_list)>5:\n        new_words.append(words_list.pop(-5)+' '+words_list.pop(0)+' '+words_list.pop())\n    return new_words\n        \nmsg_input=input(\"Enter bunch of words : \")\nwords_list=msg_input.split()\nlist_length=len(words_list)\nfor i in range(list_length):\n    if len(words_list[i])<=3:\n        words_list[i] = words_list[i].lower()\n    elif len(words_list[i]) >= 7:\n        words_list[i] = words_list[i].upper()\n    else:\n        pass\nprint(words_list,'\\n')\nnew_list = word_mixer(words_list)\nfor name in new_list:\n    print(name)",
      "execution_count": 8,
      "outputs": [
        {
          "output_type": "stream",
          "name": "stdout",
          "text": "Enter bunch of words : This Activity is intended to be completed in a jupyter notebook and then pasted into the assessment page submission box below\n['This', 'ACTIVITY', 'is', 'INTENDED', 'to', 'be', 'COMPLETED', 'in', 'a', 'JUPYTER', 'NOTEBOOK', 'and', 'then', 'pasted', 'into', 'the', 'ASSESSMENT', 'page', 'SUBMISSION', 'box', 'below'] \n\npage ACTIVITY to\ninto ASSESSMENT then\nbox COMPLETED the\nbe INTENDED pasted\na JUPYTER is\nSUBMISSION NOTEBOOK in\n"
        }
      ]
    },
    {
      "metadata": {
        "trusted": true
      },
      "cell_type": "code",
      "source": "",
      "execution_count": null,
      "outputs": []
    }
  ],
  "metadata": {
    "kernelspec": {
      "name": "python3",
      "display_name": "Python 3",
      "language": "python"
    },
    "language_info": {
      "mimetype": "text/x-python",
      "nbconvert_exporter": "python",
      "name": "python",
      "file_extension": ".py",
      "version": "3.5.4",
      "pygments_lexer": "ipython3",
      "codemirror_mode": {
        "version": 3,
        "name": "ipython"
      }
    }
  },
  "nbformat": 4,
  "nbformat_minor": 2
}