{
 "cells": [
  {
   "cell_type": "markdown",
   "metadata": {},
   "source": [
    "# Deep Learning Explained\n",
    "\n",
    "# Module 2 - Lab - Introduction to Keras \n",
    "\n",
    "# 1.0 Getting started with Keras\n",
    "\n",
    "This notebook will provide a first look at using the Keras package to define, train and evaluate deep learning models with Keras. By the end of this lesson you will be able to work with basic feedforward architecture multi-layer neural nets. Feedforward networks are one of a class of basic models called **sequential models** which are easy to define with Keras. Further, some basic regularization is introduced. Additional regularization methods are covered in a subsequent lesson. \n",
    "\n",
    "The details of feedforward models and regularization will be introduced in other lessons. For now, focus on becoming comfortable with using Keras so you are prepared for the rest of the labs in this course. \n",
    "\n",
    "****\n",
    "**Note:** This notebook was constructed and tested using Anaconda 3 with Python 3.7. It is assumed that the standard Anaconda stack has been installed.\n",
    "****"
   ]
  },
  {
   "cell_type": "markdown",
   "metadata": {},
   "source": [
    "### 1.1 Keras architecture\n",
    "\n",
    "Keras is a wrapper over other deep learning frameworks. Keras provides consistent and simplified APIs for using these underlying frameworks. In this lesson we will focus on the widely used Python API. \n",
    "\n",
    "Presently, Keras supports TensorFlow, CNTK and Theano. For the labs for this course, we will be using Keras as a wrapper on top of TensorFlow.\n",
    "\n",
    "If you have not yet installed Keras and TensorFlow, follow the [installation instructions from the Keras site](https://keras.io/#installation)."
   ]
  },
  {
   "cell_type": "markdown",
   "metadata": {},
   "source": [
    "### 1.2 Overview of Keras documentation\n",
    "\n",
    "One of the many nice features of Keras is complete and useful documentation. Complete documentation including installation instructions can be found on the [Keras website](https://keras.io/#keras-the-python-deep-learning-library). As you learn to work with Keras, you will want to refer to the well-indexed documentation and examples on this site. \n",
    "\n",
    "The book [Deep Learning with Python](https://www.manning.com/books/deep-learning-with-python) by François Chollet, the creator of Keras, provides in-depth examples and discussion on a wide range of deep learning applications. "
   ]
  },
  {
   "cell_type": "markdown",
   "metadata": {},
   "source": [
    "## 2.0 A first feed-forward Keras example\n",
    "\n",
    "Without further adu, let's try an example. We will build a simple feedforward neural network to classify handwritten digits from the famous MNIST data set. MNIST contains 60,000 labeled training images and 10,000 test images. Many people consider the MNIST dataset as the 'hello world' problem of deep learning. "
   ]
  },
  {
   "cell_type": "markdown",
   "metadata": {},
   "source": [
    "### 2.1 Loading the MNIST data set\n",
    "\n",
    "MNIST is built in too the `keras.datasets` package. We only need to import this package and then load it. \n",
    "\n",
    "The first step is to import the packages we will need for the rest of this notebook. Execute the code in the cell below to load these packages. This code should execute without errors or warnings if everything is installed correctly. "
   ]
  },
  {
   "cell_type": "code",
   "execution_count": 7,
   "metadata": {},
   "outputs": [],
   "source": [
    "from keras.datasets import mnist\n",
    "import keras.utils.np_utils as ku\n",
    "import keras.models as models\n",
    "import keras.layers as layers\n",
    "from keras import regularizers\n",
    "from keras.optimizers import rmsprop\n",
    "import numpy as np\n",
    "import numpy.random as nr\n",
    "import tensorflow\n",
    "import matplotlib.pyplot as plt\n",
    "%matplotlib inline"
   ]
  },
  {
   "cell_type": "markdown",
   "metadata": {},
   "source": [
    "Notice that the TensorFlow backend has been loaded along with various Keras packages. Keras is making calls to TensorFlow to perform compuations.\n",
    "\n",
    "Now, load the training and testing images and corresponding labels by executing the coded in the cell below. The `load_data` method creates two tuples of the images and labels for training and testing models. "
   ]
  },
  {
   "cell_type": "code",
   "execution_count": 8,
   "metadata": {},
   "outputs": [
    {
     "name": "stdout",
     "output_type": "stream",
     "text": [
      "Downloading data from https://s3.amazonaws.com/img-datasets/mnist.npz\n",
      "11493376/11490434 [==============================] - 2s 0us/step\n"
     ]
    }
   ],
   "source": [
    "(train_images, train_labels), (test_images, test_labels) = mnist.load_data()"
   ]
  },
  {
   "cell_type": "markdown",
   "metadata": {},
   "source": [
    "With the data loaded, let's have a peak at some of the content. The images of the handwritten digits are represented as rectangular arrays of dimension $28x28$. You can see this by executing the code in the cell below."
   ]
  },
  {
   "cell_type": "code",
   "execution_count": 9,
   "metadata": {},
   "outputs": [
    {
     "name": "stdout",
     "output_type": "stream",
     "text": [
      "(28, 28)\n"
     ]
    }
   ],
   "source": [
    "print(train_images[4].shape)"
   ]
  },
  {
   "cell_type": "markdown",
   "metadata": {},
   "source": [
    "The handwritten images are all gray-scale, so do not have a color dimension. \n",
    "\n",
    "The code in the cell below displays 4 of the 60,000 images of handwritten digits along with their labels. Execute this code and examine the results.  "
   ]
  },
  {
   "cell_type": "code",
   "execution_count": 10,
   "metadata": {},
   "outputs": [
    {
     "data": {
      "image/png": "[encoded data removed]",
      "text/plain": [
       "<Figure size 432x288 with 1 Axes>"
      ]
     },
     "metadata": {
      "needs_background": "light"
     },
     "output_type": "display_data"
    },
    {
     "name": "stdout",
     "output_type": "stream",
     "text": [
      "Label = 2\n"
     ]
    },
    {
     "data": {
      "image/png": "[encoded data removed]",
      "text/plain": [
       "<Figure size 432x288 with 1 Axes>"
      ]
     },
     "metadata": {
      "needs_background": "light"
     },
     "output_type": "display_data"
    },
    {
     "name": "stdout",
     "output_type": "stream",
     "text": [
      "Label = 4\n"
     ]
    },
    {
     "data": {
      "image/png": "[encoded data removed]",
      "text/plain": [
       "<Figure size 432x288 with 1 Axes>"
      ]
     },
     "metadata": {
      "needs_background": "light"
     },
     "output_type": "display_data"
    },
    {
     "name": "stdout",
     "output_type": "stream",
     "text": [
      "Label = 6\n"
     ]
    },
    {
     "data": {
      "image/png": "[encoded data removed]",
      "text/plain": [
       "<Figure size 432x288 with 1 Axes>"
      ]
     },
     "metadata": {
      "needs_background": "light"
     },
     "output_type": "display_data"
    },
    {
     "name": "stdout",
     "output_type": "stream",
     "text": [
      "Label = 8\n"
     ]
    }
   ],
   "source": [
    "for i in range(5, 20, 4):\n",
    "    plt.imshow(train_images[i], cmap=plt.cm.binary)\n",
    "    plt.show()\n",
    "    print('Label = ' + str(train_labels[i]))"
   ]
  },
  {
   "cell_type": "markdown",
   "metadata": {},
   "source": [
    "### 2.2 Prepare the data for training.\n",
    "\n",
    "As is the case with all machine learning problems, preparing the data is an important step. Without careful data preparation even the best models will produce poor results, or even fail to execute. \n",
    "\n",
    "The MNIST images are stored as a 3-d tensor. Each image tensor has dimensions $6000\\ x\\ 28\\ x\\ 28$. However, to train a neural network on these images we must flatten this representation so that each image is a vector of length $28 * 28$. The result will be a 2-d tensor of dimensions $60000\\ x\\ (28*28)$.\n",
    "\n",
    "Further, models created with Keras, and most other deep learning frameworks, operate on floating point numbers. The gray scale pixel values of the images are coded as integers in the range $\\{ 0, 255 \\}$. These pixel values must be coerced to floating point and then standardized to be in a range $\\{ 0.0, 1.0 \\}$. As is the case for training many machine learning models, it is best to use standardized values for training deep neural networks. \n",
    "\n",
    "The code in the cell below flattens the images and converts the pixel values to a standardized floating point number. Execute this code."
   ]
  },
  {
   "cell_type": "code",
   "execution_count": 11,
   "metadata": {
    "scrolled": true
   },
   "outputs": [
    {
     "name": "stdout",
     "output_type": "stream",
     "text": [
      "(60000, 28, 28) (60000,)\n",
      "(60000, 784)\n",
      "float32\n"
     ]
    }
   ],
   "source": [
    "print(train_images.shape, train_labels.shape)\n",
    "train_images = train_images.reshape((60000, 28*28)).astype('float32')/255\n",
    "print(train_images.shape)\n",
    "print(train_images.dtype)"
   ]
  },
  {
   "cell_type": "markdown",
   "metadata": {},
   "source": [
    "Notice the original shape and resulting shape of the training image tensor. In addition, the array is now of type `float32`. \n",
    "\n",
    "Execute the code in the cell below to apply the  same transformation to the test images. "
   ]
  },
  {
   "cell_type": "code",
   "execution_count": 12,
   "metadata": {},
   "outputs": [
    {
     "name": "stdout",
     "output_type": "stream",
     "text": [
      "(10000, 28, 28) (10000,)\n",
      "(10000, 784)\n"
     ]
    }
   ],
   "source": [
    "print(test_images.shape, test_labels.shape)\n",
    "test_images = test_images.reshape((10000, 28*28)).astype('float32')/255\n",
    "print(test_images.shape)"
   ]
  },
  {
   "cell_type": "markdown",
   "metadata": {},
   "source": [
    "Since we are working on a classification problem, the label values must be of a categorical type. Execute the code in the cell below and examine the coding of  these labels. "
   ]
  },
  {
   "cell_type": "code",
   "execution_count": 13,
   "metadata": {
    "scrolled": true
   },
   "outputs": [
    {
     "name": "stdout",
     "output_type": "stream",
     "text": [
      "[2 1 3 ... 5 6 8]\n"
     ]
    }
   ],
   "source": [
    "print(train_labels[5:,])"
   ]
  },
  {
   "cell_type": "markdown",
   "metadata": {},
   "source": [
    "The labels are coded as integers corresponding to the digit in the image. These values must be coerced to a categorical type. For Keras, categorical types must be **one hot encoded**. One hot encoding is a set of binary columns, one for each category.       \n",
    "\n",
    "Fortunately the `to_categorical` method in the `keras.utils.np_utils` package does just this. Execute the code in the cell below and examine the printed results. "
   ]
  },
  {
   "cell_type": "code",
   "execution_count": 14,
   "metadata": {},
   "outputs": [
    {
     "name": "stdout",
     "output_type": "stream",
     "text": [
      "[[0. 0. 1. ... 0. 0. 0.]\n",
      " [0. 1. 0. ... 0. 0. 0.]\n",
      " [0. 0. 0. ... 0. 0. 0.]\n",
      " ...\n",
      " [0. 0. 0. ... 0. 0. 0.]\n",
      " [0. 0. 0. ... 0. 0. 0.]\n",
      " [0. 0. 0. ... 0. 1. 0.]]\n"
     ]
    }
   ],
   "source": [
    "train_labels = ku.to_categorical(train_labels)\n",
    "print(train_labels[5:,])"
   ]
  },
  {
   "cell_type": "markdown",
   "metadata": {},
   "source": [
    "Notice that the label values have been converted from integers to a set of **10 dummy variables** of the one hot encoding. The columns of the dummy variables represent digits in the range $\\{ 0,9 \\}$. One dummy variable per case will be coded as $1$ and the rest coded as $0$. For example the first row in the example above encodes a $2$, and the second row encodes a $1$.\n",
    "\n",
    "Execute the code in the cell below to coerce the test labels to dummy variables. "
   ]
  },
  {
   "cell_type": "code",
   "execution_count": 15,
   "metadata": {},
   "outputs": [],
   "source": [
    "test_labels = ku.to_categorical(test_labels)"
   ]
  },
  {
   "cell_type": "markdown",
   "metadata": {},
   "source": [
    "### 2.3  Defining a sequential model\n",
    "\n",
    "The data is prepared, so it is time to start defining a neural nework model. We are using a simple feedforward model which is one type of sequential model Keras can create. There is a general receipe for defining sequential Keras models:\n",
    "\n",
    "1. Define a sequential model object.\n",
    "2. Define one or more hidden layers.\n",
    "3. Define an output layer. \n",
    "\n",
    "You will find a [quick start guide to Keras sequential models](https://keras.io/getting-started/sequential-model-guide/) in the Keras documentation \n",
    "\n",
    "Speficially in this case, the squential model is defined as follows:\n",
    "1. A sequential model object `nn` is defined. \n",
    "2. A single hidden layer is defined. \n",
    "  - This layer is dense (fully connected) with 512 units. \n",
    "  - The activation of each unit is rectilinear.\n",
    "  - The hidden layer is expecting an input tensor of $28*28$ by an undefined number of cases (images). \n",
    "3. The output layer has 10 hidden units. \n",
    "  - We need 10 units since there are 10 categories of handwritten digits we are classifing. \n",
    "  - This is a **Multinomial** classification problem so we are using softmax activation. \n",
    "  \n",
    "Execute this code to define the model. "
   ]
  },
  {
   "cell_type": "code",
   "execution_count": 16,
   "metadata": {},
   "outputs": [],
   "source": [
    "nn = models.Sequential()\n",
    "nn.add(layers.Dense(512, activation = 'relu', input_shape = (28*28, )))\n",
    "nn.add(layers.Dense(10, activation = 'softmax'))"
   ]
  },
  {
   "cell_type": "markdown",
   "metadata": {},
   "source": [
    "### 2.4 Training and evaluating the sequential model\n",
    "\n",
    "With a defined model it is time to train and evaluate it. First, the model must be compiled by executing the code below. This call specifies the following:\n",
    "\n",
    "1. Specify an optimizer. \n",
    "2. Specify a loss function. In this case we are performing Multinomial classification so we are using `categorical_crossentropy`.\n",
    "3. Specify one or more metrics used to evaluate the performance of the model. In this case we are using just one metric, accuracy. \n",
    "\n",
    "We will discuss the technical details of the model in subsequent lessons. "
   ]
  },
  {
   "cell_type": "code",
   "execution_count": 17,
   "metadata": {},
   "outputs": [],
   "source": [
    "nn.compile(optimizer = 'rmsprop', loss = 'categorical_crossentropy', metrics = ['accuracy'])"
   ]
  },
  {
   "cell_type": "markdown",
   "metadata": {},
   "source": [
    "Now, the model is ready to be trained using the `fit` method by executing the code in the cell below. The `fit` method has several arguments:\n",
    "\n",
    "1. The training features.\n",
    "2. The training labels.\n",
    "3. The number of epochs (iterations) over which the model is trained.\n",
    "4. The batch size used for the optimizer. The meaning of this will be discussed in the lesson on optimizaton. "
   ]
  },
  {
   "cell_type": "code",
   "execution_count": 20,
   "metadata": {
    "scrolled": false
   },
   "outputs": [
    {
     "name": "stdout",
     "output_type": "stream",
     "text": [
      "Epoch 1/5\n",
      "60000/60000 [==============================] - 5s 81us/step - loss: 0.2528 - accuracy: 0.9266\n",
      "Epoch 2/5\n",
      " 2560/60000 [>.............................] - ETA: 14s - loss: 0.1126 - accuracy: 0.9664"
     ]
    },
    {
     "name": "stderr",
     "output_type": "stream",
     "text": [
      "/Users/flatironbrooklyn/opt/anaconda3/lib/python3.7/site-packages/keras/callbacks/callbacks.py:95: RuntimeWarning: Method (on_train_batch_end) is slow compared to the batch update (0.438087). Check your callbacks.\n",
      "  % (hook_name, delta_t_median), RuntimeWarning)\n",
      "/Users/flatironbrooklyn/opt/anaconda3/lib/python3.7/site-packages/keras/callbacks/callbacks.py:95: RuntimeWarning: Method (on_train_batch_end) is slow compared to the batch update (0.220441). Check your callbacks.\n",
      "  % (hook_name, delta_t_median), RuntimeWarning)\n"
     ]
    },
    {
     "name": "stdout",
     "output_type": "stream",
     "text": [
      "60000/60000 [==============================] - 4s 72us/step - loss: 0.1018 - accuracy: 0.9696\n",
      "Epoch 3/5\n",
      "60000/60000 [==============================] - 5s 78us/step - loss: 0.0675 - accuracy: 0.9798\n",
      "Epoch 4/5\n",
      "60000/60000 [==============================] - 4s 69us/step - loss: 0.0486 - accuracy: 0.9855\n",
      "Epoch 5/5\n",
      "60000/60000 [==============================] - 5s 76us/step - loss: 0.0362 - accuracy: 0.9890\n"
     ]
    },
    {
     "data": {
      "text/plain": [
       "<keras.callbacks.callbacks.History at 0x103a63a50>"
      ]
     },
     "execution_count": 20,
     "metadata": {},
     "output_type": "execute_result"
    }
   ],
   "source": [
    "nr.seed(9898)\n",
    "tensorflow.random.set_seed(9777)\n",
    "nn.fit(train_images, train_labels, epochs = 5, batch_size = 128)"
   ]
  },
  {
   "cell_type": "markdown",
   "metadata": {},
   "source": [
    "Notice that the loss declines and the accuracy increases with each training epoch. However, since neural networks tend to be over-fit, these improved figures may or may not indicate that the model is actually getting better. Keep in mind that the model may simply be learning the training data. \n",
    "\n",
    "It is necessary to test the model on independent data set. The `evaluate` method allows you to do just this. Execute the code in the cell below and compare the results to training results.  "
   ]
  },
  {
   "cell_type": "code",
   "execution_count": 21,
   "metadata": {},
   "outputs": [
    {
     "name": "stdout",
     "output_type": "stream",
     "text": [
      "10000/10000 [==============================] - 1s 67us/step\n"
     ]
    },
    {
     "data": {
      "text/plain": [
       "[0.06433351646481315, 0.9799000024795532]"
      ]
     },
     "execution_count": 21,
     "metadata": {},
     "output_type": "execute_result"
    }
   ],
   "source": [
    "nn.evaluate(test_images, test_labels)"
   ]
  },
  {
   "cell_type": "markdown",
   "metadata": {},
   "source": [
    "It appears that the model is over-fit since the evaluation loss and accuracy are a bit worse than observed in training. "
   ]
  },
  {
   "cell_type": "markdown",
   "metadata": {},
   "source": [
    "## 3.0 Training over epochs\n",
    "\n",
    "In order to determine at what point a model is overfit during training it is necessary to evaluate the model after each training epoch. A `history` object is created which contains the history of various metrics during the training or fitting process. \n",
    "\n",
    "Notice that the `validation_data` argument must be specified so that performance of the model can be computed at the end or each epoch. The printed history of the training will include the validation loss and validation accuracy for each epoch. \n",
    "\n",
    "Expect execution of this code to take a while. "
   ]
  },
  {
   "cell_type": "code",
   "execution_count": 22,
   "metadata": {},
   "outputs": [
    {
     "name": "stdout",
     "output_type": "stream",
     "text": [
      "Model: \"sequential_2\"\n",
      "_________________________________________________________________\n",
      "Layer (type)                 Output Shape              Param #   \n",
      "=================================================================\n",
      "dense_3 (Dense)              (None, 512)               401920    \n",
      "_________________________________________________________________\n",
      "dense_4 (Dense)              (None, 10)                5130      \n",
      "=================================================================\n",
      "Total params: 407,050\n",
      "Trainable params: 407,050\n",
      "Non-trainable params: 0\n",
      "_________________________________________________________________\n",
      "Train on 60000 samples, validate on 10000 samples\n",
      "Epoch 1/10\n",
      "60000/60000 [==============================] - 5s 82us/step - loss: 0.2598 - accuracy: 0.9243 - val_loss: 0.1318 - val_accuracy: 0.9589\n",
      "Epoch 2/10\n",
      "60000/60000 [==============================] - 5s 75us/step - loss: 0.1033 - accuracy: 0.9696 - val_loss: 0.1041 - val_accuracy: 0.9676\n",
      "Epoch 3/10\n",
      "60000/60000 [==============================] - 5s 85us/step - loss: 0.0670 - accuracy: 0.9797 - val_loss: 0.0833 - val_accuracy: 0.9736\n",
      "Epoch 4/10\n",
      "60000/60000 [==============================] - 5s 79us/step - loss: 0.0490 - accuracy: 0.9851 - val_loss: 0.0734 - val_accuracy: 0.9779\n",
      "Epoch 5/10\n",
      "60000/60000 [==============================] - 5s 75us/step - loss: 0.0377 - accuracy: 0.9889 - val_loss: 0.0657 - val_accuracy: 0.9800\n",
      "Epoch 6/10\n",
      "60000/60000 [==============================] - 5s 80us/step - loss: 0.0285 - accuracy: 0.9915 - val_loss: 0.0656 - val_accuracy: 0.9799\n",
      "Epoch 7/10\n",
      "60000/60000 [==============================] - 4s 64us/step - loss: 0.0219 - accuracy: 0.9936 - val_loss: 0.0732 - val_accuracy: 0.9783\n",
      "Epoch 8/10\n",
      "60000/60000 [==============================] - 5s 75us/step - loss: 0.0172 - accuracy: 0.9952 - val_loss: 0.0678 - val_accuracy: 0.9814\n",
      "Epoch 9/10\n",
      "60000/60000 [==============================] - 4s 72us/step - loss: 0.0136 - accuracy: 0.9962 - val_loss: 0.0727 - val_accuracy: 0.9808\n",
      "Epoch 10/10\n",
      "60000/60000 [==============================] - 4s 73us/step - loss: 0.0100 - accuracy: 0.9974 - val_loss: 0.0700 - val_accuracy: 0.9831\n"
     ]
    }
   ],
   "source": [
    "## Define a sequential model and print a summary\n",
    "nnt = models.Sequential()\n",
    "nnt.add(layers.Dense(512, activation = 'relu', input_shape = (28*28, )))\n",
    "nnt.add(layers.Dense(10, activation = 'softmax'))\n",
    "nnt.summary()\n",
    "\n",
    "## Compile the model. \n",
    "nnt.compile(optimizer = 'rmsprop', loss = 'categorical_crossentropy', \n",
    "                metrics = ['accuracy'])\n",
    " \n",
    "## Fit the model saving the results to a history file    \n",
    "nr.seed(4678)\n",
    "tensorflow.random.set_seed(8866)\n",
    "history = nnt.fit(train_images, train_labels, \n",
    "                  epochs = 10, batch_size = 128,\n",
    "                  validation_data = (test_images, test_labels))"
   ]
  },
  {
   "cell_type": "markdown",
   "metadata": {},
   "source": [
    "To aid in understanding these figures it will help to make some plots comparing the training and evaluation performance as the training epochs evolve. The code in the next two cells does this is a somewhat primitive manner. The Numpy array is manually edited to include the training loss and training accuracy. \n",
    "\n",
    "The `plot_loss` and `plot_accuracy` functions, in the next two cell, plot the training loss or accuracy in blue and the test loss or accuracy in red. Execute the code and examine the plots. "
   ]
  },
  {
   "cell_type": "code",
   "execution_count": 23,
   "metadata": {},
   "outputs": [
    {
     "data": {
      "image/png": "[encoded data removed]",
      "text/plain": [
       "<Figure size 432x288 with 1 Axes>"
      ]
     },
     "metadata": {
      "needs_background": "light"
     },
     "output_type": "display_data"
    }
   ],
   "source": [
    "def plot_loss(history):\n",
    "    train_loss = history.history['loss']\n",
    "    test_loss = history.history['val_loss']\n",
    "    x = list(range(1, len(test_loss) + 1))\n",
    "    plt.plot(x, test_loss, color = 'red', label = 'test loss')\n",
    "    plt.plot(x, train_loss, label = 'traning loss')\n",
    "    plt.xlabel('Epoch')\n",
    "    plt.ylabel('Loss')\n",
    "    plt.title('Loss vs. Epoch')\n",
    "    plt.legend()\n",
    "    \n",
    "plot_loss(history)  "
   ]
  },
  {
   "cell_type": "code",
   "execution_count": 27,
   "metadata": {
    "scrolled": true
   },
   "outputs": [
    {
     "name": "stdout",
     "output_type": "stream",
     "text": [
      "{'val_loss': [0.13177833331674338, 0.10412667092978954, 0.0833351999565959, 0.07338069668412209, 0.06569188615195454, 0.06564329348597675, 0.07317291971351951, 0.06784298487942433, 0.07265091014362988, 0.07004708235366852], 'val_accuracy': [0.958899974822998, 0.9675999879837036, 0.9735999703407288, 0.9779000282287598, 0.9800000190734863, 0.9799000024795532, 0.9782999753952026, 0.9814000129699707, 0.9807999730110168, 0.9830999970436096], 'loss': [0.2597769702196121, 0.1033184548954169, 0.06701960114439329, 0.04904810365637143, 0.03771369500905275, 0.028540938174227874, 0.021871515069901943, 0.017192402436832586, 0.013553246348972122, 0.009961466203692058], 'accuracy': [0.9243, 0.9696, 0.97965, 0.98508334, 0.9888833, 0.99148333, 0.99361664, 0.99523336, 0.99621665, 0.9974333]}\n"
     ]
    },
    {
     "data": {
      "image/png": "[encoded data removed]",
      "text/plain": [
       "<Figure size 432x288 with 1 Axes>"
      ]
     },
     "metadata": {
      "needs_background": "light"
     },
     "output_type": "display_data"
    }
   ],
   "source": [
    "def plot_accuracy(history):\n",
    "    train_acc = history.history['val_accuracy']\n",
    "    test_acc = history.history['accuracy']\n",
    "    x = list(range(1, len(test_acc) + 1))\n",
    "    plt.plot(x, test_acc, color = 'red', label = 'test accuracy')\n",
    "    plt.plot(x, train_acc, label = 'training accuracy')  \n",
    "    plt.xlabel('Epoch')\n",
    "    plt.ylabel('Accuracy')\n",
    "    plt.title('Accuracy vs. Epoch')  \n",
    "    plt.legend(loc='lower right')\n",
    "    \n",
    "plot_accuracy(history)    "
   ]
  },
  {
   "cell_type": "markdown",
   "metadata": {},
   "source": [
    "Notice that the training loss and accuracy continue to improve throughout the epochs. However, the evaluation loss and accuracy only improve significantly for the first four, or perhaps 5, epochs. This is clear evidence that subsequent epochs are simply over-fitting the model. "
   ]
  },
  {
   "cell_type": "markdown",
   "metadata": {},
   "source": [
    "## 4.0 Adding hidden layers\n",
    "\n",
    "Next, we will add an additional hidden layer to the model. Additional layers add capacity to the model to represent complex function. However, the network becomes more susceptible to over fitting. Details of model capacity are discussed in other lessons.  \n",
    "\n",
    "The code in the cell below defines a model similar to the first one, but with a second layer defined. Notice that the definition of the two layer model is nearly the same as for the single layer model. In this case, the second layer has the same number of units and activation function as the first. \n",
    "\n",
    "However, notice that the `input_shape` does not need to be defined for hidden layers past the first. Keras will determine the dimensions of tensors passed between layers beyond the input. \n",
    "\n",
    "Expect execution of this code to take a while. "
   ]
  },
  {
   "cell_type": "code",
   "execution_count": 28,
   "metadata": {},
   "outputs": [
    {
     "name": "stdout",
     "output_type": "stream",
     "text": [
      "Model: \"sequential_3\"\n",
      "_________________________________________________________________\n",
      "Layer (type)                 Output Shape              Param #   \n",
      "=================================================================\n",
      "dense_5 (Dense)              (None, 512)               401920    \n",
      "_________________________________________________________________\n",
      "dense_6 (Dense)              (None, 512)               262656    \n",
      "_________________________________________________________________\n",
      "dense_7 (Dense)              (None, 10)                5130      \n",
      "=================================================================\n",
      "Total params: 669,706\n",
      "Trainable params: 669,706\n",
      "Non-trainable params: 0\n",
      "_________________________________________________________________\n",
      "Train on 60000 samples, validate on 10000 samples\n",
      "Epoch 1/20\n",
      "60000/60000 [==============================] - 9s 158us/step - loss: 0.2188 - accuracy: 0.9329 - val_loss: 0.1106 - val_accuracy: 0.9646\n",
      "Epoch 2/20\n",
      "60000/60000 [==============================] - 8s 129us/step - loss: 0.0817 - accuracy: 0.9749 - val_loss: 0.1125 - val_accuracy: 0.9632\n",
      "Epoch 3/20\n",
      "60000/60000 [==============================] - 8s 141us/step - loss: 0.0547 - accuracy: 0.9829 - val_loss: 0.0661 - val_accuracy: 0.9807\n",
      "Epoch 4/20\n",
      "60000/60000 [==============================] - 12s 194us/step - loss: 0.0388 - accuracy: 0.9877 - val_loss: 0.0898 - val_accuracy: 0.9760\n",
      "Epoch 5/20\n",
      "60000/60000 [==============================] - 7s 124us/step - loss: 0.0291 - accuracy: 0.9912 - val_loss: 0.0821 - val_accuracy: 0.9818\n",
      "Epoch 6/20\n",
      "60000/60000 [==============================] - 9s 146us/step - loss: 0.0237 - accuracy: 0.9930 - val_loss: 0.0864 - val_accuracy: 0.9813\n",
      "Epoch 7/20\n",
      "60000/60000 [==============================] - 8s 130us/step - loss: 0.0179 - accuracy: 0.9941 - val_loss: 0.1089 - val_accuracy: 0.9797\n",
      "Epoch 8/20\n",
      "60000/60000 [==============================] - 8s 133us/step - loss: 0.0151 - accuracy: 0.9955 - val_loss: 0.1063 - val_accuracy: 0.9809\n",
      "Epoch 9/20\n",
      "60000/60000 [==============================] - 7s 123us/step - loss: 0.0131 - accuracy: 0.9960 - val_loss: 0.1026 - val_accuracy: 0.9814\n",
      "Epoch 10/20\n",
      "60000/60000 [==============================] - 9s 150us/step - loss: 0.0113 - accuracy: 0.9964 - val_loss: 0.1199 - val_accuracy: 0.9807\n",
      "Epoch 11/20\n",
      "60000/60000 [==============================] - 10s 164us/step - loss: 0.0102 - accuracy: 0.9970 - val_loss: 0.1155 - val_accuracy: 0.9822\n",
      "Epoch 12/20\n",
      "60000/60000 [==============================] - 9s 143us/step - loss: 0.0088 - accuracy: 0.9970 - val_loss: 0.1316 - val_accuracy: 0.9801\n",
      "Epoch 13/20\n",
      "60000/60000 [==============================] - 10s 169us/step - loss: 0.0091 - accuracy: 0.9976 - val_loss: 0.1340 - val_accuracy: 0.9809\n",
      "Epoch 14/20\n",
      "60000/60000 [==============================] - 9s 155us/step - loss: 0.0085 - accuracy: 0.9976 - val_loss: 0.1423 - val_accuracy: 0.9823\n",
      "Epoch 15/20\n",
      "60000/60000 [==============================] - 10s 162us/step - loss: 0.0064 - accuracy: 0.9980 - val_loss: 0.1379 - val_accuracy: 0.9818\n",
      "Epoch 16/20\n",
      "60000/60000 [==============================] - 7s 120us/step - loss: 0.0064 - accuracy: 0.9980 - val_loss: 0.1586 - val_accuracy: 0.9802\n",
      "Epoch 17/20\n",
      "60000/60000 [==============================] - 7s 116us/step - loss: 0.0058 - accuracy: 0.9985 - val_loss: 0.1569 - val_accuracy: 0.9817\n",
      "Epoch 18/20\n",
      "60000/60000 [==============================] - 8s 135us/step - loss: 0.0055 - accuracy: 0.9985 - val_loss: 0.1392 - val_accuracy: 0.9837\n",
      "Epoch 19/20\n",
      "60000/60000 [==============================] - 7s 119us/step - loss: 0.0047 - accuracy: 0.9987 - val_loss: 0.1758 - val_accuracy: 0.9810\n",
      "Epoch 20/20\n",
      "60000/60000 [==============================] - 7s 109us/step - loss: 0.0046 - accuracy: 0.9987 - val_loss: 0.1612 - val_accuracy: 0.9833\n"
     ]
    }
   ],
   "source": [
    "## Define a sequential model\n",
    "nnt = models.Sequential()\n",
    "nnt.add(layers.Dense(512, activation = 'relu', input_shape = (28*28, )))\n",
    "nnt.add(layers.Dense(512, activation = 'relu'))\n",
    "nnt.add(layers.Dense(10, activation = 'softmax'))\n",
    "nnt.summary()\n",
    "\n",
    "## Compile the model\n",
    "nnt.compile(optimizer = 'rmsprop', loss = 'categorical_crossentropy', \n",
    "                metrics = ['accuracy'])\n",
    "    \n",
    "## Fit the model, saving the results to a history file.     \n",
    "nr.seed(2432)\n",
    "tensorflow.random.set_seed(5544)\n",
    "history = nnt.fit(train_images, train_labels, \n",
    "                  epochs = 20, batch_size = 128,\n",
    "                  validation_data = (test_images, test_labels))"
   ]
  },
  {
   "cell_type": "markdown",
   "metadata": {},
   "source": [
    "As before, we can best understand these results by creating plots of the loss and accuracy for training and evaluation vs. epoch. Execute the code in the two cells below to display these plots and study the results. "
   ]
  },
  {
   "cell_type": "code",
   "execution_count": 29,
   "metadata": {},
   "outputs": [
    {
     "data": {
      "image/png": "[encoded data removed]",
      "text/plain": [
       "<Figure size 432x288 with 1 Axes>"
      ]
     },
     "metadata": {
      "needs_background": "light"
     },
     "output_type": "display_data"
    }
   ],
   "source": [
    "plot_loss(history)  "
   ]
  },
  {
   "cell_type": "code",
   "execution_count": 30,
   "metadata": {
    "scrolled": true
   },
   "outputs": [
    {
     "name": "stdout",
     "output_type": "stream",
     "text": [
      "{'val_loss': [0.11057771713286638, 0.11253348680064082, 0.06613346232096665, 0.08982272479428212, 0.0821162085634889, 0.08635240689487436, 0.10889162530390749, 0.10626593312690238, 0.10256461499234137, 0.1199435834503609, 0.11546352345551276, 0.13164930007823206, 0.13401368710109526, 0.14229122311180536, 0.13794848014676353, 0.1585939314311876, 0.15685569079926326, 0.13924219730892845, 0.1757723814289948, 0.16124921790704075], 'val_accuracy': [0.9646000266075134, 0.9631999731063843, 0.9807000160217285, 0.9760000109672546, 0.9818000197410583, 0.9812999963760376, 0.9797000288963318, 0.98089998960495, 0.9814000129699707, 0.9807000160217285, 0.982200026512146, 0.9800999760627747, 0.98089998960495, 0.9822999835014343, 0.9818000197410583, 0.9801999926567078, 0.9817000031471252, 0.9836999773979187, 0.9810000061988831, 0.983299970626831], 'loss': [0.21877642883062362, 0.08174632242123286, 0.054718189755827186, 0.03882250698140512, 0.029095621873252094, 0.023747770848528794, 0.017909357566945255, 0.015130325160226008, 0.01310853891246176, 0.011332020028951229, 0.010194215723130036, 0.008768658069124892, 0.00909606931217689, 0.008527963649687081, 0.006397477938805181, 0.006449270906771956, 0.005796504345488203, 0.0054754466892456815, 0.004700506056824759, 0.004623304315956208], 'accuracy': [0.9328833, 0.97491664, 0.98295, 0.98766667, 0.99116665, 0.99295, 0.99406666, 0.99551666, 0.99598336, 0.9964167, 0.99696666, 0.99701667, 0.99763334, 0.9976, 0.998, 0.99801666, 0.9984667, 0.99848336, 0.99873334, 0.99875]}\n"
     ]
    },
    {
     "data": {
      "image/png": "[encoded data removed]",
      "text/plain": [
       "<Figure size 432x288 with 1 Axes>"
      ]
     },
     "metadata": {
      "needs_background": "light"
     },
     "output_type": "display_data"
    }
   ],
   "source": [
    "plot_accuracy(history)    "
   ]
  },
  {
   "cell_type": "markdown",
   "metadata": {},
   "source": [
    "Notice that after epoch four the true (training) loss actually increases, whereas the training loss continues to decrease. This is a clear indication of overfitting. \n",
    "\n",
    "When compared to the single layer example, the over-fitting is more obvious. This should not be a suprise, since the number of weights has nearly doubled from the single layer model. "
   ]
  },
  {
   "cell_type": "markdown",
   "metadata": {},
   "source": [
    "## 5.0 Adding regularization to the model\n",
    "\n",
    "Regularization is used to prevent over-fitting of machine learning models including neural networks. The Keras `regularizers` package provides L1 and L2 regularization methods. The theory of regularization will be addressed in other lessons. In addition you can find [documentation on the Keras `regularizers` package](https://keras.io/regularizers/).  \n",
    "\n",
    "The code in the cell below adds the `kernel_regularizer` argument with the value of `regularizers.l2(0.01)` This adds a weight decay penalty of 0.01 to the model weights. \n",
    "\n",
    "Execute the code. Expect execution to take a while. "
   ]
  },
  {
   "cell_type": "code",
   "execution_count": 31,
   "metadata": {
    "scrolled": false
   },
   "outputs": [
    {
     "name": "stdout",
     "output_type": "stream",
     "text": [
      "Model: \"sequential_4\"\n",
      "_________________________________________________________________\n",
      "Layer (type)                 Output Shape              Param #   \n",
      "=================================================================\n",
      "dense_8 (Dense)              (None, 512)               401920    \n",
      "_________________________________________________________________\n",
      "dense_9 (Dense)              (None, 512)               262656    \n",
      "_________________________________________________________________\n",
      "dense_10 (Dense)             (None, 10)                5130      \n",
      "=================================================================\n",
      "Total params: 669,706\n",
      "Trainable params: 669,706\n",
      "Non-trainable params: 0\n",
      "_________________________________________________________________\n",
      "Train on 60000 samples, validate on 10000 samples\n",
      "Epoch 1/20\n",
      "60000/60000 [==============================] - 10s 164us/step - loss: 0.6443 - accuracy: 0.9214 - val_loss: 0.2946 - val_accuracy: 0.9649\n",
      "Epoch 2/20\n",
      "60000/60000 [==============================] - 10s 161us/step - loss: 0.2677 - accuracy: 0.9599 - val_loss: 0.2099 - val_accuracy: 0.9693\n",
      "Epoch 3/20\n",
      "60000/60000 [==============================] - 9s 149us/step - loss: 0.2070 - accuracy: 0.9673 - val_loss: 0.1827 - val_accuracy: 0.9704\n",
      "Epoch 4/20\n",
      "60000/60000 [==============================] - 9s 143us/step - loss: 0.1794 - accuracy: 0.9713 - val_loss: 0.1622 - val_accuracy: 0.9736\n",
      "Epoch 5/20\n",
      "60000/60000 [==============================] - 8s 125us/step - loss: 0.1620 - accuracy: 0.9732 - val_loss: 0.1576 - val_accuracy: 0.9740\n",
      "Epoch 6/20\n",
      "60000/60000 [==============================] - 8s 134us/step - loss: 0.1521 - accuracy: 0.9752 - val_loss: 0.1946 - val_accuracy: 0.9616\n",
      "Epoch 7/20\n",
      "60000/60000 [==============================] - 7s 122us/step - loss: 0.1431 - accuracy: 0.9762 - val_loss: 0.1603 - val_accuracy: 0.9705\n",
      "Epoch 8/20\n",
      "60000/60000 [==============================] - 7s 121us/step - loss: 0.1357 - accuracy: 0.9777 - val_loss: 0.1542 - val_accuracy: 0.9722\n",
      "Epoch 9/20\n",
      "60000/60000 [==============================] - 8s 130us/step - loss: 0.1293 - accuracy: 0.9788 - val_loss: 0.1473 - val_accuracy: 0.9732\n",
      "Epoch 10/20\n",
      "60000/60000 [==============================] - 8s 130us/step - loss: 0.1280 - accuracy: 0.9785 - val_loss: 0.1910 - val_accuracy: 0.9583\n",
      "Epoch 11/20\n",
      "60000/60000 [==============================] - 7s 125us/step - loss: 0.1244 - accuracy: 0.9797 - val_loss: 0.1428 - val_accuracy: 0.9742\n",
      "Epoch 12/20\n",
      "60000/60000 [==============================] - 7s 123us/step - loss: 0.1206 - accuracy: 0.9802 - val_loss: 0.1495 - val_accuracy: 0.9711\n",
      "Epoch 13/20\n",
      "60000/60000 [==============================] - 8s 128us/step - loss: 0.1182 - accuracy: 0.9800 - val_loss: 0.1241 - val_accuracy: 0.9780\n",
      "Epoch 14/20\n",
      "60000/60000 [==============================] - 8s 132us/step - loss: 0.1160 - accuracy: 0.9811 - val_loss: 0.1397 - val_accuracy: 0.9730\n",
      "Epoch 15/20\n",
      "60000/60000 [==============================] - 8s 132us/step - loss: 0.1143 - accuracy: 0.9808 - val_loss: 0.1317 - val_accuracy: 0.9773\n",
      "Epoch 16/20\n",
      "60000/60000 [==============================] - 10s 174us/step - loss: 0.1120 - accuracy: 0.9812 - val_loss: 0.1328 - val_accuracy: 0.9744\n",
      "Epoch 17/20\n",
      "60000/60000 [==============================] - 9s 157us/step - loss: 0.1118 - accuracy: 0.9811 - val_loss: 0.1505 - val_accuracy: 0.9716\n",
      "Epoch 18/20\n",
      "60000/60000 [==============================] - 9s 148us/step - loss: 0.1108 - accuracy: 0.9820 - val_loss: 0.1367 - val_accuracy: 0.9755\n",
      "Epoch 19/20\n",
      "60000/60000 [==============================] - 10s 168us/step - loss: 0.1093 - accuracy: 0.9813 - val_loss: 0.1304 - val_accuracy: 0.9773\n",
      "Epoch 20/20\n",
      "60000/60000 [==============================] - 11s 176us/step - loss: 0.1088 - accuracy: 0.9817 - val_loss: 0.1558 - val_accuracy: 0.9687\n"
     ]
    }
   ],
   "source": [
    "## Difine the layers of the sequential model and print a summary\n",
    "nnt = models.Sequential()\n",
    "nnt.add(layers.Dense(512, activation = 'relu', input_shape = (28*28, ),\n",
    "                        kernel_regularizer=regularizers.l2(0.001)))\n",
    "nnt.add(layers.Dense(512, activation = 'relu', kernel_regularizer=regularizers.l2(0.001)))\n",
    "nnt.add(layers.Dense(10, activation = 'softmax'))\n",
    "nnt.summary()\n",
    "\n",
    "## Define an optimzer object and compile the model\n",
    "optimizer = rmsprop()\n",
    "nnt.compile(optimizer = optimizer, loss = 'categorical_crossentropy', metrics = ['accuracy'])\n",
    "    \n",
    "## Fit the compiled model    \n",
    "nr.seed(8765)\n",
    "tensorflow.random.set_seed(7654)\n",
    "history = nnt.fit(train_images, train_labels, \n",
    "                  epochs = 20, batch_size = 128,\n",
    "                  validation_data = (test_images, test_labels))"
   ]
  },
  {
   "cell_type": "markdown",
   "metadata": {},
   "source": [
    "Once again, we can best understand these results by creating plots of the loss and accuracy for training and evaluation vs. epoch. Execute the code in the two cells below to display these plots and study the results. "
   ]
  },
  {
   "cell_type": "code",
   "execution_count": 32,
   "metadata": {
    "scrolled": false
   },
   "outputs": [
    {
     "data": {
      "image/png": "[encoded data removed]",
      "text/plain": [
       "<Figure size 432x288 with 1 Axes>"
      ]
     },
     "metadata": {
      "needs_background": "light"
     },
     "output_type": "display_data"
    }
   ],
   "source": [
    "plot_loss(history)  "
   ]
  },
  {
   "cell_type": "code",
   "execution_count": 33,
   "metadata": {
    "scrolled": true
   },
   "outputs": [
    {
     "name": "stdout",
     "output_type": "stream",
     "text": [
      "{'val_loss': [0.29464283668994906, 0.20987674221992492, 0.18269107135534288, 0.1621759191274643, 0.1576073745369911, 0.19460828502178193, 0.16026132062673568, 0.15421952962875365, 0.14731470947861672, 0.19101728353500366, 0.14280258256196976, 0.14946293938159944, 0.12405373289585113, 0.13971367596387863, 0.1316529518008232, 0.13283511915206908, 0.1504658715724945, 0.13671526358127595, 0.13044583531022072, 0.15582067296504976], 'val_accuracy': [0.964900016784668, 0.9692999720573425, 0.9703999757766724, 0.9735999703407288, 0.9739999771118164, 0.9616000056266785, 0.9704999923706055, 0.9721999764442444, 0.9732000231742859, 0.958299994468689, 0.9742000102996826, 0.9710999727249146, 0.9779999852180481, 0.9729999899864197, 0.9772999882698059, 0.974399983882904, 0.9715999960899353, 0.9754999876022339, 0.9772999882698059, 0.9686999917030334], 'loss': [0.6442810042699179, 0.2677022376537323, 0.20698256562550862, 0.17944434078534444, 0.16204088809490202, 0.15207188409169514, 0.14308499677975972, 0.1356759820063909, 0.1292595082918803, 0.1279707047700882, 0.1244295747756958, 0.12063098926941554, 0.11817971367835998, 0.11599264405568441, 0.1142961170276006, 0.11195589878559113, 0.11175923229058583, 0.11083616378307343, 0.10927283128897348, 0.10880201431115469], 'accuracy': [0.92135, 0.95988333, 0.9672667, 0.9713, 0.9732, 0.9751833, 0.9762, 0.9777333, 0.9788333, 0.9784833, 0.9797, 0.98018336, 0.97995, 0.98105, 0.98083335, 0.9812, 0.98108333, 0.9820333, 0.9813167, 0.9817167]}\n"
     ]
    },
    {
     "data": {
      "image/png": "[encoded data removed]",
      "text/plain": [
       "<Figure size 432x288 with 1 Axes>"
      ]
     },
     "metadata": {
      "needs_background": "light"
     },
     "output_type": "display_data"
    }
   ],
   "source": [
    "plot_accuracy(history)"
   ]
  },
  {
   "cell_type": "markdown",
   "metadata": {},
   "source": [
    "Compare these results to the previous un-regularized model. "
   ]
  },
  {
   "cell_type": "code",
   "execution_count": null,
   "metadata": {},
   "outputs": [],
   "source": []
  }
 ],
 "metadata": {
  "anaconda-cloud": {},
  "kernelspec": {
   "display_name": "Python 3",
   "language": "python",
   "name": "python3"
  },
  "language_info": {
   "codemirror_mode": {
    "name": "ipython",
    "version": 3
   },
   "file_extension": ".py",
   "mimetype": "text/x-python",
   "name": "python",
   "nbconvert_exporter": "python",
   "pygments_lexer": "ipython3",
   "version": "3.7.4"
  }
 },
 "nbformat": 4,
 "nbformat_minor": 1
}
