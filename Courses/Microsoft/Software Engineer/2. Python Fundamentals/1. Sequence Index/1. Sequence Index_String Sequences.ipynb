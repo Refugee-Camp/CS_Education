{
 "cells": [
  {
   "cell_type": "code",
   "execution_count": 4,
   "metadata": {},
   "outputs": [
    {
     "name": "stdout",
     "output_type": "stream",
     "text": [
      "P\n",
      "a\n",
      "v\n",
      "e\n",
      "l\n"
     ]
    }
   ],
   "source": [
    "student_name = \"Pavel\"\n",
    "\n",
    "print (student_name[0])\n",
    "print (student_name[1])\n",
    "print (student_name[2])\n",
    "print (student_name[3])\n",
    "print (student_name[4])"
   ]
  },
  {
   "cell_type": "code",
   "execution_count": null,
   "metadata": {},
   "outputs": [],
   "source": [
    "student_name = input(\"Enter your name \")\n",
    "\n",
    "if student_name[0].lower() == \"a\":\n",
    "    print(\"Winner! Name starts with A:\", student_name)\n",
    "elif student_name[0].lower() == \"j\":\n",
    "    print(\"Winner! Name starts with J:\", student_name)\n",
    "else:\n",
    "    print(\"Not a match, try again tomorrow: \", student_name)"
   ]
  },
  {
   "cell_type": "code",
   "execution_count": null,
   "metadata": {},
   "outputs": [],
   "source": [
    "street_name = \"Gogolia\"\n",
    "\n",
    "print(street_name[0])\n",
    "print(street_name[2])\n",
    "print(street_name[4])"
   ]
  },
  {
   "cell_type": "code",
   "execution_count": null,
   "metadata": {},
   "outputs": [],
   "source": [
    "team_name = input(\"Enter team name \")\n",
    "\n",
    "if team_name[1].lower() == \"i\":\n",
    "    print (\"That's right, \\\"I\\\" is the second letter in team name\")\n",
    "elif team_name[1].lower() == \"o\":\n",
    "    print (\"That's right, \\\"O\\\" is the second letter in team name\")\n",
    "elif team_name[1].lower() == \"u\":\n",
    "    print (\"That's right, \\\"U\\\" is the second letter in team name\")\n",
    "else:\n",
    "    print(\"Sorry, wrong team\")"
   ]
  },
  {
   "cell_type": "code",
   "execution_count": null,
   "metadata": {},
   "outputs": [],
   "source": [
    "# [ ] review and run example\n",
    "student_name = \"Joana\"\n",
    "end_letter = student_name[-1]\n",
    "print(student_name,\"ends with\", \"'\" + end_letter + \"'\")\n",
    "\n",
    "# [ ] review and run example\n",
    "# get second to last letter\n",
    "second_last_letter = student_name[-2]\n",
    "print(student_name,\"has 2nd to last letter of\", \"'\" + second_last_letter + \"'\")\n",
    "\n",
    "# you can get to the same letter with index counting + or -\n",
    "print(\"for\", student_name)\n",
    "print(\"index 3 =\", \"'\" + student_name[3] + \"'\")\n",
    "print(\"index -2 =\",\"'\" + student_name[-2] + \"'\")"
   ]
  },
  {
   "cell_type": "code",
   "execution_count": null,
   "metadata": {},
   "outputs": [],
   "source": [
    "street_name = \"Wilson\"\n",
    "\n",
    "print(street_name[-1])\n",
    "print(street_name[-2])\n",
    "print(street_name[-3])\n",
    "\n",
    "first_letter = street_name[-6]\n",
    "last_letter = street_name[-1]\n",
    "\n",
    "print(first_letter, last_letter)"
   ]
  },
  {
   "cell_type": "code",
   "execution_count": null,
   "metadata": {},
   "outputs": [],
   "source": []
  }
 ],
 "metadata": {
  "kernelspec": {
   "display_name": "Python 3.6",
   "language": "python",
   "name": "python36"
  },
  "language_info": {
   "codemirror_mode": {
    "name": "ipython",
    "version": 3
   },
   "file_extension": ".py",
   "mimetype": "text/x-python",
   "name": "python",
   "nbconvert_exporter": "python",
   "pygments_lexer": "ipython3",
   "version": "3.6.3"
  }
 },
 "nbformat": 4,
 "nbformat_minor": 2
}
