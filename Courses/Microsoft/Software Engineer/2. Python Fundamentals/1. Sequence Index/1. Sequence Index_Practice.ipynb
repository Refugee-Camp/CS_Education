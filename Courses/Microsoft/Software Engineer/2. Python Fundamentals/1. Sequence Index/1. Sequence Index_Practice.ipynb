{
 "cells": [
  {
   "cell_type": "code",
   "execution_count": 35,
   "metadata": {},
   "outputs": [
    {
     "name": "stdout",
     "output_type": "stream",
     "text": [
      "u\n",
      "J\n",
      "J r\n",
      "J\n"
     ]
    }
   ],
   "source": [
    "#Task 1\n",
    "\n",
    "planet_name = \"Jupiter\"\n",
    "\n",
    "print(planet_name[1:2])\n",
    "print(planet_name[0:1])\n",
    "print(planet_name[0:1], planet_name[6:7])\n",
    "print(planet_name[-7:-6])"
   ]
  },
  {
   "cell_type": "code",
   "execution_count": 45,
   "metadata": {},
   "outputs": [
    {
     "name": "stdout",
     "output_type": "stream",
     "text": [
      "Nep\n",
      "tun\n",
      "enutpeN\n"
     ]
    }
   ],
   "source": [
    "# Task 2\n",
    "\n",
    "planet_name = \"Neptune\"\n",
    "\n",
    "print(planet_name[0:3])\n",
    "print(planet_name[3:6])\n",
    "print(planet_name[::-1])"
   ]
  },
  {
   "cell_type": "code",
   "execution_count": 46,
   "metadata": {},
   "outputs": [
    {
     "name": "stdout",
     "output_type": "stream",
     "text": [
      "Python\n"
     ]
    }
   ],
   "source": [
    "wise_words = 'Play it who opens'\n",
    "print(wise_words[0::3])"
   ]
  },
  {
   "cell_type": "code",
   "execution_count": null,
   "metadata": {},
   "outputs": [],
   "source": [
    "# Task 3\n",
    "\n",
    "fav_food = input()\n",
    "\n",
    "for letter in fav_food:\n",
    "    print(letter)"
   ]
  },
  {
   "cell_type": "code",
   "execution_count": null,
   "metadata": {},
   "outputs": [],
   "source": [
    "name = \"Hiroto\"\n",
    "\n",
    "for word in name[0:3]:\n",
    "    print(word)"
   ]
  },
  {
   "cell_type": "code",
   "execution_count": null,
   "metadata": {},
   "outputs": [],
   "source": [
    "name = \"Hiroto\"\n",
    "\n",
    "for word in name[0::2]:\n",
    "    print(word)"
   ]
  },
  {
   "cell_type": "code",
   "execution_count": null,
   "metadata": {},
   "outputs": [],
   "source": [
    "# Task 4\n",
    "\n",
    "first_name = input()\n",
    "new_name = \"\"\n",
    "\n",
    "for character in first_name:\n",
    "    if character.lower() == \"a\":\n",
    "        new_name += \"?\"\n",
    "    else:\n",
    "        new_name += character\n",
    "\n",
    "print(new_name)\n",
    "print(len(new_name))\n"
   ]
  },
  {
   "cell_type": "code",
   "execution_count": null,
   "metadata": {},
   "outputs": [],
   "source": [
    "code_tip = \"code a conditional decision like you would say it\"\n",
    "rangee=0\n",
    "for iterrr in range(len(code_tip)):\n",
    "  if code_tip[iterrr]==\"i\":\n",
    "    print(code_tip.find(\"i\",iterrr))\n",
    "  \n",
    "print(\"##########################\")\n",
    "\n",
    "work_tip = \"Good code is commented code\"\n",
    "print(work_tip.count(\"w\"))\n",
    "print(work_tip.count(\"o\"))\n",
    "print(work_tip.count(\"code\"))\n",
    "print(\"##########################\")"
   ]
  },
  {
   "cell_type": "code",
   "execution_count": null,
   "metadata": {},
   "outputs": [],
   "source": [
    "inp_ph=input(\"enter your phrase: \")\n",
    "w=0\n",
    "n=0\n",
    "word=\" \"\n",
    "spac_loc=inp_ph.find(\" \")\n",
    "print(spac_loc)\n",
    "while spac_loc!=-1:\n",
    "    if inp_ph[n].isalpha():\n",
    "        #print(\"Yes it is alpha\")\n",
    "        if inp_ph[n].lower()>\"g\":\n",
    "            #print(\"Yes it is greater than g\")\n",
    "            while n!=spac_loc:\n",
    "                word=word+inp_ph[n]\n",
    "                n=n+1\n",
    "            print(word)\n",
    "            word=\" \"\n",
    "            n=spac_loc+1\n",
    "            spac_loc=inp_ph.find(\" \",n+1)\n",
    "        else:\n",
    "            n=spac_loc+1\n",
    "            spac_loc=inp_ph.find(\" \",n+1)\n"
   ]
  },
  {
   "cell_type": "code",
   "execution_count": null,
   "metadata": {},
   "outputs": [],
   "source": []
  }
 ],
 "metadata": {
  "kernelspec": {
   "display_name": "Python 3.6",
   "language": "python",
   "name": "python36"
  },
  "language_info": {
   "codemirror_mode": {
    "name": "ipython",
    "version": 3
   },
   "file_extension": ".py",
   "mimetype": "text/x-python",
   "name": "python",
   "nbconvert_exporter": "python",
   "pygments_lexer": "ipython3",
   "version": "3.6.3"
  }
 },
 "nbformat": 4,
 "nbformat_minor": 2
}
