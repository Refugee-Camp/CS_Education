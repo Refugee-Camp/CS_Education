{
  "cells": [
    {
      "metadata": {
        "trusted": true
      },
      "cell_type": "code",
      "source": "#Task 1\n#Order the Rainbow\n# [ ] import https://raw.githubusercontent.com/MicrosoftLearning/intropython/master/rainbow as rainbow.txt\n!curl https://raw.githubusercontent.com/MicrosoftLearning/intropython/master/rainbow -o rainbow.txt",
      "execution_count": 3,
      "outputs": [
        {
          "output_type": "stream",
          "text": "  % Total    % Received % Xferd  Average Speed   Time    Time     Time  Current\n                                 Dload  Upload   Total   Spent    Left  Speed\n100    43  100    43    0     0    132      0 --:--:-- --:--:-- --:--:--   132\n",
          "name": "stdout"
        }
      ]
    },
    {
      "metadata": {
        "trusted": true
      },
      "cell_type": "code",
      "source": "# [ ]  Open rainbow.txt in read mode & read as list with .readlines()\nrainbow = open('rainbow.txt', 'r')\nrainbow_lines = rainbow.readlines()\nprint(rainbow_lines)",
      "execution_count": 4,
      "outputs": [
        {
          "output_type": "stream",
          "text": "['red\\n', 'orange\\n', 'yellow\\n', 'green\\n', 'blue\\n', 'indigo\\n', 'violet\\n']\n",
          "name": "stdout"
        }
      ]
    },
    {
      "metadata": {
        "trusted": true
      },
      "cell_type": "code",
      "source": "# [ ] sort rainbow_colors list, iterate the list to print each color\nrainbow_lines.sort()\nprint(rainbow_lines)\n\ncount = 0\nfor line in rainbow_lines:\n    rainbow_lines[count] = line[:-1]\n    count += 1\nprint(rainbow_lines)\n\nfor line in rainbow_lines:\n    print(line)\n\nrainbow.close()",
      "execution_count": 5,
      "outputs": [
        {
          "output_type": "stream",
          "text": "['blue\\n', 'green\\n', 'indigo\\n', 'orange\\n', 'red\\n', 'violet\\n', 'yellow\\n']\n['blue', 'green', 'indigo', 'orange', 'red', 'violet', 'yellow']\nblue\ngreen\nindigo\norange\nred\nviolet\nyellow\n",
          "name": "stdout"
        }
      ]
    },
    {
      "metadata": {
        "trusted": true
      },
      "cell_type": "code",
      "source": "#Task 2\n#The Weather\n#use !curl to download https://raw.githubusercontent.com/MicrosoftLearning/intropython/master/world_temp_mean.csv as mean_temp.txt\n# [ ] The Weather: import world_mean_team.csv as mean_temp.txt\n!curl https://raw.githubusercontent.com/MicrosoftLearning/intropython/master/world_temp_mean.csv -o mean_temp.txt",
      "execution_count": 7,
      "outputs": [
        {
          "output_type": "stream",
          "text": "  % Total    % Received % Xferd  Average Speed   Time    Time     Time  Current\n                                 Dload  Upload   Total   Spent    Left  Speed\n100   222  100   222    0     0    965      0 --:--:-- --:--:-- --:--:--   969\n",
          "name": "stdout"
        }
      ]
    },
    {
      "metadata": {
        "trusted": true
      },
      "cell_type": "code",
      "source": "# [ ] The Weather: open file, read/print first line, convert line to list (splitting on comma)\nmean_temp = open('mean_temp.txt', 'r')\nheadings = mean_temp.readline()\nprint(headings)\n\nheadings_list = headings.split(',')\nprint(headings_list)",
      "execution_count": 8,
      "outputs": [
        {
          "output_type": "stream",
          "text": "city,country,month ave: highest high,month ave: lowest low\n\n['city', 'country', 'month ave: highest high', 'month ave: lowest low\\n']\n",
          "name": "stdout"
        }
      ]
    },
    {
      "metadata": {
        "trusted": true
      },
      "cell_type": "code",
      "source": "# [ ] The Weather: use while loop to print city and highest monthly average temp in celsius\ncity_temp = mean_temp.readline()\nwhile city_temp:\n    city_temp = city_temp[:-1]\n    new_content = city_temp.split(',')\n    print(new_content)\n    print(\"City:\", new_content[0] + \".\", \"Highest monthly average temperature in Celcius:\", new_content[2])\n    city_temp = mean_temp.readline()\nmean_temp.close()",
      "execution_count": 9,
      "outputs": [
        {
          "output_type": "stream",
          "text": "['Beijing', 'China', '30.9', '-8.4']\nCity: Beijing. Highest monthly average temperature in Celcius: 30.9\n['Cairo', 'Egypt', '34.7', '1.2']\nCity: Cairo. Highest monthly average temperature in Celcius: 34.7\n['London', 'UK', '23.5', '2.1']\nCity: London. Highest monthly average temperature in Celcius: 23.5\n['Nairobi', 'Kenya', '26.3', '10.5']\nCity: Nairobi. Highest monthly average temperature in Celcius: 26.3\n['New York City', 'USA', '28.9', '-2.8']\nCity: New York City. Highest monthly average temperature in Celcius: 28.9\n['Sydney', 'Australia', '26.5', '8.7']\nCity: Sydney. Highest monthly average temperature in Celcius: 26.5\n['Tokyo', 'Japan', '30.8', '0.9']\nCity: Tokyo. Highest monthly average temperature in Celcius: 30.8\n",
          "name": "stdout"
        }
      ]
    },
    {
      "metadata": {
        "trusted": true
      },
      "cell_type": "code",
      "source": "#Task 3\n#Random pi guessing\n# [ ] use curl to download https://raw.githubusercontent.com/MicrosoftLearning/intropython/master/digits_of_pi as pi.txt\n!curl https://raw.githubusercontent.com/MicrosoftLearning/intropython/master/world_temp_mean.csv -o mean_temp.txt",
      "execution_count": 10,
      "outputs": [
        {
          "output_type": "stream",
          "text": "  % Total    % Received % Xferd  Average Speed   Time    Time     Time  Current\n                                 Dload  Upload   Total   Spent    Left  Speed\n100   222  100   222    0     0   1850      0 --:--:-- --:--:-- --:--:--  1850\n",
          "name": "stdout"
        }
      ]
    },
    {
      "metadata": {
        "trusted": true
      },
      "cell_type": "code",
      "source": "# [ ] Set up the project files and initial values\nmean_temp = open('mean_temp.txt', 'a+')\nheadings = mean_temp.write(\"Rio de Janeiro,Brazil,30.0,18.0\\n\")\nmean_temp.seek(0)\nheadings = mean_temp.readline()\nprint(headings)",
      "execution_count": 11,
      "outputs": [
        {
          "output_type": "stream",
          "text": "city,country,month ave: highest high,month ave: lowest low\n\n",
          "name": "stdout"
        }
      ]
    },
    {
      "metadata": {
        "trusted": true
      },
      "cell_type": "code",
      "source": "headings_list = headings.split(',')\nprint(headings_list)",
      "execution_count": 12,
      "outputs": [
        {
          "output_type": "stream",
          "text": "['city', 'country', 'month ave: highest high', 'month ave: lowest low\\n']\n",
          "name": "stdout"
        }
      ]
    },
    {
      "metadata": {
        "trusted": true
      },
      "cell_type": "code",
      "source": "city_temp = mean_temp.readline()\nwhile city_temp:\n    city_temp = city_temp[:-1]\n    new_content = city_temp.split(',')\n    print(new_content)\n    print(\"City:\", new_content[0] + \".\", \"Highest monthly average temperature in Celcius:\", new_content[2])\n    city_temp = mean_temp.readline()\nmean_temp.close()",
      "execution_count": 13,
      "outputs": [
        {
          "output_type": "stream",
          "text": "['Beijing', 'China', '30.9', '-8.4']\nCity: Beijing. Highest monthly average temperature in Celcius: 30.9\n['Cairo', 'Egypt', '34.7', '1.2']\nCity: Cairo. Highest monthly average temperature in Celcius: 34.7\n['London', 'UK', '23.5', '2.1']\nCity: London. Highest monthly average temperature in Celcius: 23.5\n['Nairobi', 'Kenya', '26.3', '10.5']\nCity: Nairobi. Highest monthly average temperature in Celcius: 26.3\n['New York City', 'USA', '28.9', '-2.8']\nCity: New York City. Highest monthly average temperature in Celcius: 28.9\n['Sydney', 'Australia', '26.5', '8.7']\nCity: Sydney. Highest monthly average temperature in Celcius: 26.5\n['Tokyo', 'Japan', '30.8', '0.9']\nCity: Tokyo. Highest monthly average temperature in Celcius: 30.8\n['Rio de Janeiro', 'Brazil', '30.0', '18.0']\nCity: Rio de Janeiro. Highest monthly average temperature in Celcius: 30.0\n",
          "name": "stdout"
        }
      ]
    }
  ],
  "metadata": {
    "kernelspec": {
      "name": "python36",
      "display_name": "Python 3.6",
      "language": "python"
    },
    "language_info": {
      "mimetype": "text/x-python",
      "nbconvert_exporter": "python",
      "name": "python",
      "pygments_lexer": "ipython3",
      "version": "3.6.6",
      "file_extension": ".py",
      "codemirror_mode": {
        "version": 3,
        "name": "ipython"
      }
    }
  },
  "nbformat": 4,
  "nbformat_minor": 2
}