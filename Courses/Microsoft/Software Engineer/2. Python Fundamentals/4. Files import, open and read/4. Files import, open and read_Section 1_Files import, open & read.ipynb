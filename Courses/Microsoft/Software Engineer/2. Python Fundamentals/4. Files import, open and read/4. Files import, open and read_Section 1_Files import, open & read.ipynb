{
  "cells": [
    {
      "metadata": {
        "trusted": true
      },
      "cell_type": "code",
      "source": "!curl https://raw.githubusercontent.com/MicrosoftLearning/intropython/master/poem1.txt -o poem1.txt",
      "execution_count": 1,
      "outputs": [
        {
          "output_type": "stream",
          "text": "  % Total    % Received % Xferd  Average Speed   Time    Time     Time  Current\n                                 Dload  Upload   Total   Spent    Left  Speed\n100    56  100    56    0     0    190      0 --:--:-- --:--:-- --:--:--   191\n",
          "name": "stdout"
        }
      ]
    },
    {
      "metadata": {
        "trusted": true
      },
      "cell_type": "code",
      "source": "poem_file = open('poem1.txt', 'r')\npoem_contents = poem_file.read(10)\npoem_contents",
      "execution_count": 20,
      "outputs": [
        {
          "output_type": "execute_result",
          "execution_count": 20,
          "data": {
            "text/plain": "'Loops I re'"
          },
          "metadata": {}
        }
      ]
    },
    {
      "metadata": {
        "trusted": true
      },
      "cell_type": "code",
      "source": "# [ ] review and run example to read poem1.txt 10 characters at a time\npoem_file = open('poem1.txt', 'r')\npoem_10char = poem_file.read(10)\nprint(poem_10char)\n\npoem_parts = poem_file.read(10)\nprint(poem_parts)\n\npoem_parts += poem_file.read(5)\nprint(poem_parts)",
      "execution_count": 60,
      "outputs": [
        {
          "output_type": "stream",
          "text": "Loops I re\npeat\nloops\npeat\nloops\nloop\n",
          "name": "stdout"
        }
      ]
    },
    {
      "metadata": {
        "trusted": true
      },
      "cell_type": "code",
      "source": "!curl https://raw.githubusercontent.com/MicrosoftLearning/intropython/master/cities -o cities.txt",
      "execution_count": 49,
      "outputs": [
        {
          "output_type": "stream",
          "text": "  % Total    % Received % Xferd  Average Speed   Time    Time     Time  Current\n                                 Dload  Upload   Total   Spent    Left  Speed\n100    56  100    56    0     0    228      0 --:--:-- --:--:-- --:--:--   228\n",
          "name": "stdout"
        }
      ]
    },
    {
      "metadata": {
        "trusted": true
      },
      "cell_type": "code",
      "source": "cities_file = open('cities.txt', 'r')\ncities_content = cities_file.read()\n\nprint(cities_content)\n\ninit=''\n\nfor letter in cities_content:\n    if letter.isupper():\n        init += letter\n    elif letter == '\\n':\n        init += letter\n    else:\n        pass\nprint(init)",
      "execution_count": 6,
      "outputs": [
        {
          "output_type": "stream",
          "text": "Beijing\nCairo\nLondon\nNairobi\nNew York City\nSydney\nTokyo\n\nB\nC\nL\nN\nNYC\nS\nT\n\n",
          "name": "stdout"
        }
      ]
    },
    {
      "metadata": {
        "trusted": true
      },
      "cell_type": "code",
      "source": "!curl https://raw.githubusercontent.com/MicrosoftLearning/intropython/master/digits_of_pi -o digits_of_pi.txt",
      "execution_count": 62,
      "outputs": [
        {
          "output_type": "stream",
          "text": "  % Total    % Received % Xferd  Average Speed   Time    Time     Time  Current\n                                 Dload  Upload   Total   Spent    Left  Speed\n100   303  100   303    0     0     97      0  0:00:03  0:00:03 --:--:--    97\n159265358\n",
          "name": "stdout"
        }
      ]
    },
    {
      "metadata": {
        "trusted": true
      },
      "cell_type": "code",
      "source": "pi = open('digits_of_pi.txt', 'r')\npi_read = pi.read(4)\n\npi_digits = pi.read(4)",
      "execution_count": 80,
      "outputs": [
        {
          "output_type": "stream",
          "text": "15926535\n",
          "name": "stdout"
        }
      ]
    },
    {
      "metadata": {
        "trusted": true
      },
      "cell_type": "code",
      "source": "pi_digits += pi.read(4)\nprint(pi_digits)",
      "execution_count": 87,
      "outputs": [
        {
          "output_type": "stream",
          "text": "15926535897932384626433832795028\n",
          "name": "stdout"
        }
      ]
    },
    {
      "metadata": {
        "trusted": true
      },
      "cell_type": "code",
      "source": "",
      "execution_count": null,
      "outputs": []
    }
  ],
  "metadata": {
    "kernelspec": {
      "name": "python36",
      "display_name": "Python 3.6",
      "language": "python"
    },
    "language_info": {
      "mimetype": "text/x-python",
      "nbconvert_exporter": "python",
      "name": "python",
      "pygments_lexer": "ipython3",
      "version": "3.6.6",
      "file_extension": ".py",
      "codemirror_mode": {
        "version": 3,
        "name": "ipython"
      }
    }
  },
  "nbformat": 4,
  "nbformat_minor": 2
}