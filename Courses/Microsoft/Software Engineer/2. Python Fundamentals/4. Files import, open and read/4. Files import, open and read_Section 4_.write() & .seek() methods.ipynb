{
  "cells": [
    {
      "metadata": {
        "trusted": true
      },
      "cell_type": "code",
      "source": "#Task 1\n#create a local file\n#open in 'w' mode\n# [ ] open planets.txt in write mode\ninner_planets = open('inner_planets.txt', 'w')",
      "execution_count": 3,
      "outputs": []
    },
    {
      "metadata": {
        "trusted": true
      },
      "cell_type": "code",
      "source": "# [ ] write Mercury, Venus, Earth, Mars on separate lines\ninner_planets.write(\"Mercury\\nVenus\\nEarth\\nMars\")",
      "execution_count": 4,
      "outputs": [
        {
          "output_type": "execute_result",
          "execution_count": 4,
          "data": {
            "text/plain": "24"
          },
          "metadata": {}
        }
      ]
    },
    {
      "metadata": {
        "trusted": true
      },
      "cell_type": "code",
      "source": "# [ ] close the file and re-open in read mode\ninner_planets.close()\ninner_planets = open('inner_planets.txt', 'r')",
      "execution_count": 5,
      "outputs": []
    },
    {
      "metadata": {
        "trusted": true
      },
      "cell_type": "code",
      "source": "# [ ] use .read() to read the entire file contents\nplanets_names = inner_planets.read()",
      "execution_count": 6,
      "outputs": []
    },
    {
      "metadata": {
        "trusted": true
      },
      "cell_type": "code",
      "source": "# [ ] print the entire file contents and close the file\nprint(planets_names)",
      "execution_count": 7,
      "outputs": [
        {
          "output_type": "stream",
          "text": "Mercury\nVenus\nEarth\nMars\n",
          "name": "stdout"
        }
      ]
    },
    {
      "metadata": {
        "trusted": true
      },
      "cell_type": "code",
      "source": "#Task 2\n#using .seek(0) on a local file in write plus read mode 'w+'\n# [ ] open outer_planets.txt in write mode 'w+' \nouter_planets=open('outer_planets.txt','w+')\nouter_planets.write('Jupiter\\nSaturn\\nUranus\\nNeptune')\nouter_planets.seek(0)\nplanet_names=outer_planets.read()\nprint(planet_names)\nouter_planets.close()",
      "execution_count": 8,
      "outputs": [
        {
          "output_type": "stream",
          "text": "Jupiter\nSaturn\nUranus\nNeptune\n",
          "name": "stdout"
        }
      ]
    },
    {
      "metadata": {
        "trusted": true
      },
      "cell_type": "code",
      "source": "# [ ] write four outer planets in earth's solar system (Jupiter, Saturn, Uranus, Neptune) on separate lines\n# [ ] use .seek() to move the pointer to the start of the file\n# [ ] use .read() to read the entire file contents\n# [ ] print the entire file contents and close the file\n\nouter_planets=open('outer_planets.txt','r')\nplanet_names=outer_planets.readlines()\nfor name in planet_names:\n    print(name.strip('\\n'))\nouter_planets.close()",
      "execution_count": 12,
      "outputs": [
        {
          "output_type": "stream",
          "text": "Jupiter\nSaturn\nUranus\nNeptune\n",
          "name": "stdout"
        }
      ]
    },
    {
      "metadata": {
        "trusted": true
      },
      "cell_type": "code",
      "source": "#Task 3\n#seek() with optional whence argument\n# [ ] open a new file days.txt in write plus read mode 'w+' \n# [ ] write week days (Monday - Friday) on separate lines to the file\ndays = open('days.txt','w+')\ndays.write('Monday\\nTuesday\\nWednesday\\nThursday\\nFriday')",
      "execution_count": 75,
      "outputs": [
        {
          "output_type": "execute_result",
          "execution_count": 75,
          "data": {
            "text/plain": "40"
          },
          "metadata": {}
        }
      ]
    },
    {
      "metadata": {
        "trusted": true
      },
      "cell_type": "code",
      "source": "# [ ] use .seek() to move the pointer to the start of the file\n# [ ] use .read() to read the entire file contents\n# [ ] print the entire file contents and close the file\ndays.seek(0)\ndays_names = days.read()\nprint(days_names)",
      "execution_count": 76,
      "outputs": [
        {
          "output_type": "stream",
          "text": "Monday\nTuesday\nWednesday\nThursday\nFriday\n",
          "name": "stdout"
        }
      ]
    },
    {
      "metadata": {
        "trusted": true
      },
      "cell_type": "code",
      "source": "# [ ] use .seek() to move the pointer to the end of the file\n# [ ] write the weekend days (Saturday & Sunday)\ndays.write('\\nSaturday\\nSunday')\ndays.seek(2)\ndays_names = days.read()\nprint(days_names)",
      "execution_count": 77,
      "outputs": [
        {
          "output_type": "stream",
          "text": "nday\nTuesday\nWednesday\nThursday\nFriday\nSaturday\nSunday\n",
          "name": "stdout"
        }
      ]
    },
    {
      "metadata": {
        "trusted": true
      },
      "cell_type": "code",
      "source": "# [ ] use .seek() to move the pointer to the start of the file\n# [ ] use .read() to read the entire file contents\n# [ ] print the entire file contents and close the file\ndays.seek(0)\ndays_names = days.read()\nprint(days_names)",
      "execution_count": 79,
      "outputs": [
        {
          "output_type": "stream",
          "text": "Monday\nTuesday\nWednesday\nThursday\nFriday\nSaturday\nSunday\n",
          "name": "stdout"
        }
      ]
    },
    {
      "metadata": {
        "trusted": true
      },
      "cell_type": "code",
      "source": "#Task 4\n#append\n# [ ] complete the task  \n# Provided Code creates and populates task4_file.txt  \ntask4_file = open('task4_file.txt', 'w+')\ntask4_file.write(\"Line1\\nLine2\\nLine3\\n\")\ntask4_file.close()\n\ndef logger(log):\n    log_entry = input(\"enter log item (hit enter to quit): \")\n    count = 0\n\n    while log_entry:\n        count += 1\n        log.write(str(count) + \": \" + log_entry + \"\\n\")\n        log_entry = input(\"enter log item (hit enter to quit): \")\n        \n    return count\n\ntask4_file = open('task4_file.txt', 'w+')\ntask4_file.close()\n\n\ntask4_file = open('task4_file', 'a+')\nlogger(task4_file)    \ntask4_file.seek(0)\ntask4_text = task4_file.read()\nprint(task4_text)\ntask4_file.close()",
      "execution_count": 82,
      "outputs": [
        {
          "output_type": "stream",
          "name": "stdout",
          "text": "enter log item (enter to quit): test\nenter log item (enter to quit): test2\nenter log item (enter to quit): test3\nenter log item (enter to quit): quit\nenter log item (enter to quit): \n1: test\n2: test2\n3: test3\n4: quit\n\n"
        }
      ]
    },
    {
      "metadata": {
        "trusted": true
      },
      "cell_type": "code",
      "source": "#Task 5\n#read plus (r+) mode\n# Provided Code creates and populates task5_file.txt\ntask5_file = open('task5_file.txt', 'w+')\ntask5_file.write(\"Line---1\\nLine---2\\nLine---3\\nLine---4\\nLine---5\\nLine---6\\nLine---7\\nLine---8\\nLine---9\\nLine--10\\n\")\ntask5_file.seek(0)\nprint(\"Before:\\n\"+ task5_file.read()+\"\\n\")\ntask5_file.close()",
      "execution_count": 85,
      "outputs": [
        {
          "output_type": "stream",
          "text": "Before:\nLine---1\nLine---2\nLine---3\nLine---4\nLine---5\nLine---6\nLine---7\nLine---8\nLine---9\nLine--10\n\n\n",
          "name": "stdout"
        }
      ]
    },
    {
      "metadata": {
        "trusted": true
      },
      "cell_type": "code",
      "source": "task5_file = open(\"task5_file.txt\", \"w+\")\ntask5_file.write(\"Count is: 0\")\ntask5_file.seek(0)\nprint(task5_file.readline().strip())\ntask5_file.close()",
      "execution_count": 104,
      "outputs": [
        {
          "output_type": "stream",
          "text": "Count is: 0\n",
          "name": "stdout"
        }
      ]
    },
    {
      "metadata": {
        "trusted": true
      },
      "cell_type": "code",
      "source": "task5_file = open(\"task5_file.txt\", \"r+\")\ntask5_file.seek(0)\ntask5_line = task5_file.readline().strip()\nprint(\"BEFORE\\n\" + task5_line)\n\ncount = int(task5_line[10:])+1",
      "execution_count": 105,
      "outputs": [
        {
          "output_type": "stream",
          "text": "BEFORE\nCount is: 0\n",
          "name": "stdout"
        }
      ]
    },
    {
      "metadata": {
        "trusted": true
      },
      "cell_type": "code",
      "source": "# write the incremented value to the file - overwrite before value\ntask5_file.seek(10)\ntask5_file.write(str(count))\n\ntask5_file.seek(0)\nprint(\"\\nAFTER\\n\" + task5_file.readline().strip())\n\ntask5_file.close()",
      "execution_count": 106,
      "outputs": [
        {
          "output_type": "stream",
          "text": "\nAFTER\nCount is: 1\n",
          "name": "stdout"
        }
      ]
    },
    {
      "metadata": {
        "trusted": true
      },
      "cell_type": "code",
      "source": "# [ ]  review funtion code for inc_count() funtion that reads file and updates the count\n# the file always has 1 line that is The count is: N, where N is an integer\n\ndef inc_count(task5_file):\n    task5_file.seek(0,0)\n    task5_line = task5_file.readline().strip()\n    cnt = int(task5_line[10:])+1\n    task5_file.seek(10,0)\n    task5_file.write(str(cnt))\n    return cnt",
      "execution_count": 114,
      "outputs": []
    },
    {
      "metadata": {
        "trusted": true
      },
      "cell_type": "code",
      "source": "# [ ] review and run example with call to function: inc_count() - **Run cell multiple times**\n# opens file/prints initial value\ntask5_file = open(\"task5_file.txt\", \"r+\")\n\ntask5_file.seek(0)\ntask5_line = task5_file.readline().strip()\nprint(\"BEFORE\\n\" + task5_line)",
      "execution_count": 115,
      "outputs": [
        {
          "output_type": "stream",
          "text": "BEFORE\nCount is: 1\n",
          "name": "stdout"
        }
      ]
    },
    {
      "metadata": {
        "trusted": true
      },
      "cell_type": "code",
      "source": "# call inc_count() to increase the count 5 times\nfor i in range(5):\n    count = inc_count(task5_file)\n    task5_file.seek(0)\n    print(\"\\nAFTER inc_count() call\", i+1, \"\\n\" + task5_file.readline().strip())\n\ntask5_file.close()",
      "execution_count": 116,
      "outputs": [
        {
          "output_type": "stream",
          "text": "\nAFTER inc_count() call 1 \nCount is: 2\n\nAFTER inc_count() call 2 \nCount is: 3\n\nAFTER inc_count() call 3 \nCount is: 4\n\nAFTER inc_count() call 4 \nCount is: 5\n\nAFTER inc_count() call 5 \nCount is: 6\n",
          "name": "stdout"
        }
      ]
    }
  ],
  "metadata": {
    "kernelspec": {
      "name": "python36",
      "display_name": "Python 3.6",
      "language": "python"
    },
    "language_info": {
      "mimetype": "text/x-python",
      "nbconvert_exporter": "python",
      "name": "python",
      "pygments_lexer": "ipython3",
      "version": "3.6.6",
      "file_extension": ".py",
      "codemirror_mode": {
        "version": 3,
        "name": "ipython"
      }
    }
  },
  "nbformat": 4,
  "nbformat_minor": 2
}