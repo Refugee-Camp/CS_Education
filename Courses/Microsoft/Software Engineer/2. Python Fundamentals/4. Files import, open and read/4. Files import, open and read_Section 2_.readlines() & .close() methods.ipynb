{
  "cells": [
    {
      "metadata": {
        "trusted": true
      },
      "cell_type": "code",
      "source": "!curl https://raw.githubusercontent.com/MicrosoftLearning/intropython/master/poem1.txt -o poem1.txt",
      "execution_count": 1,
      "outputs": [
        {
          "output_type": "stream",
          "text": "  % Total    % Received % Xferd  Average Speed   Time    Time     Time  Current\n                                 Dload  Upload   Total   Spent    Left  Speed\n100    56  100    56    0     0    222      0 --:--:-- --:--:-- --:--:--   224\n",
          "name": "stdout"
        }
      ]
    },
    {
      "metadata": {
        "trusted": true
      },
      "cell_type": "code",
      "source": "poem = open('poem1.txt', 'r')\npoem_lines = poem.readlines()\npoem_lines\n\nfor line in poem_lines:\n    print(line)",
      "execution_count": 19,
      "outputs": [
        {
          "output_type": "stream",
          "text": "Loops I repeat\n\nloops\n\nloops\n\nloops\n\nI repeat\n\nuntil I\n\nbreak\n\n",
          "name": "stdout"
        }
      ]
    },
    {
      "metadata": {
        "trusted": true
      },
      "cell_type": "code",
      "source": "count = 0\n\nfor line in poem_lines:\n    poem_lines[count] = line[:-1]\n    count += 1\n\nprint(poem_lines)",
      "execution_count": 20,
      "outputs": [
        {
          "output_type": "stream",
          "text": "['Loops I repeat', 'loops', 'loops', 'loops', 'I repeat', 'until I', 'break']\n",
          "name": "stdout"
        }
      ]
    },
    {
      "metadata": {
        "trusted": true
      },
      "cell_type": "code",
      "source": "for line in poem_lines:\n    print(line)",
      "execution_count": 21,
      "outputs": [
        {
          "output_type": "stream",
          "text": "Loops I repeat\nloops\nloops\nloops\nI repeat\nuntil I\nbreak\n",
          "name": "stdout"
        }
      ]
    },
    {
      "metadata": {
        "trusted": true
      },
      "cell_type": "code",
      "source": "# Task 1\n# [ ] import cities\n!curl https://raw.githubusercontent.com/MicrosoftLearning/intropython/master/cities -o cities.txt",
      "execution_count": 6,
      "outputs": [
        {
          "output_type": "stream",
          "text": "  % Total    % Received % Xferd  Average Speed   Time    Time     Time  Current\n                                 Dload  Upload   Total   Spent    Left  Speed\n100    56  100    56    0     0    260      0 --:--:-- --:--:-- --:--:--   259\n",
          "name": "stdout"
        }
      ]
    },
    {
      "metadata": {
        "trusted": true
      },
      "cell_type": "code",
      "source": "# [ ] open cities.txt as cities_file and read the file as a list: cities_lines\ncities_file = open('cities.txt','r')\ncities_lines = cities_file.readlines()\n\ncities_lines",
      "execution_count": 25,
      "outputs": [
        {
          "output_type": "execute_result",
          "execution_count": 25,
          "data": {
            "text/plain": "['Beijing\\n',\n 'Cairo\\n',\n 'London\\n',\n 'Nairobi\\n',\n 'New York City\\n',\n 'Sydney\\n',\n 'Tokyo\\n']"
          },
          "metadata": {}
        }
      ]
    },
    {
      "metadata": {
        "trusted": true
      },
      "cell_type": "code",
      "source": "# [ ] remove the last character, \"\\n\", of each cities_lines list item \ncount = 0\n\nfor line in cities_lines:\n    cities_lines[count] = line[:-1]\n    count += 1\n\nprint(cities_lines)\n\n# [ ] use list iteration to print each city in cities_lines list\nfor city in cities_lines:\n    print(city)",
      "execution_count": 22,
      "outputs": [
        {
          "output_type": "stream",
          "text": "['Beijing', 'Cairo', 'London', 'Nairobi', 'New York City', 'Sydney', 'Tokyo']\nBeijing\nCairo\nLondon\nNairobi\nNew York City\nSydney\nTokyo\n",
          "name": "stdout"
        }
      ]
    },
    {
      "metadata": {
        "trusted": true
      },
      "cell_type": "code",
      "source": "# [ ] close cities_file\ncities_file.close()",
      "execution_count": 26,
      "outputs": []
    },
    {
      "metadata": {
        "trusted": true
      },
      "cell_type": "code",
      "source": "#Task 4\n#readlines() poem2\n#write each item in its own cell",
      "execution_count": 27,
      "outputs": []
    },
    {
      "metadata": {
        "trusted": true
      },
      "cell_type": "code",
      "source": "#import https://raw.githubusercontent.com/MicrosoftLearning/intropython/master/poem2.txt as poem2.txt\n!curl https://raw.githubusercontent.com/MicrosoftLearning/intropython/master/poem2.txt -o poem2.txt",
      "execution_count": 46,
      "outputs": [
        {
          "output_type": "stream",
          "text": "  % Total    % Received % Xferd  Average Speed   Time    Time     Time  Current\n                                 Dload  Upload   Total   Spent    Left  Speed\n100    57  100    57    0     0     65      0 --:--:-- --:--:-- --:--:--    65\n",
          "name": "stdout"
        }
      ]
    },
    {
      "metadata": {
        "trusted": true
      },
      "cell_type": "code",
      "source": "#open poem2.txt as poem2_file in read mode\npoem2 = open('poem2.txt','r')",
      "execution_count": 47,
      "outputs": []
    },
    {
      "metadata": {
        "trusted": true
      },
      "cell_type": "code",
      "source": "#create a list of strings, called poem2_lines, from each line of poem2_text (use .readlines())\npoem2_lines = poem2.readlines()",
      "execution_count": 48,
      "outputs": []
    },
    {
      "metadata": {
        "trusted": true
      },
      "cell_type": "code",
      "source": "#remove the newline character for each list item in poem2_lines\ncount = 0\n\nfor line in poem2_lines:\n    poem2_lines[count] = line[:-1]\n    count += 1\n    \nfor poem in poem2_lines:\n    print(poem)",
      "execution_count": 49,
      "outputs": [
        {
          "output_type": "stream",
          "text": "while True\nI loop\nTrue\nloop\nTrue\nloop\nnot True\nFalse\nend\n",
          "name": "stdout"
        }
      ]
    },
    {
      "metadata": {
        "trusted": true
      },
      "cell_type": "code",
      "source": "#print the poem2 lines in reverse order\nfor line in reversed(poem2_lines):\n    print(line)",
      "execution_count": 50,
      "outputs": [
        {
          "output_type": "stream",
          "text": "end\nFalse\nnot True\nloop\nTrue\nloop\nTrue\nI loop\nwhile True\n",
          "name": "stdout"
        }
      ]
    },
    {
      "metadata": {
        "trusted": true
      },
      "cell_type": "code",
      "source": "# [ ] close cities_file\npoem2.close()",
      "execution_count": 51,
      "outputs": []
    }
  ],
  "metadata": {
    "kernelspec": {
      "name": "python36",
      "display_name": "Python 3.6",
      "language": "python"
    },
    "language_info": {
      "mimetype": "text/x-python",
      "nbconvert_exporter": "python",
      "name": "python",
      "pygments_lexer": "ipython3",
      "version": "3.6.6",
      "file_extension": ".py",
      "codemirror_mode": {
        "version": 3,
        "name": "ipython"
      }
    }
  },
  "nbformat": 4,
  "nbformat_minor": 2
}