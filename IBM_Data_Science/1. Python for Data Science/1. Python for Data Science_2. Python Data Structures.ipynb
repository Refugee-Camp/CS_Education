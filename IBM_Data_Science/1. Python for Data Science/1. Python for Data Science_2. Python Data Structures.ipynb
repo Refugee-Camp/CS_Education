{
  "cells": [
    {
      "metadata": {
        "collapsed": true,
        "trusted": false
      },
      "cell_type": "markdown",
      "source": "# LISTS AND TUPLES"
    },
    {
      "metadata": {
        "trusted": true
      },
      "cell_type": "code",
      "source": "# Tuples: Is a an ordered sequence\n\nraiting = (1,2,3,4,6,8,3,5,1,29, 'word')\n\nraiting[-1]\n",
      "execution_count": 29,
      "outputs": [
        {
          "output_type": "execute_result",
          "execution_count": 29,
          "data": {
            "text/plain": "2"
          },
          "metadata": {}
        }
      ]
    },
    {
      "metadata": {
        "trusted": true
      },
      "cell_type": "code",
      "source": "raiting1 = raiting + ('sleep', 'bread')\nprint(raiting1)",
      "execution_count": 8,
      "outputs": [
        {
          "output_type": "stream",
          "text": "(1, 2, 3, 4, 6, 8, 3, 5, 1, 29, 'word', 'sleep', 'bread')\n",
          "name": "stdout"
        }
      ]
    },
    {
      "metadata": {
        "trusted": true
      },
      "cell_type": "code",
      "source": "raiting = (1,2,3,4,6,8,3,5,1,29)\nraiting_sorted = sorted(raiting)\nprint(raiting_sorted)",
      "execution_count": 14,
      "outputs": [
        {
          "output_type": "stream",
          "text": "[1, 1, 2, 3, 3, 4, 5, 6, 8, 29]\n",
          "name": "stdout"
        }
      ]
    },
    {
      "metadata": {
        "trusted": true
      },
      "cell_type": "code",
      "source": "# Tuples nesting\n\nTP = (1, 2, ('word1','word2'),4,5,('word3','word4'),7,8)\nprint(TP[2])\nprint(TP[2][1])",
      "execution_count": 37,
      "outputs": [
        {
          "output_type": "stream",
          "text": "('word1', 'word2')\nword2\n",
          "name": "stdout"
        }
      ]
    },
    {
      "metadata": {
        "trusted": true
      },
      "cell_type": "code",
      "source": "# Lists\n\nl = ['word1',1,2,3,[2,4],5,('a',5)]\nprint(l)\nprint(l[2])\nprint(l[4][1])\nprint(l[4:7])\n\nl.extend(['word2',2])\nprint(l)\nl.append([9,7])\nprint(l)\n\nl[0] = 'Word'\nprint(l)\n\ndel(l[0])\nprint(l)",
      "execution_count": 54,
      "outputs": [
        {
          "output_type": "stream",
          "text": "['word1', 1, 2, 3, [2, 4], 5, ('a', 5)]\n2\n4\n[[2, 4], 5, ('a', 5)]\n['word1', 1, 2, 3, [2, 4], 5, ('a', 5), 'word2', 2]\n['word1', 1, 2, 3, [2, 4], 5, ('a', 5), 'word2', 2, [9, 7]]\n['Word', 1, 2, 3, [2, 4], 5, ('a', 5), 'word2', 2, [9, 7]]\n[1, 2, 3, [2, 4], 5, ('a', 5), 'word2', 2, [9, 7]]\n",
          "name": "stdout"
        }
      ]
    },
    {
      "metadata": {
        "trusted": true
      },
      "cell_type": "code",
      "source": "a = 'word another word many words'\nprint(a.split())\n\nb=a[:]\nprint(b)",
      "execution_count": 1,
      "outputs": [
        {
          "output_type": "stream",
          "text": "['word', 'another', 'word', 'many', 'words']\nword another word many words\n",
          "name": "stdout"
        }
      ]
    },
    {
      "metadata": {
        "trusted": true
      },
      "cell_type": "markdown",
      "source": "# SETS "
    },
    {
      "metadata": {
        "trusted": true
      },
      "cell_type": "code",
      "source": "# Sets is a type of collection (similar as lists and tuples)\n# Set are not ordered, threr is no indexing\n# There is no duplicats in a set\n\nset1={'word1', 'word2', 'word3', 'word1'}\nset1\n\na = 'word another word many words'\nb = list(a.split())\nc = set(b)\nc",
      "execution_count": 14,
      "outputs": [
        {
          "output_type": "execute_result",
          "execution_count": 14,
          "data": {
            "text/plain": "{'another', 'many', 'word', 'words'}"
          },
          "metadata": {}
        }
      ]
    },
    {
      "metadata": {
        "trusted": true
      },
      "cell_type": "code",
      "source": "# Set operators\n\na = {'word1', 'word2', 'word3'}\na.add('word4')\na\n",
      "execution_count": 19,
      "outputs": [
        {
          "output_type": "execute_result",
          "execution_count": 19,
          "data": {
            "text/plain": "{'word1', 'word2', 'word3', 'word4'}"
          },
          "metadata": {}
        }
      ]
    },
    {
      "metadata": {
        "trusted": true
      },
      "cell_type": "code",
      "source": "a = {'word1', 'word2', 'word3'}\na.remove('word1')\na",
      "execution_count": 20,
      "outputs": [
        {
          "output_type": "execute_result",
          "execution_count": 20,
          "data": {
            "text/plain": "{'word2', 'word3'}"
          },
          "metadata": {}
        }
      ]
    },
    {
      "metadata": {
        "trusted": true
      },
      "cell_type": "code",
      "source": "a = {'word1', 'word2', 'word3'}\n'word1' in a",
      "execution_count": 21,
      "outputs": [
        {
          "output_type": "execute_result",
          "execution_count": 21,
          "data": {
            "text/plain": "True"
          },
          "metadata": {}
        }
      ]
    },
    {
      "metadata": {
        "trusted": true
      },
      "cell_type": "code",
      "source": "a = {'word1', 'word2', 'word3'}\nb = {'word1', 'word2', 'word3', 'word4'}\nc = a&b\nc",
      "execution_count": 24,
      "outputs": [
        {
          "output_type": "execute_result",
          "execution_count": 24,
          "data": {
            "text/plain": "{'word1', 'word2', 'word3'}"
          },
          "metadata": {}
        }
      ]
    },
    {
      "metadata": {
        "trusted": true
      },
      "cell_type": "code",
      "source": "a = {'word1', 'word2', 'word3'}\nb = {'word1', 'word2', 'word3', 'word4'}\na.union(b)",
      "execution_count": 25,
      "outputs": [
        {
          "output_type": "execute_result",
          "execution_count": 25,
          "data": {
            "text/plain": "{'word1', 'word2', 'word3', 'word4'}"
          },
          "metadata": {}
        }
      ]
    },
    {
      "metadata": {
        "trusted": true
      },
      "cell_type": "code",
      "source": "a = {'word1', 'word2', 'word3'}\nb = {'word1', 'word2', 'word3', 'word4'}\nb.issubset(a)",
      "execution_count": 28,
      "outputs": [
        {
          "output_type": "execute_result",
          "execution_count": 28,
          "data": {
            "text/plain": "False"
          },
          "metadata": {}
        }
      ]
    },
    {
      "metadata": {},
      "cell_type": "markdown",
      "source": "# Dictionaries"
    },
    {
      "metadata": {
        "trusted": true
      },
      "cell_type": "code",
      "source": "# Dictionaries is a type of collection\n# They have keys and values\n\ndict1 = {'word1': 1, 'word2': 2, 'word3': 3}\ndict1['word1']",
      "execution_count": 38,
      "outputs": []
    },
    {
      "metadata": {
        "trusted": true
      },
      "cell_type": "code",
      "source": "dict1['word4'] = 4\ndict1",
      "execution_count": 39,
      "outputs": [
        {
          "output_type": "execute_result",
          "execution_count": 39,
          "data": {
            "text/plain": "{'word1': 1, 'word2': 2, 'word3': 3, 'word4': 4}"
          },
          "metadata": {}
        }
      ]
    },
    {
      "metadata": {
        "trusted": true
      },
      "cell_type": "code",
      "source": "del(dict1['word1'])\ndict1",
      "execution_count": 40,
      "outputs": [
        {
          "output_type": "execute_result",
          "execution_count": 40,
          "data": {
            "text/plain": "{'word2': 2, 'word3': 3, 'word4': 4}"
          },
          "metadata": {}
        }
      ]
    },
    {
      "metadata": {
        "trusted": true
      },
      "cell_type": "code",
      "source": "'word2' in dict1",
      "execution_count": 41,
      "outputs": [
        {
          "output_type": "execute_result",
          "execution_count": 41,
          "data": {
            "text/plain": "True"
          },
          "metadata": {}
        }
      ]
    },
    {
      "metadata": {
        "trusted": true
      },
      "cell_type": "code",
      "source": "dict1.keys()",
      "execution_count": 44,
      "outputs": [
        {
          "output_type": "execute_result",
          "execution_count": 44,
          "data": {
            "text/plain": "dict_keys(['word2', 'word3', 'word4'])"
          },
          "metadata": {}
        }
      ]
    },
    {
      "metadata": {
        "trusted": true
      },
      "cell_type": "code",
      "source": "dict1.values()",
      "execution_count": 45,
      "outputs": [
        {
          "output_type": "execute_result",
          "execution_count": 45,
          "data": {
            "text/plain": "dict_values([2, 3, 4])"
          },
          "metadata": {}
        }
      ]
    }
  ],
  "metadata": {
    "kernelspec": {
      "name": "python36",
      "display_name": "Python 3.6",
      "language": "python"
    },
    "language_info": {
      "mimetype": "text/x-python",
      "nbconvert_exporter": "python",
      "name": "python",
      "pygments_lexer": "ipython3",
      "version": "3.6.6",
      "file_extension": ".py",
      "codemirror_mode": {
        "version": 3,
        "name": "ipython"
      }
    }
  },
  "nbformat": 4,
  "nbformat_minor": 2
}